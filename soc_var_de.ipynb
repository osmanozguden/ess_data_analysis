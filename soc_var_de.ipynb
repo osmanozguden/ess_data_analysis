{
 "cells": [
  {
   "cell_type": "code",
   "execution_count": 1,
   "metadata": {},
   "outputs": [],
   "source": [
    "import pandas as pd\n",
    "import numpy as np\n",
    "\n",
    "import seaborn as sns\n",
    "import matplotlib.pyplot as plt"
   ]
  },
  {
   "cell_type": "code",
   "execution_count": 2,
   "metadata": {},
   "outputs": [],
   "source": [
    "ess_de_org = pd.read_csv(\"ESS_R8_Germany.csv\")"
   ]
  },
  {
   "cell_type": "code",
   "execution_count": 3,
   "metadata": {},
   "outputs": [],
   "source": [
    "ess_de = ess_de_org.copy()"
   ]
  },
  {
   "cell_type": "markdown",
   "metadata": {},
   "source": [
    "PRE-PROCESSING"
   ]
  },
  {
   "cell_type": "markdown",
   "metadata": {},
   "source": [
    "I preprocessed only the social variables in this notebook. For the political and social variables, I will use another notebook."
   ]
  },
  {
   "cell_type": "markdown",
   "metadata": {},
   "source": [
    "1 - ppltrst"
   ]
  },
  {
   "cell_type": "code",
   "execution_count": 4,
   "metadata": {},
   "outputs": [
    {
     "name": "stdout",
     "output_type": "stream",
     "text": [
      "5     604\n",
      "7     501\n",
      "6     377\n",
      "8     333\n",
      "4     326\n",
      "3     274\n",
      "2     145\n",
      "0     122\n",
      "9      65\n",
      "10     55\n",
      "1      46\n",
      "88      3\n",
      "77      1\n",
      "Name: ppltrst, dtype: int64\n"
     ]
    },
    {
     "data": {
      "image/png": "[encoded data removed]",
      "text/plain": [
       "<Figure size 432x288 with 1 Axes>"
      ]
     },
     "metadata": {
      "needs_background": "light"
     },
     "output_type": "display_data"
    }
   ],
   "source": [
    "print(ess_de['ppltrst'].value_counts())\n",
    "sns.countplot(x='ppltrst', data=ess_de, palette='Set2')\n",
    "plt.show()"
   ]
  },
  {
   "cell_type": "code",
   "execution_count": 5,
   "metadata": {},
   "outputs": [],
   "source": [
    "ess_de['ppltrst'] = ess_de['ppltrst'].replace([88, 77], 5)"
   ]
  },
  {
   "cell_type": "code",
   "execution_count": 6,
   "metadata": {},
   "outputs": [],
   "source": [
    "ess_de['ppltrst'] = ess_de['ppltrst'].replace([1, 2, 3, 4], 0)"
   ]
  },
  {
   "cell_type": "code",
   "execution_count": 7,
   "metadata": {},
   "outputs": [],
   "source": [
    "ess_de['ppltrst'] = ess_de['ppltrst'].replace([6, 7, 8, 9, 10], 1)"
   ]
  },
  {
   "cell_type": "code",
   "execution_count": 8,
   "metadata": {},
   "outputs": [
    {
     "name": "stdout",
     "output_type": "stream",
     "text": [
      "1    1331\n",
      "0     913\n",
      "5     608\n",
      "Name: ppltrst, dtype: int64\n"
     ]
    },
    {
     "data": {
      "image/png": "[encoded data removed]",
      "text/plain": [
       "<Figure size 432x288 with 1 Axes>"
      ]
     },
     "metadata": {
      "needs_background": "light"
     },
     "output_type": "display_data"
    }
   ],
   "source": [
    "print(ess_de['ppltrst'].value_counts())\n",
    "sns.countplot(x='ppltrst', data=ess_de, palette='Set2')\n",
    "plt.show()"
   ]
  },
  {
   "cell_type": "code",
   "execution_count": 9,
   "metadata": {},
   "outputs": [],
   "source": [
    "num_fives = (ess_de['ppltrst'] == 5).sum()\n",
    "\n",
    "# calculate the number of 5 values to replace with 0 and 1\n",
    "num_replace_zero = num_fives // 2\n",
    "num_replace_one = num_fives - num_replace_zero\n",
    "\n",
    "# get the indices of the 5 values to replace\n",
    "replace_indices_zero = np.random.choice(ess_de[ess_de['ppltrst'] == 5].index, num_replace_zero, replace=False)\n",
    "replace_indices_one = np.random.choice(ess_de[ess_de['ppltrst'] == 5].index, num_replace_one, replace=False)\n",
    "\n",
    "# replace the 5 values with 0 and 1\n",
    "ess_de.loc[replace_indices_zero, 'ppltrst'] = 0\n",
    "ess_de.loc[replace_indices_one, 'ppltrst'] = 1\n"
   ]
  },
  {
   "cell_type": "code",
   "execution_count": 10,
   "metadata": {},
   "outputs": [],
   "source": [
    "ess_de['ppltrst'] = ess_de['ppltrst'].replace([5], 0)"
   ]
  },
  {
   "cell_type": "markdown",
   "metadata": {},
   "source": [
    "2 - pplhlp"
   ]
  },
  {
   "cell_type": "code",
   "execution_count": 11,
   "metadata": {},
   "outputs": [
    {
     "name": "stdout",
     "output_type": "stream",
     "text": [
      "5     730\n",
      "7     464\n",
      "6     387\n",
      "4     336\n",
      "8     327\n",
      "3     279\n",
      "2     118\n",
      "9      81\n",
      "0      49\n",
      "10     44\n",
      "1      35\n",
      "88      2\n",
      "Name: pplhlp, dtype: int64\n"
     ]
    },
    {
     "data": {
      "image/png": "[encoded data removed]",
      "text/plain": [
       "<Figure size 432x288 with 1 Axes>"
      ]
     },
     "metadata": {
      "needs_background": "light"
     },
     "output_type": "display_data"
    }
   ],
   "source": [
    "print(ess_de['pplhlp'].value_counts())\n",
    "sns.countplot(x='pplhlp', data=ess_de, palette='Set2')\n",
    "plt.show()"
   ]
  },
  {
   "cell_type": "code",
   "execution_count": 12,
   "metadata": {},
   "outputs": [],
   "source": [
    "ess_de['pplhlp'] = ess_de['pplhlp'].replace([1, 2, 3, 4], 0)"
   ]
  },
  {
   "cell_type": "code",
   "execution_count": 13,
   "metadata": {},
   "outputs": [],
   "source": [
    "ess_de['pplhlp'] = ess_de['pplhlp'].replace([6, 7, 8, 9, 10], 1)"
   ]
  },
  {
   "cell_type": "code",
   "execution_count": 14,
   "metadata": {},
   "outputs": [],
   "source": [
    "ess_de['pplhlp'] = ess_de['pplhlp'].replace([88], 5)"
   ]
  },
  {
   "cell_type": "code",
   "execution_count": 19,
   "metadata": {},
   "outputs": [
    {
     "name": "stdout",
     "output_type": "stream",
     "text": [
      "1    1669\n",
      "0    1183\n",
      "Name: pplhlp, dtype: int64\n"
     ]
    },
    {
     "data": {
      "image/png": "[encoded data removed]",
      "text/plain": [
       "<Figure size 432x288 with 1 Axes>"
      ]
     },
     "metadata": {
      "needs_background": "light"
     },
     "output_type": "display_data"
    }
   ],
   "source": [
    "print(ess_de['pplhlp'].value_counts())\n",
    "sns.countplot(x='pplhlp', data=ess_de, palette='Set2')\n",
    "plt.show()"
   ]
  },
  {
   "cell_type": "code",
   "execution_count": 16,
   "metadata": {},
   "outputs": [],
   "source": [
    "num_fives = (ess_de['pplhlp'] == 5).sum()\n",
    "\n",
    "# calculate the number of 5 values to replace with 0 and 1\n",
    "num_replace_zero = num_fives // 2\n",
    "num_replace_one = num_fives - num_replace_zero\n",
    "\n",
    "# get the indices of the 5 values to replace\n",
    "replace_indices_zero = np.random.choice(ess_de[ess_de['pplhlp'] == 5].index, num_replace_zero, replace=False)\n",
    "replace_indices_one = np.random.choice(ess_de[ess_de['pplhlp'] == 5].index, num_replace_one, replace=False)\n",
    "\n",
    "# replace the 5 values with 0 and 1\n",
    "ess_de.loc[replace_indices_zero, 'pplhlp'] = 0\n",
    "ess_de.loc[replace_indices_one, 'pplhlp'] = 1"
   ]
  },
  {
   "cell_type": "code",
   "execution_count": 18,
   "metadata": {},
   "outputs": [],
   "source": [
    "ess_de['pplhlp'] = ess_de['pplhlp'].replace([5], 0)"
   ]
  },
  {
   "cell_type": "markdown",
   "metadata": {},
   "source": [
    "3 - pplfair"
   ]
  },
  {
   "cell_type": "code",
   "execution_count": 20,
   "metadata": {},
   "outputs": [
    {
     "name": "stdout",
     "output_type": "stream",
     "text": [
      "7     643\n",
      "5     527\n",
      "8     509\n",
      "6     365\n",
      "4     227\n",
      "9     183\n",
      "3     160\n",
      "2      85\n",
      "10     80\n",
      "0      46\n",
      "1      22\n",
      "88      5\n",
      "Name: pplfair, dtype: int64\n"
     ]
    },
    {
     "data": {
      "image/png": "[encoded data removed]",
      "text/plain": [
       "<Figure size 432x288 with 1 Axes>"
      ]
     },
     "metadata": {
      "needs_background": "light"
     },
     "output_type": "display_data"
    }
   ],
   "source": [
    "print(ess_de['pplfair'].value_counts())\n",
    "sns.countplot(x='pplfair', data=ess_de, palette='Set2')\n",
    "plt.show()"
   ]
  },
  {
   "cell_type": "code",
   "execution_count": 21,
   "metadata": {},
   "outputs": [],
   "source": [
    "ess_de['pplfair'] = ess_de['pplfair'].replace([1, 2, 3, 4], 0)"
   ]
  },
  {
   "cell_type": "code",
   "execution_count": 22,
   "metadata": {},
   "outputs": [],
   "source": [
    "ess_de['pplfair'] = ess_de['pplfair'].replace([6, 7, 8, 9, 10], 1)"
   ]
  },
  {
   "cell_type": "code",
   "execution_count": 23,
   "metadata": {},
   "outputs": [],
   "source": [
    "ess_de['pplfair'] = ess_de['pplfair'].replace([88], 5)"
   ]
  },
  {
   "cell_type": "code",
   "execution_count": 28,
   "metadata": {},
   "outputs": [
    {
     "name": "stdout",
     "output_type": "stream",
     "text": [
      "1    2046\n",
      "0     806\n",
      "Name: pplfair, dtype: int64\n"
     ]
    },
    {
     "data": {
      "image/png": "[encoded data removed]",
      "text/plain": [
       "<Figure size 432x288 with 1 Axes>"
      ]
     },
     "metadata": {
      "needs_background": "light"
     },
     "output_type": "display_data"
    }
   ],
   "source": [
    "print(ess_de['pplfair'].value_counts())\n",
    "sns.countplot(x='pplfair', data=ess_de, palette='Set2')\n",
    "plt.show()"
   ]
  },
  {
   "cell_type": "code",
   "execution_count": 25,
   "metadata": {},
   "outputs": [],
   "source": [
    "num_fives = (ess_de['pplfair'] == 5).sum()\n",
    "\n",
    "# calculate the number of 5 values to replace with 0 and 1\n",
    "num_replace_zero = num_fives // 2\n",
    "num_replace_one = num_fives - num_replace_zero\n",
    "\n",
    "# get the indices of the 5 values to replace\n",
    "replace_indices_zero = np.random.choice(ess_de[ess_de['pplfair'] == 5].index, num_replace_zero, replace=False)\n",
    "replace_indices_one = np.random.choice(ess_de[ess_de['pplfair'] == 5].index, num_replace_one, replace=False)\n",
    "\n",
    "# replace the 5 values with 0 and 1\n",
    "ess_de.loc[replace_indices_zero, 'pplfair'] = 0\n",
    "ess_de.loc[replace_indices_one, 'pplfair'] = 1\n"
   ]
  },
  {
   "cell_type": "code",
   "execution_count": 27,
   "metadata": {},
   "outputs": [],
   "source": [
    "ess_de['pplfair'] = ess_de['pplfair'].replace([5], 0)"
   ]
  },
  {
   "cell_type": "markdown",
   "metadata": {},
   "source": [
    "4 - stflife"
   ]
  },
  {
   "cell_type": "code",
   "execution_count": 29,
   "metadata": {},
   "outputs": [
    {
     "name": "stdout",
     "output_type": "stream",
     "text": [
      "8     822\n",
      "9     546\n",
      "7     440\n",
      "10    399\n",
      "5     217\n",
      "6     186\n",
      "3      82\n",
      "4      78\n",
      "2      38\n",
      "0      22\n",
      "1      16\n",
      "77      5\n",
      "88      1\n",
      "Name: stflife, dtype: int64\n"
     ]
    },
    {
     "data": {
      "image/png": "[encoded data removed]",
      "text/plain": [
       "<Figure size 432x288 with 1 Axes>"
      ]
     },
     "metadata": {
      "needs_background": "light"
     },
     "output_type": "display_data"
    }
   ],
   "source": [
    "print(ess_de['stflife'].value_counts())\n",
    "sns.countplot(x='stflife', data=ess_de, palette='Set2')\n",
    "plt.show()"
   ]
  },
  {
   "cell_type": "code",
   "execution_count": 30,
   "metadata": {},
   "outputs": [],
   "source": [
    "ess_de['stflife'] = ess_de['stflife'].replace([1,2,3,4], 0)\n",
    "ess_de['stflife'] = ess_de['stflife'].replace([6,7,8,9,10], 1)\n",
    "ess_de['stflife'] = ess_de['stflife'].replace([77,88], 5)"
   ]
  },
  {
   "cell_type": "code",
   "execution_count": 35,
   "metadata": {},
   "outputs": [
    {
     "name": "stdout",
     "output_type": "stream",
     "text": [
      "1    2505\n",
      "0     347\n",
      "Name: stflife, dtype: int64\n"
     ]
    },
    {
     "data": {
      "image/png": "[encoded data removed]",
      "text/plain": [
       "<Figure size 432x288 with 1 Axes>"
      ]
     },
     "metadata": {
      "needs_background": "light"
     },
     "output_type": "display_data"
    }
   ],
   "source": [
    "print(ess_de['stflife'].value_counts())\n",
    "sns.countplot(x='stflife', data=ess_de, palette='Set2')\n",
    "plt.show()"
   ]
  },
  {
   "cell_type": "code",
   "execution_count": 32,
   "metadata": {},
   "outputs": [],
   "source": [
    "num_fives = (ess_de['stflife'] == 5).sum()\n",
    "\n",
    "# calculate the number of 5 values to replace with 0 and 1\n",
    "num_replace_zero = num_fives // 2\n",
    "num_replace_one = num_fives - num_replace_zero\n",
    "\n",
    "# get the indices of the 5 values to replace\n",
    "replace_indices_zero = np.random.choice(ess_de[ess_de['stflife'] == 5].index, num_replace_zero, replace=False)\n",
    "replace_indices_one = np.random.choice(ess_de[ess_de['stflife'] == 5].index, num_replace_one, replace=False)\n",
    "\n",
    "# replace the 5 values with 0 and 1\n",
    "ess_de.loc[replace_indices_zero, 'stflife'] = 0\n",
    "ess_de.loc[replace_indices_one, 'stflife'] = 1"
   ]
  },
  {
   "cell_type": "code",
   "execution_count": 34,
   "metadata": {},
   "outputs": [],
   "source": [
    "ess_de['stflife'] = ess_de['stflife'].replace([5], 0)"
   ]
  },
  {
   "cell_type": "code",
   "execution_count": 36,
   "metadata": {},
   "outputs": [],
   "source": [
    "soc_data = ess_de[['ppltrst', 'pplfair', 'pplhlp', 'stflife']].copy()\n"
   ]
  },
  {
   "cell_type": "markdown",
   "metadata": {},
   "source": [
    "5 - happy"
   ]
  },
  {
   "cell_type": "code",
   "execution_count": 37,
   "metadata": {},
   "outputs": [
    {
     "name": "stdout",
     "output_type": "stream",
     "text": [
      "8     958\n",
      "9     631\n",
      "7     442\n",
      "10    347\n",
      "5     170\n",
      "6     152\n",
      "4      58\n",
      "3      47\n",
      "2      22\n",
      "1      12\n",
      "0      10\n",
      "77      2\n",
      "88      1\n",
      "Name: happy, dtype: int64\n"
     ]
    },
    {
     "data": {
      "image/png": "[encoded data removed]",
      "text/plain": [
       "<Figure size 432x288 with 1 Axes>"
      ]
     },
     "metadata": {
      "needs_background": "light"
     },
     "output_type": "display_data"
    }
   ],
   "source": [
    "print(ess_de['happy'].value_counts())\n",
    "sns.countplot(x='happy', data=ess_de, palette='Set2')\n",
    "plt.show()"
   ]
  },
  {
   "cell_type": "code",
   "execution_count": 38,
   "metadata": {},
   "outputs": [],
   "source": [
    "ess_de['happy'] = ess_de['happy'].replace([1,2,3,4], 0)\n",
    "ess_de['happy'] = ess_de['happy'].replace([6,7,8,9,10], 1)\n",
    "ess_de['happy'] = ess_de['happy'].replace([77,88], 5)"
   ]
  },
  {
   "cell_type": "code",
   "execution_count": 43,
   "metadata": {},
   "outputs": [
    {
     "name": "stdout",
     "output_type": "stream",
     "text": [
      "1    2642\n",
      "0     210\n",
      "Name: happy, dtype: int64\n"
     ]
    },
    {
     "data": {
      "image/png": "[encoded data removed]",
      "text/plain": [
       "<Figure size 432x288 with 1 Axes>"
      ]
     },
     "metadata": {
      "needs_background": "light"
     },
     "output_type": "display_data"
    }
   ],
   "source": [
    "print(ess_de['happy'].value_counts())\n",
    "sns.countplot(x='happy', data=ess_de, palette='Set2')\n",
    "plt.show()"
   ]
  },
  {
   "cell_type": "code",
   "execution_count": 40,
   "metadata": {},
   "outputs": [],
   "source": [
    "# calculate the number of 5 values to replace with 0 and 1\n",
    "num_replace_zero = num_fives // 2\n",
    "num_replace_one = num_fives - num_replace_zero\n",
    "\n",
    "# get the indices of the 5 values to replace\n",
    "replace_indices_zero = np.random.choice(ess_de[ess_de['happy'] == 5].index, num_replace_zero, replace=False)\n",
    "replace_indices_one = np.random.choice(ess_de[ess_de['happy'] == 5].index, num_replace_one, replace=False)\n",
    "\n",
    "# replace the 5 values with 0 and 1\n",
    "ess_de.loc[replace_indices_zero, 'happy'] = 0\n",
    "ess_de.loc[replace_indices_one, 'happy'] = 1"
   ]
  },
  {
   "cell_type": "code",
   "execution_count": 42,
   "metadata": {},
   "outputs": [],
   "source": [
    "ess_de['happy'] = ess_de['happy'].replace([5], 0)"
   ]
  },
  {
   "cell_type": "code",
   "execution_count": 44,
   "metadata": {},
   "outputs": [],
   "source": [
    "soc_data[\"happy\"] = ess_de[\"happy\"]"
   ]
  },
  {
   "cell_type": "code",
   "execution_count": 45,
   "metadata": {},
   "outputs": [
    {
     "data": {
      "text/html": [
       "<div>\n",
       "<style scoped>\n",
       "    .dataframe tbody tr th:only-of-type {\n",
       "        vertical-align: middle;\n",
       "    }\n",
       "\n",
       "    .dataframe tbody tr th {\n",
       "        vertical-align: top;\n",
       "    }\n",
       "\n",
       "    .dataframe thead th {\n",
       "        text-align: right;\n",
       "    }\n",
       "</style>\n",
       "<table border=\"1\" class=\"dataframe\">\n",
       "  <thead>\n",
       "    <tr style=\"text-align: right;\">\n",
       "      <th></th>\n",
       "      <th>ppltrst</th>\n",
       "      <th>pplfair</th>\n",
       "      <th>pplhlp</th>\n",
       "      <th>stflife</th>\n",
       "      <th>happy</th>\n",
       "    </tr>\n",
       "  </thead>\n",
       "  <tbody>\n",
       "    <tr>\n",
       "      <th>count</th>\n",
       "      <td>2852.000000</td>\n",
       "      <td>2852.000000</td>\n",
       "      <td>2852.000000</td>\n",
       "      <td>2852.000000</td>\n",
       "      <td>2852.000000</td>\n",
       "    </tr>\n",
       "    <tr>\n",
       "      <th>mean</th>\n",
       "      <td>0.573282</td>\n",
       "      <td>0.717391</td>\n",
       "      <td>0.585203</td>\n",
       "      <td>0.878331</td>\n",
       "      <td>0.926367</td>\n",
       "    </tr>\n",
       "    <tr>\n",
       "      <th>std</th>\n",
       "      <td>0.494687</td>\n",
       "      <td>0.450347</td>\n",
       "      <td>0.492773</td>\n",
       "      <td>0.326960</td>\n",
       "      <td>0.261218</td>\n",
       "    </tr>\n",
       "    <tr>\n",
       "      <th>min</th>\n",
       "      <td>0.000000</td>\n",
       "      <td>0.000000</td>\n",
       "      <td>0.000000</td>\n",
       "      <td>0.000000</td>\n",
       "      <td>0.000000</td>\n",
       "    </tr>\n",
       "    <tr>\n",
       "      <th>25%</th>\n",
       "      <td>0.000000</td>\n",
       "      <td>0.000000</td>\n",
       "      <td>0.000000</td>\n",
       "      <td>1.000000</td>\n",
       "      <td>1.000000</td>\n",
       "    </tr>\n",
       "    <tr>\n",
       "      <th>50%</th>\n",
       "      <td>1.000000</td>\n",
       "      <td>1.000000</td>\n",
       "      <td>1.000000</td>\n",
       "      <td>1.000000</td>\n",
       "      <td>1.000000</td>\n",
       "    </tr>\n",
       "    <tr>\n",
       "      <th>75%</th>\n",
       "      <td>1.000000</td>\n",
       "      <td>1.000000</td>\n",
       "      <td>1.000000</td>\n",
       "      <td>1.000000</td>\n",
       "      <td>1.000000</td>\n",
       "    </tr>\n",
       "    <tr>\n",
       "      <th>max</th>\n",
       "      <td>1.000000</td>\n",
       "      <td>1.000000</td>\n",
       "      <td>1.000000</td>\n",
       "      <td>1.000000</td>\n",
       "      <td>1.000000</td>\n",
       "    </tr>\n",
       "  </tbody>\n",
       "</table>\n",
       "</div>"
      ],
      "text/plain": [
       "           ppltrst      pplfair       pplhlp      stflife        happy\n",
       "count  2852.000000  2852.000000  2852.000000  2852.000000  2852.000000\n",
       "mean      0.573282     0.717391     0.585203     0.878331     0.926367\n",
       "std       0.494687     0.450347     0.492773     0.326960     0.261218\n",
       "min       0.000000     0.000000     0.000000     0.000000     0.000000\n",
       "25%       0.000000     0.000000     0.000000     1.000000     1.000000\n",
       "50%       1.000000     1.000000     1.000000     1.000000     1.000000\n",
       "75%       1.000000     1.000000     1.000000     1.000000     1.000000\n",
       "max       1.000000     1.000000     1.000000     1.000000     1.000000"
      ]
     },
     "execution_count": 45,
     "metadata": {},
     "output_type": "execute_result"
    }
   ],
   "source": [
    "soc_data.describe()"
   ]
  },
  {
   "cell_type": "code",
   "execution_count": 47,
   "metadata": {},
   "outputs": [
    {
     "data": {
      "text/plain": [
       "count    2852.000000\n",
       "mean        0.878331\n",
       "std         0.326960\n",
       "min         0.000000\n",
       "25%         1.000000\n",
       "50%         1.000000\n",
       "75%         1.000000\n",
       "max         1.000000\n",
       "Name: stflife, dtype: float64"
      ]
     },
     "execution_count": 47,
     "metadata": {},
     "output_type": "execute_result"
    }
   ],
   "source": [
    "ess_de[\"stflife\"].describe()"
   ]
  },
  {
   "cell_type": "markdown",
   "metadata": {},
   "source": [
    "6 - health"
   ]
  },
  {
   "cell_type": "code",
   "execution_count": 48,
   "metadata": {},
   "outputs": [
    {
     "name": "stdout",
     "output_type": "stream",
     "text": [
      "2    1243\n",
      "3     868\n",
      "1     465\n",
      "4     225\n",
      "5      48\n",
      "8       2\n",
      "7       1\n",
      "Name: health, dtype: int64\n"
     ]
    },
    {
     "data": {
      "image/png": "[encoded data removed]",
      "text/plain": [
       "<Figure size 432x288 with 1 Axes>"
      ]
     },
     "metadata": {
      "needs_background": "light"
     },
     "output_type": "display_data"
    }
   ],
   "source": [
    "print(ess_de['health'].value_counts())\n",
    "sns.countplot(x='health', data=ess_de, palette='Set2')\n",
    "plt.show()"
   ]
  },
  {
   "cell_type": "code",
   "execution_count": 49,
   "metadata": {},
   "outputs": [],
   "source": [
    "ess_de['health'] = ess_de['health'].replace([2], 1)\n",
    "ess_de['health'] = ess_de['health'].replace([4,5], 0)\n",
    "ess_de['health'] = ess_de['health'].replace([7,8], 3)\n"
   ]
  },
  {
   "cell_type": "code",
   "execution_count": 55,
   "metadata": {},
   "outputs": [
    {
     "name": "stdout",
     "output_type": "stream",
     "text": [
      "1    2144\n",
      "0     708\n",
      "Name: health, dtype: int64\n"
     ]
    },
    {
     "data": {
      "image/png": "[encoded data removed]",
      "text/plain": [
       "<Figure size 432x288 with 1 Axes>"
      ]
     },
     "metadata": {
      "needs_background": "light"
     },
     "output_type": "display_data"
    }
   ],
   "source": [
    "print(ess_de['health'].value_counts())\n",
    "sns.countplot(x='health', data=ess_de, palette='Set2')\n",
    "plt.show()"
   ]
  },
  {
   "cell_type": "code",
   "execution_count": 52,
   "metadata": {},
   "outputs": [],
   "source": [
    "num_threes = (ess_de['health'] == 3).sum()\n",
    "\n",
    "# calculate the number of 3 values to replace with 0 and 1\n",
    "num_replace_zero = num_threes // 2\n",
    "num_replace_one = num_threes - num_replace_zero\n",
    "\n",
    "# get the indices of the 3 values to replace\n",
    "replace_indices_zero = np.random.choice(ess_de[ess_de['health'] == 3].index, num_replace_zero, replace=False)\n",
    "replace_indices_one = np.random.choice(ess_de[ess_de['health'] == 3].index, num_replace_one, replace=False)\n",
    "\n",
    "# replace the 3 values with 0 and 1\n",
    "ess_de.loc[replace_indices_zero, 'health'] = 0\n",
    "ess_de.loc[replace_indices_one, 'health'] = 1"
   ]
  },
  {
   "cell_type": "code",
   "execution_count": 54,
   "metadata": {},
   "outputs": [],
   "source": [
    "ess_de['health'] = ess_de['health'].replace([3], 0)"
   ]
  },
  {
   "cell_type": "code",
   "execution_count": 56,
   "metadata": {},
   "outputs": [],
   "source": [
    "soc_data[\"health\"] = ess_de[\"health\"]"
   ]
  },
  {
   "cell_type": "markdown",
   "metadata": {},
   "source": [
    "7 - rlgblg"
   ]
  },
  {
   "cell_type": "code",
   "execution_count": 59,
   "metadata": {},
   "outputs": [
    {
     "name": "stdout",
     "output_type": "stream",
     "text": [
      "1    1560\n",
      "0    1292\n",
      "Name: rlgblg, dtype: int64\n"
     ]
    },
    {
     "data": {
      "image/png": "[encoded data removed]",
      "text/plain": [
       "<Figure size 432x288 with 1 Axes>"
      ]
     },
     "metadata": {
      "needs_background": "light"
     },
     "output_type": "display_data"
    }
   ],
   "source": [
    "print(ess_de['rlgblg'].value_counts())\n",
    "sns.countplot(x='rlgblg', data=ess_de, palette='Set2')\n",
    "plt.show()"
   ]
  },
  {
   "cell_type": "code",
   "execution_count": 58,
   "metadata": {},
   "outputs": [],
   "source": [
    "ess_de['rlgblg'] = ess_de['rlgblg'].replace([2], 0)\n",
    "ess_de['rlgblg'] = ess_de['rlgblg'].replace([8], 0)"
   ]
  },
  {
   "cell_type": "code",
   "execution_count": 60,
   "metadata": {},
   "outputs": [],
   "source": [
    "soc_data[\"rlgblg\"] = ess_de[\"rlgblg\"]"
   ]
  },
  {
   "cell_type": "markdown",
   "metadata": {},
   "source": [
    "8 - rlgdgr"
   ]
  },
  {
   "cell_type": "code",
   "execution_count": 69,
   "metadata": {},
   "outputs": [
    {
     "name": "stdout",
     "output_type": "stream",
     "text": [
      "0     678\n",
      "5     397\n",
      "8     268\n",
      "7     264\n",
      "3     252\n",
      "6     245\n",
      "2     223\n",
      "4     176\n",
      "1     171\n",
      "10    104\n",
      "9      74\n",
      "Name: rlgdgr, dtype: int64\n"
     ]
    },
    {
     "data": {
      "image/png": "[encoded data removed]",
      "text/plain": [
       "<Figure size 432x288 with 1 Axes>"
      ]
     },
     "metadata": {
      "needs_background": "light"
     },
     "output_type": "display_data"
    }
   ],
   "source": [
    "print(ess_de['rlgdgr'].value_counts())\n",
    "sns.countplot(x='rlgdgr', data=ess_de, palette='Set2')\n",
    "plt.show()"
   ]
  },
  {
   "cell_type": "code",
   "execution_count": 65,
   "metadata": {},
   "outputs": [
    {
     "data": {
      "text/plain": [
       "4.0"
      ]
     },
     "execution_count": 65,
     "metadata": {},
     "output_type": "execute_result"
    }
   ],
   "source": [
    "ess_de['rlgdgr'].median()\n"
   ]
  },
  {
   "cell_type": "code",
   "execution_count": 68,
   "metadata": {},
   "outputs": [],
   "source": [
    "ess_de['rlgdgr'] = ess_de['rlgdgr'].replace([77,88], 4)"
   ]
  },
  {
   "cell_type": "code",
   "execution_count": 70,
   "metadata": {},
   "outputs": [],
   "source": [
    "soc_data[\"rlgdgr\"] = ess_de[\"rlgdgr\"]"
   ]
  },
  {
   "cell_type": "code",
   "execution_count": 79,
   "metadata": {},
   "outputs": [
    {
     "data": {
      "text/html": [
       "<div>\n",
       "<style scoped>\n",
       "    .dataframe tbody tr th:only-of-type {\n",
       "        vertical-align: middle;\n",
       "    }\n",
       "\n",
       "    .dataframe tbody tr th {\n",
       "        vertical-align: top;\n",
       "    }\n",
       "\n",
       "    .dataframe thead th {\n",
       "        text-align: right;\n",
       "    }\n",
       "</style>\n",
       "<table border=\"1\" class=\"dataframe\">\n",
       "  <thead>\n",
       "    <tr style=\"text-align: right;\">\n",
       "      <th></th>\n",
       "      <th>ppltrst</th>\n",
       "      <th>pplfair</th>\n",
       "      <th>pplhlp</th>\n",
       "      <th>stflife</th>\n",
       "      <th>happy</th>\n",
       "      <th>health</th>\n",
       "      <th>rlgblg</th>\n",
       "      <th>rlgdgr</th>\n",
       "      <th>smdfslv</th>\n",
       "    </tr>\n",
       "  </thead>\n",
       "  <tbody>\n",
       "    <tr>\n",
       "      <th>count</th>\n",
       "      <td>2852.000000</td>\n",
       "      <td>2852.000000</td>\n",
       "      <td>2852.000000</td>\n",
       "      <td>2852.000000</td>\n",
       "      <td>2852.000000</td>\n",
       "      <td>2852.000000</td>\n",
       "      <td>2852.000000</td>\n",
       "      <td>2852.000000</td>\n",
       "      <td>2852.000000</td>\n",
       "    </tr>\n",
       "    <tr>\n",
       "      <th>mean</th>\n",
       "      <td>0.573282</td>\n",
       "      <td>0.717391</td>\n",
       "      <td>0.585203</td>\n",
       "      <td>0.878331</td>\n",
       "      <td>0.926367</td>\n",
       "      <td>0.751753</td>\n",
       "      <td>0.546985</td>\n",
       "      <td>3.937588</td>\n",
       "      <td>0.722651</td>\n",
       "    </tr>\n",
       "    <tr>\n",
       "      <th>std</th>\n",
       "      <td>0.494687</td>\n",
       "      <td>0.450347</td>\n",
       "      <td>0.492773</td>\n",
       "      <td>0.326960</td>\n",
       "      <td>0.261218</td>\n",
       "      <td>0.432072</td>\n",
       "      <td>0.497875</td>\n",
       "      <td>3.086210</td>\n",
       "      <td>0.447769</td>\n",
       "    </tr>\n",
       "    <tr>\n",
       "      <th>min</th>\n",
       "      <td>0.000000</td>\n",
       "      <td>0.000000</td>\n",
       "      <td>0.000000</td>\n",
       "      <td>0.000000</td>\n",
       "      <td>0.000000</td>\n",
       "      <td>0.000000</td>\n",
       "      <td>0.000000</td>\n",
       "      <td>0.000000</td>\n",
       "      <td>0.000000</td>\n",
       "    </tr>\n",
       "    <tr>\n",
       "      <th>25%</th>\n",
       "      <td>0.000000</td>\n",
       "      <td>0.000000</td>\n",
       "      <td>0.000000</td>\n",
       "      <td>1.000000</td>\n",
       "      <td>1.000000</td>\n",
       "      <td>1.000000</td>\n",
       "      <td>0.000000</td>\n",
       "      <td>1.000000</td>\n",
       "      <td>0.000000</td>\n",
       "    </tr>\n",
       "    <tr>\n",
       "      <th>50%</th>\n",
       "      <td>1.000000</td>\n",
       "      <td>1.000000</td>\n",
       "      <td>1.000000</td>\n",
       "      <td>1.000000</td>\n",
       "      <td>1.000000</td>\n",
       "      <td>1.000000</td>\n",
       "      <td>1.000000</td>\n",
       "      <td>4.000000</td>\n",
       "      <td>1.000000</td>\n",
       "    </tr>\n",
       "    <tr>\n",
       "      <th>75%</th>\n",
       "      <td>1.000000</td>\n",
       "      <td>1.000000</td>\n",
       "      <td>1.000000</td>\n",
       "      <td>1.000000</td>\n",
       "      <td>1.000000</td>\n",
       "      <td>1.000000</td>\n",
       "      <td>1.000000</td>\n",
       "      <td>6.000000</td>\n",
       "      <td>1.000000</td>\n",
       "    </tr>\n",
       "    <tr>\n",
       "      <th>max</th>\n",
       "      <td>1.000000</td>\n",
       "      <td>1.000000</td>\n",
       "      <td>1.000000</td>\n",
       "      <td>1.000000</td>\n",
       "      <td>1.000000</td>\n",
       "      <td>1.000000</td>\n",
       "      <td>1.000000</td>\n",
       "      <td>10.000000</td>\n",
       "      <td>1.000000</td>\n",
       "    </tr>\n",
       "  </tbody>\n",
       "</table>\n",
       "</div>"
      ],
      "text/plain": [
       "           ppltrst      pplfair       pplhlp      stflife        happy  \\\n",
       "count  2852.000000  2852.000000  2852.000000  2852.000000  2852.000000   \n",
       "mean      0.573282     0.717391     0.585203     0.878331     0.926367   \n",
       "std       0.494687     0.450347     0.492773     0.326960     0.261218   \n",
       "min       0.000000     0.000000     0.000000     0.000000     0.000000   \n",
       "25%       0.000000     0.000000     0.000000     1.000000     1.000000   \n",
       "50%       1.000000     1.000000     1.000000     1.000000     1.000000   \n",
       "75%       1.000000     1.000000     1.000000     1.000000     1.000000   \n",
       "max       1.000000     1.000000     1.000000     1.000000     1.000000   \n",
       "\n",
       "            health       rlgblg       rlgdgr      smdfslv  \n",
       "count  2852.000000  2852.000000  2852.000000  2852.000000  \n",
       "mean      0.751753     0.546985     3.937588     0.722651  \n",
       "std       0.432072     0.497875     3.086210     0.447769  \n",
       "min       0.000000     0.000000     0.000000     0.000000  \n",
       "25%       1.000000     0.000000     1.000000     0.000000  \n",
       "50%       1.000000     1.000000     4.000000     1.000000  \n",
       "75%       1.000000     1.000000     6.000000     1.000000  \n",
       "max       1.000000     1.000000    10.000000     1.000000  "
      ]
     },
     "execution_count": 79,
     "metadata": {},
     "output_type": "execute_result"
    }
   ],
   "source": [
    "soc_data.describe()"
   ]
  },
  {
   "cell_type": "markdown",
   "metadata": {},
   "source": [
    "9 - smdfslv"
   ]
  },
  {
   "cell_type": "code",
   "execution_count": 72,
   "metadata": {},
   "outputs": [
    {
     "name": "stdout",
     "output_type": "stream",
     "text": [
      "2    1450\n",
      "3     625\n",
      "4     440\n",
      "1     288\n",
      "5      29\n",
      "8      18\n",
      "7       2\n",
      "Name: smdfslv, dtype: int64\n"
     ]
    },
    {
     "data": {
      "image/png": "[encoded data removed]",
      "text/plain": [
       "<Figure size 432x288 with 1 Axes>"
      ]
     },
     "metadata": {
      "needs_background": "light"
     },
     "output_type": "display_data"
    }
   ],
   "source": [
    "print(ess_de['smdfslv'].value_counts())\n",
    "sns.countplot(x='smdfslv', data=ess_de, palette='Set2')\n",
    "plt.show()"
   ]
  },
  {
   "cell_type": "code",
   "execution_count": 73,
   "metadata": {},
   "outputs": [],
   "source": [
    "ess_de[\"smdfslv\"] = ess_de[\"smdfslv\"].replace([2], 1)\n",
    "ess_de[\"smdfslv\"] = ess_de[\"smdfslv\"].replace([4,5], 0)\n",
    "ess_de[\"smdfslv\"] = ess_de[\"smdfslv\"].replace([7,8], 3)"
   ]
  },
  {
   "cell_type": "code",
   "execution_count": 76,
   "metadata": {},
   "outputs": [
    {
     "name": "stdout",
     "output_type": "stream",
     "text": [
      "1    2061\n",
      "0     632\n",
      "3     159\n",
      "Name: smdfslv, dtype: int64\n"
     ]
    },
    {
     "data": {
      "image/png": "[encoded data removed]",
      "text/plain": [
       "<Figure size 432x288 with 1 Axes>"
      ]
     },
     "metadata": {
      "needs_background": "light"
     },
     "output_type": "display_data"
    }
   ],
   "source": [
    "print(ess_de['smdfslv'].value_counts())\n",
    "sns.countplot(x='smdfslv', data=ess_de, palette='Set2')\n",
    "plt.show()"
   ]
  },
  {
   "cell_type": "code",
   "execution_count": 75,
   "metadata": {},
   "outputs": [],
   "source": [
    "num_threes = (ess_de['smdfslv'] == 3).sum()\n",
    "\n",
    "# calculate the number of 3 values to replace with 0 and 1\n",
    "num_replace_zero = num_threes // 2\n",
    "num_replace_one = num_threes - num_replace_zero\n",
    "\n",
    "# get the indices of the 3 values to replace\n",
    "replace_indices_zero = np.random.choice(ess_de[ess_de['smdfslv'] == 3].index, num_replace_zero, replace=False)\n",
    "replace_indices_one = np.random.choice(ess_de[ess_de['smdfslv'] == 3].index, num_replace_one, replace=False)\n",
    "\n",
    "# replace the 3 values with 0 and 1\n",
    "ess_de.loc[replace_indices_zero, 'smdfslv'] = 0\n",
    "ess_de.loc[replace_indices_one, 'smdfslv'] = 1"
   ]
  },
  {
   "cell_type": "code",
   "execution_count": 77,
   "metadata": {},
   "outputs": [],
   "source": [
    "ess_de[\"smdfslv\"] = ess_de[\"smdfslv\"].replace([3], 0)"
   ]
  },
  {
   "cell_type": "code",
   "execution_count": 78,
   "metadata": {},
   "outputs": [],
   "source": [
    "soc_data[\"smdfslv\"] = ess_de[\"smdfslv\"]"
   ]
  },
  {
   "cell_type": "markdown",
   "metadata": {},
   "source": [
    "10 - ipeqopt"
   ]
  },
  {
   "cell_type": "code",
   "execution_count": 83,
   "metadata": {},
   "outputs": [
    {
     "name": "stdout",
     "output_type": "stream",
     "text": [
      "2    1266\n",
      "1     895\n",
      "3     420\n",
      "4     134\n",
      "5     113\n",
      "6      24\n",
      "Name: ipeqopt, dtype: int64\n"
     ]
    },
    {
     "data": {
      "image/png": "[encoded data removed]",
      "text/plain": [
       "<Figure size 432x288 with 1 Axes>"
      ]
     },
     "metadata": {
      "needs_background": "light"
     },
     "output_type": "display_data"
    }
   ],
   "source": [
    "print(ess_de[\"ipeqopt\"].value_counts())\n",
    "sns.countplot(x=\"ipeqopt\", data=ess_de, palette='Set2')\n",
    "plt.show()"
   ]
  },
  {
   "cell_type": "code",
   "execution_count": 82,
   "metadata": {},
   "outputs": [],
   "source": [
    "ess_de[\"ipeqopt\"] = ess_de[\"ipeqopt\"].replace([7,8], ess_de[\"ipeqopt\"].median())"
   ]
  },
  {
   "cell_type": "code",
   "execution_count": 84,
   "metadata": {},
   "outputs": [],
   "source": [
    "soc_data[\"ipeqopt\"] = ess_de[\"ipeqopt\"]"
   ]
  },
  {
   "cell_type": "markdown",
   "metadata": {},
   "source": [
    "11 - dfincac"
   ]
  },
  {
   "cell_type": "code",
   "execution_count": 85,
   "metadata": {},
   "outputs": [
    {
     "name": "stdout",
     "output_type": "stream",
     "text": [
      "2    1281\n",
      "4     668\n",
      "3     540\n",
      "5     192\n",
      "1     152\n",
      "8      18\n",
      "7       1\n",
      "Name: dfincac, dtype: int64\n"
     ]
    },
    {
     "data": {
      "image/png": "[encoded data removed]",
      "text/plain": [
       "<Figure size 432x288 with 1 Axes>"
      ]
     },
     "metadata": {
      "needs_background": "light"
     },
     "output_type": "display_data"
    }
   ],
   "source": [
    "print(ess_de[\"dfincac\"].value_counts())\n",
    "sns.countplot(x=\"dfincac\", data=ess_de, palette='Set2')\n",
    "plt.show()"
   ]
  },
  {
   "cell_type": "code",
   "execution_count": 86,
   "metadata": {},
   "outputs": [],
   "source": [
    "ess_de[\"dfincac\"] = ess_de[\"dfincac\"].replace([7,8], 3)\n",
    "ess_de[\"dfincac\"] = ess_de[\"dfincac\"].replace([2], 1)\n",
    "ess_de[\"dfincac\"] = ess_de[\"dfincac\"].replace([4,5], 0)"
   ]
  },
  {
   "cell_type": "code",
   "execution_count": 91,
   "metadata": {},
   "outputs": [
    {
     "name": "stdout",
     "output_type": "stream",
     "text": [
      "1    1713\n",
      "0    1139\n",
      "Name: dfincac, dtype: int64\n"
     ]
    },
    {
     "data": {
      "image/png": "[encoded data removed]",
      "text/plain": [
       "<Figure size 432x288 with 1 Axes>"
      ]
     },
     "metadata": {
      "needs_background": "light"
     },
     "output_type": "display_data"
    }
   ],
   "source": [
    "print(ess_de[\"dfincac\"].value_counts())\n",
    "sns.countplot(x=\"dfincac\", data=ess_de, palette='Set2')\n",
    "plt.show()"
   ]
  },
  {
   "cell_type": "code",
   "execution_count": 88,
   "metadata": {},
   "outputs": [],
   "source": [
    "num_threes = (ess_de[\"dfincac\"] == 3).sum()\n",
    "\n",
    "# calculate the number of 3 values to replace with 0 and 1\n",
    "num_replace_zero = num_threes // 2\n",
    "num_replace_one = num_threes - num_replace_zero\n",
    "\n",
    "# get the indices of the 3 values to replace\n",
    "replace_indices_zero = np.random.choice(ess_de[ess_de[\"dfincac\"] == 3].index, num_replace_zero, replace=False)\n",
    "replace_indices_one = np.random.choice(ess_de[ess_de[\"dfincac\"] == 3].index, num_replace_one, replace=False)\n",
    "\n",
    "# replace the 3 values with 0 and 1\n",
    "ess_de.loc[replace_indices_zero, \"dfincac\"] = 0\n",
    "ess_de.loc[replace_indices_one, \"dfincac\"] = 1"
   ]
  },
  {
   "cell_type": "code",
   "execution_count": 90,
   "metadata": {},
   "outputs": [],
   "source": [
    "ess_de[\"dfincac\"] = ess_de[\"dfincac\"].replace([3], 0)"
   ]
  },
  {
   "cell_type": "code",
   "execution_count": 92,
   "metadata": {},
   "outputs": [],
   "source": [
    "soc_data[\"dfincac\"] = ess_de[\"dfincac\"]"
   ]
  },
  {
   "cell_type": "markdown",
   "metadata": {},
   "source": [
    "12 - gndr"
   ]
  },
  {
   "cell_type": "code",
   "execution_count": 93,
   "metadata": {},
   "outputs": [
    {
     "name": "stdout",
     "output_type": "stream",
     "text": [
      "1    1508\n",
      "2    1344\n",
      "Name: gndr, dtype: int64\n"
     ]
    },
    {
     "data": {
      "image/png": "[encoded data removed]",
      "text/plain": [
       "<Figure size 432x288 with 1 Axes>"
      ]
     },
     "metadata": {
      "needs_background": "light"
     },
     "output_type": "display_data"
    }
   ],
   "source": [
    "print(ess_de[\"gndr\"].value_counts())\n",
    "sns.countplot(x=\"gndr\", data=ess_de, palette='Set2')\n",
    "plt.show()"
   ]
  },
  {
   "cell_type": "code",
   "execution_count": 94,
   "metadata": {},
   "outputs": [],
   "source": [
    "ess_de[\"gndr\"] = ess_de[\"gndr\"].replace([2], 0)"
   ]
  },
  {
   "cell_type": "code",
   "execution_count": 95,
   "metadata": {},
   "outputs": [],
   "source": [
    "soc_data[\"gndr\"] = ess_de[\"gndr\"]"
   ]
  },
  {
   "cell_type": "markdown",
   "metadata": {},
   "source": [
    "13 - agea"
   ]
  },
  {
   "cell_type": "code",
   "execution_count": 99,
   "metadata": {},
   "outputs": [
    {
     "data": {
      "text/plain": [
       "3"
      ]
     },
     "execution_count": 99,
     "metadata": {},
     "output_type": "execute_result"
    }
   ],
   "source": [
    "(ess_de[\"agea\"] == 999).sum()"
   ]
  },
  {
   "cell_type": "code",
   "execution_count": 101,
   "metadata": {},
   "outputs": [],
   "source": [
    "ess_de[\"agea\"] = ess_de[\"agea\"].replace([999], ess_de[\"agea\"].median())"
   ]
  },
  {
   "cell_type": "code",
   "execution_count": 102,
   "metadata": {},
   "outputs": [],
   "source": [
    "soc_data[\"agea\"] = ess_de[\"agea\"]"
   ]
  },
  {
   "cell_type": "markdown",
   "metadata": {},
   "source": [
    "13 - eduyrs"
   ]
  },
  {
   "cell_type": "code",
   "execution_count": 103,
   "metadata": {},
   "outputs": [
    {
     "data": {
      "text/plain": [
       "2"
      ]
     },
     "execution_count": 103,
     "metadata": {},
     "output_type": "execute_result"
    }
   ],
   "source": [
    "(ess_de[\"eduyrs\"] == 77).sum()"
   ]
  },
  {
   "cell_type": "code",
   "execution_count": 104,
   "metadata": {},
   "outputs": [
    {
     "data": {
      "text/plain": [
       "1"
      ]
     },
     "execution_count": 104,
     "metadata": {},
     "output_type": "execute_result"
    }
   ],
   "source": [
    "(ess_de[\"eduyrs\"] == 88).sum()"
   ]
  },
  {
   "cell_type": "code",
   "execution_count": 105,
   "metadata": {},
   "outputs": [
    {
     "data": {
      "text/plain": [
       "0"
      ]
     },
     "execution_count": 105,
     "metadata": {},
     "output_type": "execute_result"
    }
   ],
   "source": [
    "(ess_de[\"eduyrs\"] == 99).sum()"
   ]
  },
  {
   "cell_type": "code",
   "execution_count": 106,
   "metadata": {},
   "outputs": [],
   "source": [
    "ess_de[\"eduyrs\"] = ess_de[\"eduyrs\"].replace([77,88], ess_de[\"eduyrs\"].median())"
   ]
  },
  {
   "cell_type": "code",
   "execution_count": 107,
   "metadata": {},
   "outputs": [],
   "source": [
    "soc_data[\"eduyrs\"] = ess_de[\"eduyrs\"]"
   ]
  },
  {
   "cell_type": "markdown",
   "metadata": {},
   "source": [
    "14 - sbstrec"
   ]
  },
  {
   "cell_type": "code",
   "execution_count": 108,
   "metadata": {},
   "outputs": [
    {
     "name": "stdout",
     "output_type": "stream",
     "text": [
      "4    956\n",
      "3    861\n",
      "2    691\n",
      "5    208\n",
      "1     72\n",
      "8     63\n",
      "7      1\n",
      "Name: sbstrec, dtype: int64\n"
     ]
    },
    {
     "data": {
      "image/png": "[encoded data removed]",
      "text/plain": [
       "<Figure size 432x288 with 1 Axes>"
      ]
     },
     "metadata": {
      "needs_background": "light"
     },
     "output_type": "display_data"
    }
   ],
   "source": [
    "print(ess_de[\"sbstrec\"].value_counts())\n",
    "sns.countplot(x=\"sbstrec\", data=ess_de, palette='Set2')\n",
    "plt.show()"
   ]
  },
  {
   "cell_type": "code",
   "execution_count": null,
   "metadata": {},
   "outputs": [],
   "source": []
  },
  {
   "cell_type": "code",
   "execution_count": null,
   "metadata": {},
   "outputs": [],
   "source": []
  },
  {
   "cell_type": "code",
   "execution_count": null,
   "metadata": {},
   "outputs": [],
   "source": []
  },
  {
   "cell_type": "code",
   "execution_count": null,
   "metadata": {},
   "outputs": [],
   "source": []
  },
  {
   "cell_type": "code",
   "execution_count": null,
   "metadata": {},
   "outputs": [],
   "source": []
  },
  {
   "cell_type": "code",
   "execution_count": null,
   "metadata": {},
   "outputs": [],
   "source": []
  },
  {
   "cell_type": "code",
   "execution_count": null,
   "metadata": {},
   "outputs": [],
   "source": []
  },
  {
   "cell_type": "code",
   "execution_count": null,
   "metadata": {},
   "outputs": [],
   "source": []
  },
  {
   "cell_type": "code",
   "execution_count": null,
   "metadata": {},
   "outputs": [],
   "source": []
  },
  {
   "cell_type": "code",
   "execution_count": null,
   "metadata": {},
   "outputs": [],
   "source": []
  },
  {
   "cell_type": "code",
   "execution_count": null,
   "metadata": {},
   "outputs": [],
   "source": []
  },
  {
   "cell_type": "code",
   "execution_count": null,
   "metadata": {},
   "outputs": [],
   "source": []
  },
  {
   "cell_type": "code",
   "execution_count": null,
   "metadata": {},
   "outputs": [],
   "source": []
  },
  {
   "cell_type": "code",
   "execution_count": null,
   "metadata": {},
   "outputs": [],
   "source": []
  },
  {
   "cell_type": "code",
   "execution_count": null,
   "metadata": {},
   "outputs": [],
   "source": []
  },
  {
   "cell_type": "code",
   "execution_count": null,
   "metadata": {},
   "outputs": [],
   "source": []
  },
  {
   "cell_type": "code",
   "execution_count": null,
   "metadata": {},
   "outputs": [],
   "source": []
  },
  {
   "cell_type": "code",
   "execution_count": null,
   "metadata": {},
   "outputs": [],
   "source": []
  },
  {
   "cell_type": "code",
   "execution_count": null,
   "metadata": {},
   "outputs": [],
   "source": []
  },
  {
   "cell_type": "code",
   "execution_count": null,
   "metadata": {},
   "outputs": [],
   "source": []
  },
  {
   "cell_type": "code",
   "execution_count": null,
   "metadata": {},
   "outputs": [],
   "source": []
  },
  {
   "cell_type": "code",
   "execution_count": null,
   "metadata": {},
   "outputs": [],
   "source": []
  },
  {
   "cell_type": "code",
   "execution_count": null,
   "metadata": {},
   "outputs": [],
   "source": []
  },
  {
   "cell_type": "code",
   "execution_count": null,
   "metadata": {},
   "outputs": [],
   "source": []
  }
 ],
 "metadata": {
  "kernelspec": {
   "display_name": "Python 3",
   "language": "python",
   "name": "python3"
  },
  "language_info": {
   "codemirror_mode": {
    "name": "ipython",
    "version": 3
   },
   "file_extension": ".py",
   "mimetype": "text/x-python",
   "name": "python",
   "nbconvert_exporter": "python",
   "pygments_lexer": "ipython3",
   "version": "3.8.5"
  }
 },
 "nbformat": 4,
 "nbformat_minor": 4
}
