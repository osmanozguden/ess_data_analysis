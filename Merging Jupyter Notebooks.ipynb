{
 "cells": [
  {
   "cell_type": "code",
   "execution_count": 1,
   "metadata": {},
   "outputs": [],
   "source": [
    "#Merging jupyter notebooks into one notebook\n",
    "\n",
    "import nbformat as nbf\n",
    "\n",
    "def merge_notebooks(notebook_filenames, output_filename):\n",
    "    merged_nb = nbf.v4.new_notebook()\n",
    "\n",
    "    for filename in notebook_filenames:\n",
    "        with open(filename, \"r\", encoding=\"utf-8\") as f:\n",
    "            nb = nbf.read(f, nbf.NO_CONVERT)\n",
    "            merged_nb.cells.extend(nb.cells)\n",
    "\n",
    "    with open(output_filename, \"w\", encoding=\"utf-8\") as f:\n",
    "        nbf.write(merged_nb, f)\n",
    "\n",
    "# Replace the names of the notebooks to be merged\n",
    "notebook_filenames = [\"pol_var_allcountries.ipynb\", \"soc_var_allcountries.ipynb\", \"econ_var_allcountries.ipynb\"]\n",
    "output_filename = \"all_prep_variables.ipynb\"\n",
    "\n",
    "merge_notebooks(notebook_filenames, output_filename)"
   ]
  },
  {
   "cell_type": "code",
   "execution_count": null,
   "metadata": {},
   "outputs": [],
   "source": []
  }
 ],
 "metadata": {
  "kernelspec": {
   "display_name": "Python 3",
   "language": "python",
   "name": "python3"
  },
  "language_info": {
   "codemirror_mode": {
    "name": "ipython",
    "version": 3
   },
   "file_extension": ".py",
   "mimetype": "text/x-python",
   "name": "python",
   "nbconvert_exporter": "python",
   "pygments_lexer": "ipython3",
   "version": "3.8.5"
  }
 },
 "nbformat": 4,
 "nbformat_minor": 4
}
