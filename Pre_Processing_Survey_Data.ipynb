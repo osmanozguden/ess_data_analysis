{
 "cells": [
  {
   "cell_type": "code",
   "execution_count": 1,
   "metadata": {},
   "outputs": [],
   "source": [
    "import numpy as np\n",
    "import pandas as pd\n",
    "import matplotlib.pyplot as plt\n",
    "import seaborn as sns"
   ]
  },
  {
   "cell_type": "code",
   "execution_count": 2,
   "metadata": {},
   "outputs": [],
   "source": [
    "df_survey = pd.read_excel(\"Survey_results.xlsx\")"
   ]
  },
  {
   "cell_type": "code",
   "execution_count": 3,
   "metadata": {},
   "outputs": [
    {
     "data": {
      "text/plain": [
       "Index(['age', 'gender', 'education_level', 'education_year', 'income',\n",
       "       'emplrel', 'uemp5', 'occupation', 'income_source', 'household_type',\n",
       "       'lrscale', 'polintr', 'lsunemp', 'sbprvpv', 'sbeqsoc', 'smdfslv',\n",
       "       'gincdif', 'sbstrec', 'dfincac', 'bennent', 'sblazy', 'basinc',\n",
       "       'reason'],\n",
       "      dtype='object')"
      ]
     },
     "execution_count": 3,
     "metadata": {},
     "output_type": "execute_result"
    }
   ],
   "source": [
    "df_survey.columns"
   ]
  },
  {
   "cell_type": "code",
   "execution_count": 4,
   "metadata": {},
   "outputs": [],
   "source": [
    "df_copy = df_survey.copy()"
   ]
  },
  {
   "cell_type": "code",
   "execution_count": 7,
   "metadata": {},
   "outputs": [
    {
     "data": {
      "text/plain": [
       "1         42\n",
       "0         26\n",
       "Andere     2\n",
       "Name: gender, dtype: int64"
      ]
     },
     "execution_count": 7,
     "metadata": {},
     "output_type": "execute_result"
    }
   ],
   "source": [
    "df_copy[\"gender\"].value_counts()"
   ]
  },
  {
   "cell_type": "code",
   "execution_count": 6,
   "metadata": {},
   "outputs": [],
   "source": [
    "# Recoding 'gender' column\n",
    "df_copy['gender'] = df_copy['gender'].replace({'Männlich': 1, 'Weiblich': 0})\n"
   ]
  },
  {
   "cell_type": "code",
   "execution_count": 8,
   "metadata": {},
   "outputs": [],
   "source": [
    "df_copy['gender'] = df_copy['gender'].replace({'Andere': 1})"
   ]
  },
  {
   "cell_type": "code",
   "execution_count": 16,
   "metadata": {},
   "outputs": [
    {
     "data": {
      "text/plain": [
       "5    25\n",
       "6    22\n",
       "3    13\n",
       "4    10\n",
       "Name: education_level, dtype: int64"
      ]
     },
     "execution_count": 16,
     "metadata": {},
     "output_type": "execute_result"
    }
   ],
   "source": [
    "df_copy[\"education_level\"].value_counts()"
   ]
  },
  {
   "cell_type": "code",
   "execution_count": 10,
   "metadata": {},
   "outputs": [],
   "source": [
    "# Mapping of education levels to numerical values\n",
    "education_level_mapping = {\n",
    "    'Bachelor-Abschluss': 5,\n",
    "    'Master- oder Doktorabschluss': 6,\n",
    "    'Sekundarschulbildung': 3,\n",
    "    'Berufliche oder technische Ausbildung': 4,\n",
    "    'Diplom': 5,\n",
    "    'Allgemeine Hochschulreife (Abitur)': 3,\n",
    "    'Abitur': 3\n",
    "}\n",
    "\n",
    "# Recoding 'education_level' column\n",
    "df_copy['education_level'] = df_copy['education_level'].replace(education_level_mapping)\n",
    "\n"
   ]
  },
  {
   "cell_type": "code",
   "execution_count": 12,
   "metadata": {},
   "outputs": [],
   "source": [
    "df_copy['education_level'] = df_copy['education_level'].replace({\"Abitur\":3, \"Allgemeine Hochschulreife (Abitur)\":3})"
   ]
  },
  {
   "cell_type": "code",
   "execution_count": 15,
   "metadata": {},
   "outputs": [],
   "source": [
    "# Remove leading and trailing whitespace in 'education_level' column if the value is a string\n",
    "df_copy['education_level'] = df_copy['education_level'].apply(lambda x: x.strip() if isinstance(x, str) else x)\n",
    "\n",
    "# Mapping of education levels to numerical values\n",
    "education_level_mapping = {\n",
    "    'Abitur': 3,\n",
    "    'Allgemeine Hochschulreife (Abitur)': 3\n",
    "}\n",
    "\n",
    "# Recoding 'education_level' column for the remaining values\n",
    "df_copy['education_level'] = df_copy['education_level'].replace(education_level_mapping)\n",
    "\n"
   ]
  },
  {
   "cell_type": "code",
   "execution_count": 19,
   "metadata": {},
   "outputs": [
    {
     "data": {
      "text/plain": [
       "1    30\n",
       "3    26\n",
       "2     6\n",
       "6     4\n",
       "5     3\n",
       "4     1\n",
       "Name: emplrel, dtype: int64"
      ]
     },
     "execution_count": 19,
     "metadata": {},
     "output_type": "execute_result"
    }
   ],
   "source": [
    "df_copy[\"emplrel\"].value_counts()"
   ]
  },
  {
   "cell_type": "code",
   "execution_count": 18,
   "metadata": {},
   "outputs": [],
   "source": [
    "# Mapping of emplrel values to numerical values\n",
    "emplrel_mapping = {\n",
    "    'Student/in': 1,\n",
    "    'Vollzeitbeschäftigt': 3,\n",
    "    'Teilzeitbeschäftigt': 2,\n",
    "    'Im Ruhestand': 5,\n",
    "    'Arbeitslos und auf Arbeitssuche': 6,\n",
    "    'Werkstudi': 1,\n",
    "    'Hausfrau mit Ehrenämtern': 6,\n",
    "    'Studentin mit Teilzeitbeschäftigung': 1,\n",
    "    'Selbstständig': 4,\n",
    "    'Auszubildender': 2\n",
    "}\n",
    "\n",
    "# Convert all values in the 'emplrel' column to strings\n",
    "df_copy['emplrel'] = df_copy['emplrel'].astype(str)\n",
    "\n",
    "# Recoding 'emplrel' column\n",
    "df_copy['emplrel'] = df_copy['emplrel'].replace(emplrel_mapping)\n"
   ]
  },
  {
   "cell_type": "code",
   "execution_count": 23,
   "metadata": {},
   "outputs": [
    {
     "data": {
      "text/plain": [
       "0    51\n",
       "1    19\n",
       "Name: uemp5, dtype: int64"
      ]
     },
     "execution_count": 23,
     "metadata": {},
     "output_type": "execute_result"
    }
   ],
   "source": [
    "df_copy[\"uemp5\"].value_counts()"
   ]
  },
  {
   "cell_type": "code",
   "execution_count": 22,
   "metadata": {},
   "outputs": [],
   "source": [
    "df_copy['uemp5'] = df_copy['uemp5'].replace({'Nein': 0, 'Ja': 1})"
   ]
  },
  {
   "cell_type": "code",
   "execution_count": 24,
   "metadata": {},
   "outputs": [
    {
     "data": {
      "text/plain": [
       "Softwareentwickler                                   3\n",
       "Studentische Hilfskraft                              3\n",
       "Student                                              3\n",
       "Consultant                                           2\n",
       "Studentin                                            2\n",
       "Student                                              2\n",
       "Buchhalter                                           2\n",
       "IT                                                   2\n",
       "Werksstudent                                         1\n",
       "Studentenhilfe auf dem Werk                          1\n",
       "Arzt                                                 1\n",
       "Aushilfe                                             1\n",
       "Bilanzbuchhalter                                     1\n",
       "Junior Accountant                                    1\n",
       "VWL Studentin + Recruiterin in Teilzeit              1\n",
       "Diplom Verwaltungswirt                               1\n",
       "Buchhalterin                                         1\n",
       "Wissenschaftlicher Mitarbeiter                       1\n",
       "Application Manager                                  1\n",
       "Keiner                                               1\n",
       "Informatiker                                         1\n",
       "Tutor an der WWU                                     1\n",
       "SAP Consultant                                       1\n",
       "Ärztin                                               1\n",
       "IT Consultant                                        1\n",
       "Marketing Spezialist                                 1\n",
       "Teamleiter Auftragsabwicklung                        1\n",
       "Fachinformatiker                                     1\n",
       "Schauspieler                                         1\n",
       "Working Student- International Account Management    1\n",
       "Beamter                                              1\n",
       "Studentische Hilfskraft                              1\n",
       "Software Entwickler                                  1\n",
       "Psychologist                                         1\n",
       "Werkstudent Softwareentwicklung                      1\n",
       "IT-Consultant                                        1\n",
       "Marketing Professional                               1\n",
       "Groß- und Außenhandelskauffrau                       1\n",
       "Account Manager                                      1\n",
       "Diakon (Beamter im kirchlichen Dienst)               1\n",
       "Office Manager                                       1\n",
       "Sozial Arbeiter                                      1\n",
       "Lehrer                                               1\n",
       "Ver - Entsorger                                      1\n",
       "Informatiker                                         1\n",
       "Produktmanager                                       1\n",
       "Nebenjob in der Bäckerei, Babysitten                 1\n",
       "Werkstudentin                                        1\n",
       "Senior Project Manager                               1\n",
       "Bürogehilfin                                         1\n",
       "Realschullehrerin                                    1\n",
       "Name: occupation, dtype: int64"
      ]
     },
     "execution_count": 24,
     "metadata": {},
     "output_type": "execute_result"
    }
   ],
   "source": [
    "df_copy[\"occupation\"].value_counts()"
   ]
  },
  {
   "cell_type": "code",
   "execution_count": 26,
   "metadata": {},
   "outputs": [],
   "source": [
    "#df_copy.drop(\"occupation\", axis=1)"
   ]
  },
  {
   "cell_type": "code",
   "execution_count": 29,
   "metadata": {},
   "outputs": [
    {
     "data": {
      "text/plain": [
       "1      22\n",
       "2      14\n",
       "3      11\n",
       "4       8\n",
       "5       5\n",
       "6       4\n",
       "8       2\n",
       "7       2\n",
       "nan     2\n",
       "Name: income, dtype: int64"
      ]
     },
     "execution_count": 29,
     "metadata": {},
     "output_type": "execute_result"
    }
   ],
   "source": [
    "df_copy[\"income\"].value_counts()"
   ]
  },
  {
   "cell_type": "code",
   "execution_count": 28,
   "metadata": {},
   "outputs": [],
   "source": [
    "# Mapping of income values to numerical values\n",
    "income_mapping = {\n",
    "    'Unter 10.000 €': 1,\n",
    "    '10.000 € - 19.999 €': 2,\n",
    "    '20.000 € - 29.999 €': 3,\n",
    "    '30.000 € - 39.999 €': 4,\n",
    "    '40.000 € - 49.999 €': 5,\n",
    "    '70.000 € - 79.999 €': 6,\n",
    "    '50.000 € - 59.999 €': 7,\n",
    "    '60.000 € - 69.999 €': 8\n",
    "}\n",
    "\n",
    "# Convert all values in the 'income' column to strings\n",
    "df_copy['income'] = df_copy['income'].astype(str)\n",
    "\n",
    "# Recoding 'income' column\n",
    "df_copy['income'] = df_copy['income'].replace(income_mapping)\n"
   ]
  },
  {
   "cell_type": "code",
   "execution_count": 34,
   "metadata": {},
   "outputs": [
    {
     "data": {
      "text/plain": [
       "1    44\n",
       "5    12\n",
       "7    10\n",
       "3     3\n",
       "6     1\n",
       "Name: income_source, dtype: int64"
      ]
     },
     "execution_count": 34,
     "metadata": {},
     "output_type": "execute_result"
    }
   ],
   "source": [
    "df_copy[\"income_source\"].value_counts()"
   ]
  },
  {
   "cell_type": "code",
   "execution_count": 33,
   "metadata": {},
   "outputs": [],
   "source": [
    "# Mapping of income_source values to numerical values\n",
    "income_source_mapping = {\n",
    "    'Gehalt oder Lohn': 1,\n",
    "    'Sozialleistungen': 5,\n",
    "    'Renten- oder Altersversorgung': 3,\n",
    "    'Eltern': 7,\n",
    "    'Geld von Eltern': 7,\n",
    "    'Finanzhilfe der eltern': 7,\n",
    "    'Stipendium': 5,\n",
    "    'Investitionen': 6,\n",
    "    'Parents': 7,\n",
    "    'BAföG': 5,\n",
    "    'Unterstützung der Eltern': 7,\n",
    "    'Bafög': 5,\n",
    "    'Einkommen vom Ehemann': 7,\n",
    "    'Gehalt des Mannes': 7,\n",
    "    'Unterstützung durch Familie': 7,\n",
    "    'Bafög': 5,\n",
    "    'KAS': 5,\n",
    "    'Unterstützung von meinen Eltern': 7\n",
    "}\n",
    "\n",
    "# Remove leading and trailing whitespace in 'income_source' column if the value is a string\n",
    "df_copy['income_source'] = df_copy['income_source'].apply(lambda x: x.strip() if isinstance(x, str) else x)\n",
    "\n",
    "# Recoding 'income_source' column for the remaining values\n",
    "df_copy['income_source'] = df_copy['income_source'].replace(income_source_mapping)\n"
   ]
  },
  {
   "cell_type": "code",
   "execution_count": 35,
   "metadata": {},
   "outputs": [
    {
     "data": {
      "text/plain": [
       "Index(['age', 'gender', 'education_level', 'education_year', 'income',\n",
       "       'emplrel', 'uemp5', 'occupation', 'income_source', 'household_type',\n",
       "       'lrscale', 'polintr', 'lsunemp', 'sbprvpv', 'sbeqsoc', 'smdfslv',\n",
       "       'gincdif', 'sbstrec', 'dfincac', 'bennent', 'sblazy', 'basinc',\n",
       "       'reason'],\n",
       "      dtype='object')"
      ]
     },
     "execution_count": 35,
     "metadata": {},
     "output_type": "execute_result"
    }
   ],
   "source": [
    "df_copy.columns"
   ]
  },
  {
   "cell_type": "code",
   "execution_count": 38,
   "metadata": {},
   "outputs": [
    {
     "data": {
      "text/plain": [
       "3    21\n",
       "1    20\n",
       "2    14\n",
       "4    11\n",
       "5     4\n",
       "Name: household_type, dtype: int64"
      ]
     },
     "execution_count": 38,
     "metadata": {},
     "output_type": "execute_result"
    }
   ],
   "source": [
    "df_copy[\"household_type\"].value_counts()"
   ]
  },
  {
   "cell_type": "code",
   "execution_count": 37,
   "metadata": {},
   "outputs": [],
   "source": [
    "# Mapping of household_type values to numerical values\n",
    "household_type_mapping = {\n",
    "    'Paar ohne Kinder': 3,\n",
    "    'Einpersonenhaushalt': 1,\n",
    "    'Wohngemeinschaft mit nicht verwandten Personen': 2,\n",
    "    'Paar mit Kindern': 4,\n",
    "    'Mehrgenerationenhaushalt': 5\n",
    "}\n",
    "\n",
    "# Remove leading and trailing whitespace in 'household_type' column if the value is a string\n",
    "df_copy['household_type'] = df_copy['household_type'].apply(lambda x: x.strip() if isinstance(x, str) else x)\n",
    "\n",
    "# Recoding 'household_type' column\n",
    "df_copy['household_type'] = df_copy['household_type'].replace(household_type_mapping)\n"
   ]
  },
  {
   "cell_type": "code",
   "execution_count": 42,
   "metadata": {},
   "outputs": [
    {
     "data": {
      "text/plain": [
       "0    50\n",
       "5    11\n",
       "1     9\n",
       "Name: lrscale, dtype: int64"
      ]
     },
     "execution_count": 42,
     "metadata": {},
     "output_type": "execute_result"
    }
   ],
   "source": [
    "df_copy[\"lrscale\"].value_counts()"
   ]
  },
  {
   "cell_type": "code",
   "execution_count": 41,
   "metadata": {},
   "outputs": [],
   "source": [
    "# Recoding 'lrscale' column\n",
    "df_copy['lrscale'] = df_copy['lrscale'].apply(lambda x: 0 if 0 <= x <= 4 else (1 if 6 <= x <= 10 else x))\n",
    "\n"
   ]
  },
  {
   "cell_type": "code",
   "execution_count": 43,
   "metadata": {},
   "outputs": [
    {
     "data": {
      "text/plain": [
       "2: Ziemlich interessiert    33\n",
       "1: Sehr interessiert        21\n",
       "3: Wenig interessiert       15\n",
       "Name: polintr, dtype: int64"
      ]
     },
     "execution_count": 43,
     "metadata": {},
     "output_type": "execute_result"
    }
   ],
   "source": [
    "df_copy[\"polintr\"].value_counts()"
   ]
  },
  {
   "cell_type": "code",
   "execution_count": 44,
   "metadata": {},
   "outputs": [],
   "source": [
    "# Mapping of polintr values to numerical values\n",
    "polintr_mapping = {\n",
    "    '2: Ziemlich interessiert': 1,\n",
    "    '1: Sehr interessiert': 1,\n",
    "    '3: Wenig interessiert': 0\n",
    "}\n",
    "\n",
    "# Remove leading and trailing whitespace in 'polintr' column if the value is a string\n",
    "df_copy['polintr'] = df_copy['polintr'].apply(lambda x: x.strip() if isinstance(x, str) else x)\n",
    "\n",
    "# Recoding 'polintr' column\n",
    "df_copy['polintr'] = df_copy['polintr'].replace(polintr_mapping)\n"
   ]
  },
  {
   "cell_type": "code",
   "execution_count": 64,
   "metadata": {},
   "outputs": [
    {
     "data": {
      "text/plain": [
       "1.0    54\n",
       "0.0    15\n",
       "Name: polintr, dtype: int64"
      ]
     },
     "execution_count": 64,
     "metadata": {},
     "output_type": "execute_result"
    }
   ],
   "source": [
    "df_copy[\"polintr\"].value_counts()"
   ]
  },
  {
   "cell_type": "code",
   "execution_count": 47,
   "metadata": {},
   "outputs": [
    {
     "data": {
      "text/plain": [
       "1.0    47\n",
       "3.0    12\n",
       "0.0    10\n",
       "Name: lsunemp, dtype: int64"
      ]
     },
     "execution_count": 47,
     "metadata": {},
     "output_type": "execute_result"
    }
   ],
   "source": [
    "df_copy[\"lsunemp\"].value_counts()"
   ]
  },
  {
   "cell_type": "code",
   "execution_count": 46,
   "metadata": {},
   "outputs": [],
   "source": [
    "# Mapping of lsunemp values to numerical values\n",
    "values_mapping = {\n",
    "    '2: Stimme eher zu': 1,\n",
    "    '1: Stimme voll und ganz zu': 1,\n",
    "    '3: Weder Zustimmung noch Ablehnung': 3,\n",
    "    '4: Stimme eher nicht zu': 0,\n",
    "    '5: Stimme überhaupt nicht zu': 0\n",
    "}\n",
    "\n",
    "# Remove leading and trailing whitespace in 'lsunemp' column if the value is a string\n",
    "df_copy['lsunemp'] = df_copy['lsunemp'].apply(lambda x: x.strip() if isinstance(x, str) else x)\n",
    "\n",
    "# Recoding 'lsunemp' column\n",
    "df_copy['lsunemp'] = df_copy['lsunemp'].replace(values_mapping)\n",
    "\n"
   ]
  },
  {
   "cell_type": "code",
   "execution_count": 48,
   "metadata": {},
   "outputs": [],
   "source": [
    "df_copy['sbprvpv'] = df_copy['sbprvpv'].apply(lambda x: x.strip() if isinstance(x, str) else x)\n",
    "\n",
    "\n",
    "df_copy['sbprvpv'] = df_copy['sbprvpv'].replace(values_mapping)"
   ]
  },
  {
   "cell_type": "code",
   "execution_count": 49,
   "metadata": {},
   "outputs": [],
   "source": [
    "df_copy['sbeqsoc'] = df_copy['sbeqsoc'].apply(lambda x: x.strip() if isinstance(x, str) else x)\n",
    "\n",
    "\n",
    "df_copy['sbeqsoc'] = df_copy['sbeqsoc'].replace(values_mapping)"
   ]
  },
  {
   "cell_type": "code",
   "execution_count": 50,
   "metadata": {},
   "outputs": [
    {
     "data": {
      "text/plain": [
       "1.0    43\n",
       "0.0    17\n",
       "3.0     9\n",
       "Name: smdfslv, dtype: int64"
      ]
     },
     "execution_count": 50,
     "metadata": {},
     "output_type": "execute_result"
    }
   ],
   "source": [
    "df_copy['smdfslv'] = df_copy['smdfslv'].apply(lambda x: x.strip() if isinstance(x, str) else x)\n",
    "\n",
    "\n",
    "df_copy['smdfslv'] = df_copy['smdfslv'].replace(values_mapping)\n",
    "\n",
    "df_copy['smdfslv'].value_counts()"
   ]
  },
  {
   "cell_type": "code",
   "execution_count": 51,
   "metadata": {},
   "outputs": [
    {
     "data": {
      "text/plain": [
       "1    45\n",
       "3    14\n",
       "0    11\n",
       "Name: gincdif, dtype: int64"
      ]
     },
     "execution_count": 51,
     "metadata": {},
     "output_type": "execute_result"
    }
   ],
   "source": [
    "df_copy['gincdif'] = df_copy['gincdif'].apply(lambda x: x.strip() if isinstance(x, str) else x)\n",
    "\n",
    "\n",
    "df_copy['gincdif'] = df_copy['gincdif'].replace(values_mapping)\n",
    "\n",
    "df_copy['gincdif'].value_counts()"
   ]
  },
  {
   "cell_type": "code",
   "execution_count": 52,
   "metadata": {},
   "outputs": [
    {
     "data": {
      "text/plain": [
       "0.0    40\n",
       "3.0    17\n",
       "1.0    12\n",
       "Name: sbstrec, dtype: int64"
      ]
     },
     "execution_count": 52,
     "metadata": {},
     "output_type": "execute_result"
    }
   ],
   "source": [
    "df_copy['sbstrec'] = df_copy['sbstrec'].apply(lambda x: x.strip() if isinstance(x, str) else x)\n",
    "\n",
    "\n",
    "df_copy['sbstrec'] = df_copy['sbstrec'].replace(values_mapping)\n",
    "\n",
    "df_copy['sbstrec'].value_counts()"
   ]
  },
  {
   "cell_type": "code",
   "execution_count": 53,
   "metadata": {},
   "outputs": [
    {
     "data": {
      "text/plain": [
       "1    33\n",
       "0    26\n",
       "3    11\n",
       "Name: dfincac, dtype: int64"
      ]
     },
     "execution_count": 53,
     "metadata": {},
     "output_type": "execute_result"
    }
   ],
   "source": [
    "df_copy['dfincac'] = df_copy['dfincac'].apply(lambda x: x.strip() if isinstance(x, str) else x)\n",
    "\n",
    "df_copy['dfincac'] = df_copy['dfincac'].replace(values_mapping)\n",
    "\n",
    "df_copy['dfincac'].value_counts()"
   ]
  },
  {
   "cell_type": "code",
   "execution_count": 54,
   "metadata": {},
   "outputs": [
    {
     "data": {
      "text/plain": [
       "0    25\n",
       "1    23\n",
       "3    22\n",
       "Name: bennent, dtype: int64"
      ]
     },
     "execution_count": 54,
     "metadata": {},
     "output_type": "execute_result"
    }
   ],
   "source": [
    "df_copy['bennent'] = df_copy['bennent'].apply(lambda x: x.strip() if isinstance(x, str) else x)\n",
    "\n",
    "df_copy['bennent'] = df_copy['bennent'].replace(values_mapping)\n",
    "\n",
    "df_copy['bennent'].value_counts()"
   ]
  },
  {
   "cell_type": "code",
   "execution_count": 55,
   "metadata": {},
   "outputs": [
    {
     "data": {
      "text/plain": [
       "0    42\n",
       "1    15\n",
       "3    13\n",
       "Name: sblazy, dtype: int64"
      ]
     },
     "execution_count": 55,
     "metadata": {},
     "output_type": "execute_result"
    }
   ],
   "source": [
    "df_copy['sblazy'] = df_copy['sblazy'].apply(lambda x: x.strip() if isinstance(x, str) else x)\n",
    "\n",
    "df_copy['sblazy'] = df_copy['sblazy'].replace(values_mapping)\n",
    "\n",
    "df_copy['sblazy'].value_counts()"
   ]
  },
  {
   "cell_type": "code",
   "execution_count": 56,
   "metadata": {},
   "outputs": [
    {
     "data": {
      "text/plain": [
       "3: Dafür            30\n",
       "2: Dagegen          21\n",
       "4: Stark Dafür      15\n",
       "1: Stark dagegen     4\n",
       "Name: basinc, dtype: int64"
      ]
     },
     "execution_count": 56,
     "metadata": {},
     "output_type": "execute_result"
    }
   ],
   "source": [
    "df_copy[\"basinc\"].value_counts()"
   ]
  },
  {
   "cell_type": "code",
   "execution_count": 58,
   "metadata": {},
   "outputs": [
    {
     "data": {
      "text/plain": [
       "1                   45\n",
       "0                   21\n",
       "1: Stark dagegen     4\n",
       "Name: basinc, dtype: int64"
      ]
     },
     "execution_count": 58,
     "metadata": {},
     "output_type": "execute_result"
    }
   ],
   "source": [
    "df_copy['basinc'] = df_copy['basinc'].apply(lambda x: x.strip() if isinstance(x, str) else x)\n",
    "\n",
    "df_copy['basinc'] = df_copy['basinc'].replace({'3: Dafür': 1, '2: Dagegen': 0, '4: Stark Dafür': 1, '1: Stark dagegen     4':0})\n",
    "\n",
    "df_copy['basinc'].value_counts()"
   ]
  },
  {
   "cell_type": "code",
   "execution_count": 59,
   "metadata": {},
   "outputs": [],
   "source": [
    "df_copy['basinc'] = df_copy['basinc'].replace({ '1: Stark dagegen':0})"
   ]
  },
  {
   "cell_type": "code",
   "execution_count": 60,
   "metadata": {},
   "outputs": [
    {
     "data": {
      "text/plain": [
       "1    45\n",
       "0    25\n",
       "Name: basinc, dtype: int64"
      ]
     },
     "execution_count": 60,
     "metadata": {},
     "output_type": "execute_result"
    }
   ],
   "source": [
    "df_copy['basinc'].value_counts()"
   ]
  },
  {
   "cell_type": "code",
   "execution_count": 61,
   "metadata": {},
   "outputs": [
    {
     "data": {
      "text/plain": [
       "Ungleichheit                                                                                                                                                                                                                                                                                                                                                                                                     25\n",
       "soziale Wohlfahrt                                                                                                                                                                                                                                                                                                                                                                                                 9\n",
       "Erfüllung der eigenen Bedürfnisse                                                                                                                                                                                                                                                                                                                                                                                 7\n",
       "Armut                                                                                                                                                                                                                                                                                                                                                                                                             6\n",
       "Eigenes Einkommen                                                                                                                                                                                                                                                                                                                                                                                                 6\n",
       "Arbeitslosigkeit                                                                                                                                                                                                                                                                                                                                                                                                  3\n",
       "Steuererhöhung                                                                                                                                                                                                                                                                                                                                                                                                    3\n",
       "Ein Grundeinkommen ist völlig unrealistisch. Es macht meiner Meinung nach keinen Sinn, jeder Person gleichviel Geld zu geben. Es geht er darum, wie wir vulnerable Gruppen besser und zielgerichteter unterstützen können, administrative Vorgänge vereinfachen und digitalisiere können. Aus fiskalischer Sicht ist ein Grundeinkommen nicht umsetzbar, man muss das vorhandene Geld effizienter einsetzen.      1\n",
       "sozialer, und dadurch wirtschaftlicher Fortschritt                                                                                                                                                                                                                                                                                                                                                                1\n",
       "Finanzierbarkeit                                                                                                                                                                                                                                                                                                                                                                                                  1\n",
       "Gießkannenprinzip, zu teuer und zu pauschalisierend                                                                                                                                                                                                                                                                                                                                                               1\n",
       "Die Frage, ob die Refinanzierung des BGE durch Steuern dazu führt, dass zusätzliche Einnahmen prozentual so stark besteuert werden, dass ein relevanter Anteil der BGE-Beziehenden es für unverhältnismäßig hält zu Arbeiten                                                                                                                                                                                      1\n",
       "Demokratie                                                                                                                                                                                                                                                                                                                                                                                                        1\n",
       "Finanzielle Grundabsicherung                                                                                                                                                                                                                                                                                                                                                                                      1\n",
       "Steuererhöhungen für den Mittelstand und nicht proportional für die extrem Reichen                                                                                                                                                                                                                                                                                                                                1\n",
       "So werden auch die Ehrenamtlichen gewertschätzt                                                                                                                                                                                                                                                                                                                                                                   1\n",
       "Unternehmen würden Preise erhöhen                                                                                                                                                                                                                                                                                                                                                                                 1\n",
       "Name: reason, dtype: int64"
      ]
     },
     "execution_count": 61,
     "metadata": {},
     "output_type": "execute_result"
    }
   ],
   "source": [
    "df_copy['reason'].value_counts()"
   ]
  },
  {
   "cell_type": "raw",
   "metadata": {},
   "source": [
    "Occupation column is excluded from the results. \n",
    "Reason column is not cleaned. \n",
    "The values and opinions values include the neutral statement which should be weighted distributed. "
   ]
  },
  {
   "cell_type": "code",
   "execution_count": 62,
   "metadata": {},
   "outputs": [
    {
     "data": {
      "text/html": [
       "<div>\n",
       "<style scoped>\n",
       "    .dataframe tbody tr th:only-of-type {\n",
       "        vertical-align: middle;\n",
       "    }\n",
       "\n",
       "    .dataframe tbody tr th {\n",
       "        vertical-align: top;\n",
       "    }\n",
       "\n",
       "    .dataframe thead th {\n",
       "        text-align: right;\n",
       "    }\n",
       "</style>\n",
       "<table border=\"1\" class=\"dataframe\">\n",
       "  <thead>\n",
       "    <tr style=\"text-align: right;\">\n",
       "      <th></th>\n",
       "      <th>age</th>\n",
       "      <th>gender</th>\n",
       "      <th>education_level</th>\n",
       "      <th>education_year</th>\n",
       "      <th>income</th>\n",
       "      <th>emplrel</th>\n",
       "      <th>uemp5</th>\n",
       "      <th>occupation</th>\n",
       "      <th>income_source</th>\n",
       "      <th>household_type</th>\n",
       "      <th>...</th>\n",
       "      <th>sbprvpv</th>\n",
       "      <th>sbeqsoc</th>\n",
       "      <th>smdfslv</th>\n",
       "      <th>gincdif</th>\n",
       "      <th>sbstrec</th>\n",
       "      <th>dfincac</th>\n",
       "      <th>bennent</th>\n",
       "      <th>sblazy</th>\n",
       "      <th>basinc</th>\n",
       "      <th>reason</th>\n",
       "    </tr>\n",
       "  </thead>\n",
       "  <tbody>\n",
       "    <tr>\n",
       "      <th>0</th>\n",
       "      <td>32.0</td>\n",
       "      <td>0</td>\n",
       "      <td>6</td>\n",
       "      <td>6</td>\n",
       "      <td>3</td>\n",
       "      <td>3</td>\n",
       "      <td>1</td>\n",
       "      <td>Office Manager</td>\n",
       "      <td>1</td>\n",
       "      <td>2</td>\n",
       "      <td>...</td>\n",
       "      <td>1.0</td>\n",
       "      <td>1</td>\n",
       "      <td>0.0</td>\n",
       "      <td>0</td>\n",
       "      <td>3.0</td>\n",
       "      <td>1</td>\n",
       "      <td>1</td>\n",
       "      <td>0</td>\n",
       "      <td>0</td>\n",
       "      <td>Steuererhöhung</td>\n",
       "    </tr>\n",
       "    <tr>\n",
       "      <th>1</th>\n",
       "      <td>25.0</td>\n",
       "      <td>0</td>\n",
       "      <td>6</td>\n",
       "      <td>19</td>\n",
       "      <td>6</td>\n",
       "      <td>3</td>\n",
       "      <td>0</td>\n",
       "      <td>Ärztin</td>\n",
       "      <td>1</td>\n",
       "      <td>3</td>\n",
       "      <td>...</td>\n",
       "      <td>0.0</td>\n",
       "      <td>3</td>\n",
       "      <td>0.0</td>\n",
       "      <td>3</td>\n",
       "      <td>3.0</td>\n",
       "      <td>1</td>\n",
       "      <td>1</td>\n",
       "      <td>1</td>\n",
       "      <td>0</td>\n",
       "      <td>Steuererhöhung</td>\n",
       "    </tr>\n",
       "    <tr>\n",
       "      <th>2</th>\n",
       "      <td>23.0</td>\n",
       "      <td>0</td>\n",
       "      <td>6</td>\n",
       "      <td>18</td>\n",
       "      <td>2</td>\n",
       "      <td>1</td>\n",
       "      <td>0</td>\n",
       "      <td>Werkstudentin</td>\n",
       "      <td>1</td>\n",
       "      <td>2</td>\n",
       "      <td>...</td>\n",
       "      <td>3.0</td>\n",
       "      <td>1</td>\n",
       "      <td>1.0</td>\n",
       "      <td>1</td>\n",
       "      <td>1.0</td>\n",
       "      <td>1</td>\n",
       "      <td>1</td>\n",
       "      <td>0</td>\n",
       "      <td>0</td>\n",
       "      <td>Steuererhöhung</td>\n",
       "    </tr>\n",
       "    <tr>\n",
       "      <th>3</th>\n",
       "      <td>22.0</td>\n",
       "      <td>1</td>\n",
       "      <td>5</td>\n",
       "      <td>16</td>\n",
       "      <td>2</td>\n",
       "      <td>1</td>\n",
       "      <td>0</td>\n",
       "      <td>Student</td>\n",
       "      <td>5</td>\n",
       "      <td>1</td>\n",
       "      <td>...</td>\n",
       "      <td>1.0</td>\n",
       "      <td>1</td>\n",
       "      <td>0.0</td>\n",
       "      <td>1</td>\n",
       "      <td>0.0</td>\n",
       "      <td>1</td>\n",
       "      <td>3</td>\n",
       "      <td>0</td>\n",
       "      <td>0</td>\n",
       "      <td>NaN</td>\n",
       "    </tr>\n",
       "    <tr>\n",
       "      <th>4</th>\n",
       "      <td>23.0</td>\n",
       "      <td>0</td>\n",
       "      <td>5</td>\n",
       "      <td>17</td>\n",
       "      <td>1</td>\n",
       "      <td>1</td>\n",
       "      <td>0</td>\n",
       "      <td>NaN</td>\n",
       "      <td>5</td>\n",
       "      <td>1</td>\n",
       "      <td>...</td>\n",
       "      <td>3.0</td>\n",
       "      <td>1</td>\n",
       "      <td>1.0</td>\n",
       "      <td>1</td>\n",
       "      <td>0.0</td>\n",
       "      <td>0</td>\n",
       "      <td>3</td>\n",
       "      <td>0</td>\n",
       "      <td>1</td>\n",
       "      <td>Ungleichheit</td>\n",
       "    </tr>\n",
       "  </tbody>\n",
       "</table>\n",
       "<p>5 rows × 23 columns</p>\n",
       "</div>"
      ],
      "text/plain": [
       "    age  gender  education_level  education_year income  emplrel  uemp5  \\\n",
       "0  32.0       0                6               6      3        3      1   \n",
       "1  25.0       0                6              19      6        3      0   \n",
       "2  23.0       0                6              18      2        1      0   \n",
       "3  22.0       1                5              16      2        1      0   \n",
       "4  23.0       0                5              17      1        1      0   \n",
       "\n",
       "       occupation  income_source  household_type  ...  sbprvpv  sbeqsoc  \\\n",
       "0  Office Manager              1               2  ...      1.0        1   \n",
       "1          Ärztin              1               3  ...      0.0        3   \n",
       "2   Werkstudentin              1               2  ...      3.0        1   \n",
       "3        Student               5               1  ...      1.0        1   \n",
       "4             NaN              5               1  ...      3.0        1   \n",
       "\n",
       "   smdfslv  gincdif  sbstrec  dfincac  bennent  sblazy  basinc          reason  \n",
       "0      0.0        0      3.0        1        1       0       0  Steuererhöhung  \n",
       "1      0.0        3      3.0        1        1       1       0  Steuererhöhung  \n",
       "2      1.0        1      1.0        1        1       0       0  Steuererhöhung  \n",
       "3      0.0        1      0.0        1        3       0       0             NaN  \n",
       "4      1.0        1      0.0        0        3       0       1    Ungleichheit  \n",
       "\n",
       "[5 rows x 23 columns]"
      ]
     },
     "execution_count": 62,
     "metadata": {},
     "output_type": "execute_result"
    }
   ],
   "source": [
    "df_copy.head()"
   ]
  },
  {
   "cell_type": "code",
   "execution_count": 63,
   "metadata": {},
   "outputs": [
    {
     "data": {
      "text/plain": [
       "Index(['age', 'gender', 'education_level', 'education_year', 'income',\n",
       "       'emplrel', 'uemp5', 'occupation', 'income_source', 'household_type',\n",
       "       'lrscale', 'polintr', 'lsunemp', 'sbprvpv', 'sbeqsoc', 'smdfslv',\n",
       "       'gincdif', 'sbstrec', 'dfincac', 'bennent', 'sblazy', 'basinc',\n",
       "       'reason'],\n",
       "      dtype='object')"
      ]
     },
     "execution_count": 63,
     "metadata": {},
     "output_type": "execute_result"
    }
   ],
   "source": [
    "df_copy.columns"
   ]
  },
  {
   "cell_type": "code",
   "execution_count": 66,
   "metadata": {},
   "outputs": [],
   "source": [
    "import numpy as np\n",
    "\n",
    "# Custom function to replace 3 with either 0 or 1 based on the percentage of occurrence\n",
    "def weighted_replace(column):\n",
    "    counts = column.value_counts(normalize=True)\n",
    "    prob_0 = counts.get(0, 0)\n",
    "    prob_1 = counts.get(1, 0)\n",
    "    total_prob = prob_0 + prob_1\n",
    "\n",
    "    column = column.apply(lambda x: np.random.choice([0, 1], p=[prob_0/total_prob, prob_1/total_prob]) if x == 3 else x)\n",
    "    return column\n",
    "\n",
    "\n",
    "\n",
    "columns_to_update = ['lsunemp', 'sbprvpv', 'sbeqsoc', 'smdfslv', 'gincdif', 'sbstrec', 'dfincac', 'bennent', 'sblazy']\n",
    "\n",
    "for column_name in columns_to_update:\n",
    "    df_copy[column_name] = weighted_replace(df_copy[column_name])\n"
   ]
  },
  {
   "cell_type": "code",
   "execution_count": 71,
   "metadata": {},
   "outputs": [
    {
     "data": {
      "text/plain": [
       "1    57\n",
       "0    13\n",
       "Name: gincdif, dtype: int64"
      ]
     },
     "execution_count": 71,
     "metadata": {},
     "output_type": "execute_result"
    }
   ],
   "source": [
    "df_copy['gincdif'].value_counts()"
   ]
  },
  {
   "cell_type": "code",
   "execution_count": 72,
   "metadata": {},
   "outputs": [],
   "source": [
    "df_copy = df_copy.drop([\"occupation\", \"reason\"], axis = 1)"
   ]
  },
  {
   "cell_type": "code",
   "execution_count": 73,
   "metadata": {},
   "outputs": [
    {
     "data": {
      "text/plain": [
       "Index(['age', 'gender', 'education_level', 'education_year', 'income',\n",
       "       'emplrel', 'uemp5', 'income_source', 'household_type', 'lrscale',\n",
       "       'polintr', 'lsunemp', 'sbprvpv', 'sbeqsoc', 'smdfslv', 'gincdif',\n",
       "       'sbstrec', 'dfincac', 'bennent', 'sblazy', 'basinc'],\n",
       "      dtype='object')"
      ]
     },
     "execution_count": 73,
     "metadata": {},
     "output_type": "execute_result"
    }
   ],
   "source": [
    "df_copy.columns"
   ]
  },
  {
   "cell_type": "code",
   "execution_count": 76,
   "metadata": {},
   "outputs": [
    {
     "name": "stdout",
     "output_type": "stream",
     "text": [
      "Total missing values in the DataFrame: 0\n"
     ]
    }
   ],
   "source": [
    "missing_values_count = df_copy.isna().sum().sum()\n",
    "\n",
    "print(f\"Total missing values in the DataFrame: {missing_values_count}\")\n"
   ]
  },
  {
   "cell_type": "code",
   "execution_count": 75,
   "metadata": {},
   "outputs": [],
   "source": [
    "for column_name in df_copy.columns:\n",
    "    mode_value = df_copy[column_name].mode().iloc[0]\n",
    "    df_copy[column_name].fillna(mode_value, inplace=True)\n"
   ]
  },
  {
   "cell_type": "code",
   "execution_count": null,
   "metadata": {},
   "outputs": [],
   "source": [
    "df_copy.to_csv(\"\")"
   ]
  }
 ],
 "metadata": {
  "kernelspec": {
   "display_name": "Python 3",
   "language": "python",
   "name": "python3"
  },
  "language_info": {
   "codemirror_mode": {
    "name": "ipython",
    "version": 3
   },
   "file_extension": ".py",
   "mimetype": "text/x-python",
   "name": "python",
   "nbconvert_exporter": "python",
   "pygments_lexer": "ipython3",
   "version": "3.8.5"
  }
 },
 "nbformat": 4,
 "nbformat_minor": 4
}
