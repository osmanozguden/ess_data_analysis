{
 "cells": [
  {
   "cell_type": "code",
   "execution_count": 1,
   "metadata": {},
   "outputs": [],
   "source": [
    "import pandas as pd\n",
    "import numpy as np\n",
    "\n",
    "import seaborn as sns\n",
    "import matplotlib.pyplot as plt"
   ]
  },
  {
   "cell_type": "code",
   "execution_count": 2,
   "metadata": {},
   "outputs": [],
   "source": [
    "ess_de_org = pd.read_csv(\"ESS_R8_Germany.csv\")"
   ]
  },
  {
   "cell_type": "code",
   "execution_count": 3,
   "metadata": {},
   "outputs": [],
   "source": [
    "ess_de = ess_de_org.copy()"
   ]
  },
  {
   "cell_type": "markdown",
   "metadata": {},
   "source": [
    "PRE-PROCESSING"
   ]
  },
  {
   "cell_type": "markdown",
   "metadata": {},
   "source": [
    "I preprocessed only the political variables in this notebook. For the economical and social variables, I will use another notebook. "
   ]
  },
  {
   "cell_type": "markdown",
   "metadata": {},
   "source": [
    "1 - basinc"
   ]
  },
  {
   "cell_type": "code",
   "execution_count": 4,
   "metadata": {},
   "outputs": [
    {
     "name": "stdout",
     "output_type": "stream",
     "text": [
      "2    1119\n",
      "3    1062\n",
      "1     334\n",
      "4     250\n",
      "8      79\n",
      "7       8\n",
      "Name: basinc, dtype: int64\n"
     ]
    },
    {
     "data": {
      "image/png": "[encoded data removed]",
      "text/plain": [
       "<Figure size 432x288 with 1 Axes>"
      ]
     },
     "metadata": {
      "needs_background": "light"
     },
     "output_type": "display_data"
    }
   ],
   "source": [
    "print(ess_de['basinc'].value_counts())\n",
    "sns.countplot(x='basinc', data=ess_de, palette='Set2')\n",
    "plt.show()"
   ]
  },
  {
   "cell_type": "code",
   "execution_count": 5,
   "metadata": {},
   "outputs": [],
   "source": [
    "ess_de.loc[ess_de['basinc'] == 1, 'basinc'] = 0\n",
    "ess_de.loc[ess_de['basinc'] == 2, 'basinc'] = 0\n",
    "ess_de.loc[ess_de['basinc'] == 3, 'basinc'] = 1\n",
    "ess_de.loc[ess_de['basinc'] == 4, 'basinc'] = 1"
   ]
  },
  {
   "cell_type": "code",
   "execution_count": 6,
   "metadata": {},
   "outputs": [],
   "source": [
    "ess_de.loc[ess_de['basinc'] == 7, 'basinc'] = 3\n",
    "ess_de.loc[ess_de['basinc'] == 8, 'basinc'] = 3"
   ]
  },
  {
   "cell_type": "code",
   "execution_count": 7,
   "metadata": {},
   "outputs": [
    {
     "name": "stdout",
     "output_type": "stream",
     "text": [
      "0    1453\n",
      "1    1312\n",
      "3      87\n",
      "Name: basinc, dtype: int64\n"
     ]
    },
    {
     "data": {
      "image/png": "[encoded data removed]",
      "text/plain": [
       "<Figure size 432x288 with 1 Axes>"
      ]
     },
     "metadata": {
      "needs_background": "light"
     },
     "output_type": "display_data"
    }
   ],
   "source": [
    "print(ess_de['basinc'].value_counts())\n",
    "sns.countplot(x='basinc', data=ess_de, palette='Set2')\n",
    "plt.show()"
   ]
  },
  {
   "cell_type": "code",
   "execution_count": 8,
   "metadata": {},
   "outputs": [],
   "source": [
    "# replace half of the '3' values with '0' and the other half with '1'\n",
    "threes = ess_de['basinc'] == 3\n",
    "num_threes = sum(threes)\n",
    "num_zeros = num_threes // 2\n",
    "indices = ess_de.loc[threes].index\n",
    "random_indices = np.random.choice(indices, size=num_zeros, replace=False)\n",
    "ess_de.loc[random_indices, 'basinc'] = 0\n",
    "ess_de.loc[indices.difference(random_indices), 'basinc'] = 1"
   ]
  },
  {
   "cell_type": "code",
   "execution_count": 9,
   "metadata": {},
   "outputs": [
    {
     "name": "stdout",
     "output_type": "stream",
     "text": [
      "0    1496\n",
      "1    1356\n",
      "Name: basinc, dtype: int64\n"
     ]
    },
    {
     "data": {
      "image/png": "[encoded data removed]",
      "text/plain": [
       "<Figure size 432x288 with 1 Axes>"
      ]
     },
     "metadata": {
      "needs_background": "light"
     },
     "output_type": "display_data"
    }
   ],
   "source": [
    "print(ess_de['basinc'].value_counts())\n",
    "sns.countplot(x='basinc', data=ess_de, palette='Set2')\n",
    "plt.show()"
   ]
  },
  {
   "cell_type": "markdown",
   "metadata": {},
   "source": [
    "2 - nwspol"
   ]
  },
  {
   "cell_type": "code",
   "execution_count": 10,
   "metadata": {},
   "outputs": [
    {
     "name": "stdout",
     "output_type": "stream",
     "text": [
      "60      648\n",
      "30      570\n",
      "90      270\n",
      "120     234\n",
      "15      206\n",
      "       ... \n",
      "1005      1\n",
      "600       1\n",
      "570       1\n",
      "562       1\n",
      "692       1\n",
      "Name: nwspol, Length: 75, dtype: int64\n"
     ]
    },
    {
     "data": {
      "image/png": "[encoded data removed]",
      "text/plain": [
       "<Figure size 432x288 with 1 Axes>"
      ]
     },
     "metadata": {
      "needs_background": "light"
     },
     "output_type": "display_data"
    }
   ],
   "source": [
    "print(ess_de['nwspol'].value_counts())\n",
    "sns.countplot(x='nwspol', data=ess_de, palette='Set2')\n",
    "plt.show()"
   ]
  },
  {
   "cell_type": "code",
   "execution_count": 11,
   "metadata": {},
   "outputs": [],
   "source": [
    "# Dropping the missing values from the column.\n",
    "\n",
    "ess_de.drop(ess_de[(ess_de['nwspol'] == 7777) | (ess_de['nwspol'] == 8888) | (ess_de['nwspol'] == 9999)].index, inplace=True)\n"
   ]
  },
  {
   "cell_type": "code",
   "execution_count": 12,
   "metadata": {},
   "outputs": [
    {
     "data": {
      "text/plain": [
       "2851"
      ]
     },
     "execution_count": 12,
     "metadata": {},
     "output_type": "execute_result"
    }
   ],
   "source": [
    "ess_de[\"nwspol\"].count()"
   ]
  },
  {
   "cell_type": "code",
   "execution_count": 13,
   "metadata": {},
   "outputs": [],
   "source": [
    "#Creating a new dataframe with all variables. \n",
    "\n",
    "x_data = ess_de[['basinc', 'nwspol']]"
   ]
  },
  {
   "cell_type": "code",
   "execution_count": 14,
   "metadata": {},
   "outputs": [
    {
     "data": {
      "text/html": [
       "<div>\n",
       "<style scoped>\n",
       "    .dataframe tbody tr th:only-of-type {\n",
       "        vertical-align: middle;\n",
       "    }\n",
       "\n",
       "    .dataframe tbody tr th {\n",
       "        vertical-align: top;\n",
       "    }\n",
       "\n",
       "    .dataframe thead th {\n",
       "        text-align: right;\n",
       "    }\n",
       "</style>\n",
       "<table border=\"1\" class=\"dataframe\">\n",
       "  <thead>\n",
       "    <tr style=\"text-align: right;\">\n",
       "      <th></th>\n",
       "      <th>basinc</th>\n",
       "      <th>nwspol</th>\n",
       "    </tr>\n",
       "  </thead>\n",
       "  <tbody>\n",
       "    <tr>\n",
       "      <th>count</th>\n",
       "      <td>2851.000000</td>\n",
       "      <td>2851.000000</td>\n",
       "    </tr>\n",
       "    <tr>\n",
       "      <th>mean</th>\n",
       "      <td>0.475272</td>\n",
       "      <td>67.178885</td>\n",
       "    </tr>\n",
       "    <tr>\n",
       "      <th>std</th>\n",
       "      <td>0.499476</td>\n",
       "      <td>84.174861</td>\n",
       "    </tr>\n",
       "    <tr>\n",
       "      <th>min</th>\n",
       "      <td>0.000000</td>\n",
       "      <td>0.000000</td>\n",
       "    </tr>\n",
       "    <tr>\n",
       "      <th>25%</th>\n",
       "      <td>0.000000</td>\n",
       "      <td>30.000000</td>\n",
       "    </tr>\n",
       "    <tr>\n",
       "      <th>50%</th>\n",
       "      <td>0.000000</td>\n",
       "      <td>60.000000</td>\n",
       "    </tr>\n",
       "    <tr>\n",
       "      <th>75%</th>\n",
       "      <td>1.000000</td>\n",
       "      <td>90.000000</td>\n",
       "    </tr>\n",
       "    <tr>\n",
       "      <th>max</th>\n",
       "      <td>1.000000</td>\n",
       "      <td>1200.000000</td>\n",
       "    </tr>\n",
       "  </tbody>\n",
       "</table>\n",
       "</div>"
      ],
      "text/plain": [
       "            basinc       nwspol\n",
       "count  2851.000000  2851.000000\n",
       "mean      0.475272    67.178885\n",
       "std       0.499476    84.174861\n",
       "min       0.000000     0.000000\n",
       "25%       0.000000    30.000000\n",
       "50%       0.000000    60.000000\n",
       "75%       1.000000    90.000000\n",
       "max       1.000000  1200.000000"
      ]
     },
     "execution_count": 14,
     "metadata": {},
     "output_type": "execute_result"
    }
   ],
   "source": [
    "x_data.describe()"
   ]
  },
  {
   "cell_type": "markdown",
   "metadata": {},
   "source": [
    "3 - polintr"
   ]
  },
  {
   "cell_type": "code",
   "execution_count": 15,
   "metadata": {},
   "outputs": [
    {
     "name": "stdout",
     "output_type": "stream",
     "text": [
      "2    1238\n",
      "3     826\n",
      "1     702\n",
      "4      84\n",
      "8       1\n",
      "Name: polintr, dtype: int64\n"
     ]
    },
    {
     "data": {
      "image/png": "[encoded data removed]",
      "text/plain": [
       "<Figure size 432x288 with 1 Axes>"
      ]
     },
     "metadata": {
      "needs_background": "light"
     },
     "output_type": "display_data"
    }
   ],
   "source": [
    "print(ess_de['polintr'].value_counts())\n",
    "sns.countplot(x='polintr', data=ess_de, palette='Set2')\n",
    "plt.show()"
   ]
  },
  {
   "cell_type": "code",
   "execution_count": 16,
   "metadata": {},
   "outputs": [],
   "source": [
    "polintr = ess_de[\"polintr\"]"
   ]
  },
  {
   "cell_type": "code",
   "execution_count": 17,
   "metadata": {},
   "outputs": [],
   "source": [
    "ess_de.loc[ess_de['polintr'] == 1, 'polintr'] = 1\n",
    "ess_de.loc[ess_de['polintr'] == 2, 'polintr'] = 1\n",
    "ess_de.loc[ess_de['polintr'] == 3, 'polintr'] = 0\n",
    "ess_de.loc[ess_de['polintr'] == 4, 'polintr'] = 0"
   ]
  },
  {
   "cell_type": "code",
   "execution_count": 18,
   "metadata": {},
   "outputs": [
    {
     "name": "stdout",
     "output_type": "stream",
     "text": [
      "1    1940\n",
      "0     910\n",
      "8       1\n",
      "Name: polintr, dtype: int64\n"
     ]
    }
   ],
   "source": [
    "print(ess_de['polintr'].value_counts())"
   ]
  },
  {
   "cell_type": "code",
   "execution_count": 19,
   "metadata": {},
   "outputs": [],
   "source": [
    "ess_de.loc[ess_de['polintr'] == 8, 'polintr'] = 1"
   ]
  },
  {
   "cell_type": "code",
   "execution_count": 20,
   "metadata": {},
   "outputs": [
    {
     "name": "stdout",
     "output_type": "stream",
     "text": [
      "1    1941\n",
      "0     910\n",
      "Name: polintr, dtype: int64\n"
     ]
    }
   ],
   "source": [
    "print(ess_de['polintr'].value_counts())"
   ]
  },
  {
   "cell_type": "code",
   "execution_count": 21,
   "metadata": {},
   "outputs": [
    {
     "name": "stderr",
     "output_type": "stream",
     "text": [
      "/Users/anaconda3/lib/python3.8/site-packages/pandas/core/indexing.py:1596: SettingWithCopyWarning: \n",
      "A value is trying to be set on a copy of a slice from a DataFrame.\n",
      "Try using .loc[row_indexer,col_indexer] = value instead\n",
      "\n",
      "See the caveats in the documentation: https://pandas.pydata.org/pandas-docs/stable/user_guide/indexing.html#returning-a-view-versus-a-copy\n",
      "  self.obj[key] = _infer_fill_value(value)\n",
      "/Users/anaconda3/lib/python3.8/site-packages/pandas/core/indexing.py:1745: SettingWithCopyWarning: \n",
      "A value is trying to be set on a copy of a slice from a DataFrame.\n",
      "Try using .loc[row_indexer,col_indexer] = value instead\n",
      "\n",
      "See the caveats in the documentation: https://pandas.pydata.org/pandas-docs/stable/user_guide/indexing.html#returning-a-view-versus-a-copy\n",
      "  isetter(ilocs[0], value)\n"
     ]
    }
   ],
   "source": [
    "x_data.loc[:, 'polintr'] = ess_de['polintr'].values"
   ]
  },
  {
   "cell_type": "code",
   "execution_count": 22,
   "metadata": {},
   "outputs": [
    {
     "data": {
      "text/html": [
       "<div>\n",
       "<style scoped>\n",
       "    .dataframe tbody tr th:only-of-type {\n",
       "        vertical-align: middle;\n",
       "    }\n",
       "\n",
       "    .dataframe tbody tr th {\n",
       "        vertical-align: top;\n",
       "    }\n",
       "\n",
       "    .dataframe thead th {\n",
       "        text-align: right;\n",
       "    }\n",
       "</style>\n",
       "<table border=\"1\" class=\"dataframe\">\n",
       "  <thead>\n",
       "    <tr style=\"text-align: right;\">\n",
       "      <th></th>\n",
       "      <th>basinc</th>\n",
       "      <th>nwspol</th>\n",
       "      <th>polintr</th>\n",
       "    </tr>\n",
       "  </thead>\n",
       "  <tbody>\n",
       "    <tr>\n",
       "      <th>count</th>\n",
       "      <td>2851.000000</td>\n",
       "      <td>2851.000000</td>\n",
       "      <td>2851.000000</td>\n",
       "    </tr>\n",
       "    <tr>\n",
       "      <th>mean</th>\n",
       "      <td>0.475272</td>\n",
       "      <td>67.178885</td>\n",
       "      <td>0.680814</td>\n",
       "    </tr>\n",
       "    <tr>\n",
       "      <th>std</th>\n",
       "      <td>0.499476</td>\n",
       "      <td>84.174861</td>\n",
       "      <td>0.466243</td>\n",
       "    </tr>\n",
       "    <tr>\n",
       "      <th>min</th>\n",
       "      <td>0.000000</td>\n",
       "      <td>0.000000</td>\n",
       "      <td>0.000000</td>\n",
       "    </tr>\n",
       "    <tr>\n",
       "      <th>25%</th>\n",
       "      <td>0.000000</td>\n",
       "      <td>30.000000</td>\n",
       "      <td>0.000000</td>\n",
       "    </tr>\n",
       "    <tr>\n",
       "      <th>50%</th>\n",
       "      <td>0.000000</td>\n",
       "      <td>60.000000</td>\n",
       "      <td>1.000000</td>\n",
       "    </tr>\n",
       "    <tr>\n",
       "      <th>75%</th>\n",
       "      <td>1.000000</td>\n",
       "      <td>90.000000</td>\n",
       "      <td>1.000000</td>\n",
       "    </tr>\n",
       "    <tr>\n",
       "      <th>max</th>\n",
       "      <td>1.000000</td>\n",
       "      <td>1200.000000</td>\n",
       "      <td>1.000000</td>\n",
       "    </tr>\n",
       "  </tbody>\n",
       "</table>\n",
       "</div>"
      ],
      "text/plain": [
       "            basinc       nwspol      polintr\n",
       "count  2851.000000  2851.000000  2851.000000\n",
       "mean      0.475272    67.178885     0.680814\n",
       "std       0.499476    84.174861     0.466243\n",
       "min       0.000000     0.000000     0.000000\n",
       "25%       0.000000    30.000000     0.000000\n",
       "50%       0.000000    60.000000     1.000000\n",
       "75%       1.000000    90.000000     1.000000\n",
       "max       1.000000  1200.000000     1.000000"
      ]
     },
     "execution_count": 22,
     "metadata": {},
     "output_type": "execute_result"
    }
   ],
   "source": [
    "x_data.describe()"
   ]
  },
  {
   "cell_type": "markdown",
   "metadata": {},
   "source": [
    "4 - vote"
   ]
  },
  {
   "cell_type": "code",
   "execution_count": 23,
   "metadata": {},
   "outputs": [
    {
     "name": "stdout",
     "output_type": "stream",
     "text": [
      "1    2113\n",
      "2     371\n",
      "3     357\n",
      "8       6\n",
      "7       4\n",
      "Name: vote, dtype: int64\n"
     ]
    },
    {
     "data": {
      "image/png": "[encoded data removed]",
      "text/plain": [
       "<Figure size 432x288 with 1 Axes>"
      ]
     },
     "metadata": {
      "needs_background": "light"
     },
     "output_type": "display_data"
    }
   ],
   "source": [
    "print(ess_de['vote'].value_counts())\n",
    "sns.countplot(x='vote', data=ess_de, palette='Set2')\n",
    "plt.show()"
   ]
  },
  {
   "cell_type": "code",
   "execution_count": 24,
   "metadata": {},
   "outputs": [],
   "source": [
    "# Weighted distribution of missing values and turning the variable in\n",
    "\n",
    "ess_de.loc[ess_de['vote'] == 7, 'vote'] = 3\n",
    "ess_de.loc[ess_de['vote'] == 8, 'vote'] = 3"
   ]
  },
  {
   "cell_type": "code",
   "execution_count": 25,
   "metadata": {},
   "outputs": [
    {
     "data": {
      "text/plain": [
       "1    2113\n",
       "2     371\n",
       "3     367\n",
       "Name: vote, dtype: int64"
      ]
     },
     "execution_count": 25,
     "metadata": {},
     "output_type": "execute_result"
    }
   ],
   "source": [
    "ess_de[\"vote\"].value_counts()"
   ]
  },
  {
   "cell_type": "code",
   "execution_count": 26,
   "metadata": {},
   "outputs": [],
   "source": [
    "ess_de.loc[ess_de['vote'] == 2, 'vote'] = 0"
   ]
  },
  {
   "cell_type": "code",
   "execution_count": 29,
   "metadata": {},
   "outputs": [
    {
     "data": {
      "text/plain": [
       "1    2425\n",
       "0     426\n",
       "Name: vote, dtype: int64"
      ]
     },
     "execution_count": 29,
     "metadata": {},
     "output_type": "execute_result"
    }
   ],
   "source": [
    "ess_de[\"vote\"].value_counts()"
   ]
  },
  {
   "cell_type": "code",
   "execution_count": 28,
   "metadata": {},
   "outputs": [],
   "source": [
    "# calculate the number of 3 values to replace with 0\n",
    "num_replacements = int(len(ess_de[ess_de['vote'] == 3]) * 0.15)\n",
    "\n",
    "# get the indices of the 3 values to replace with 0\n",
    "replace_indices = np.random.choice(ess_de[ess_de['vote'] == 3].index, num_replacements, replace=False)\n",
    "\n",
    "# replace the 3 values with 0 and 1\n",
    "ess_de.loc[replace_indices, 'vote'] = 0\n",
    "ess_de.loc[ess_de['vote'] == 3, 'vote'] = 1"
   ]
  },
  {
   "cell_type": "code",
   "execution_count": 30,
   "metadata": {},
   "outputs": [
    {
     "data": {
      "text/html": [
       "<div>\n",
       "<style scoped>\n",
       "    .dataframe tbody tr th:only-of-type {\n",
       "        vertical-align: middle;\n",
       "    }\n",
       "\n",
       "    .dataframe tbody tr th {\n",
       "        vertical-align: top;\n",
       "    }\n",
       "\n",
       "    .dataframe thead th {\n",
       "        text-align: right;\n",
       "    }\n",
       "</style>\n",
       "<table border=\"1\" class=\"dataframe\">\n",
       "  <thead>\n",
       "    <tr style=\"text-align: right;\">\n",
       "      <th></th>\n",
       "      <th>basinc</th>\n",
       "      <th>nwspol</th>\n",
       "      <th>polintr</th>\n",
       "    </tr>\n",
       "  </thead>\n",
       "  <tbody>\n",
       "    <tr>\n",
       "      <th>count</th>\n",
       "      <td>2851.000000</td>\n",
       "      <td>2851.000000</td>\n",
       "      <td>2851.000000</td>\n",
       "    </tr>\n",
       "    <tr>\n",
       "      <th>mean</th>\n",
       "      <td>0.475272</td>\n",
       "      <td>67.178885</td>\n",
       "      <td>0.680814</td>\n",
       "    </tr>\n",
       "    <tr>\n",
       "      <th>std</th>\n",
       "      <td>0.499476</td>\n",
       "      <td>84.174861</td>\n",
       "      <td>0.466243</td>\n",
       "    </tr>\n",
       "    <tr>\n",
       "      <th>min</th>\n",
       "      <td>0.000000</td>\n",
       "      <td>0.000000</td>\n",
       "      <td>0.000000</td>\n",
       "    </tr>\n",
       "    <tr>\n",
       "      <th>25%</th>\n",
       "      <td>0.000000</td>\n",
       "      <td>30.000000</td>\n",
       "      <td>0.000000</td>\n",
       "    </tr>\n",
       "    <tr>\n",
       "      <th>50%</th>\n",
       "      <td>0.000000</td>\n",
       "      <td>60.000000</td>\n",
       "      <td>1.000000</td>\n",
       "    </tr>\n",
       "    <tr>\n",
       "      <th>75%</th>\n",
       "      <td>1.000000</td>\n",
       "      <td>90.000000</td>\n",
       "      <td>1.000000</td>\n",
       "    </tr>\n",
       "    <tr>\n",
       "      <th>max</th>\n",
       "      <td>1.000000</td>\n",
       "      <td>1200.000000</td>\n",
       "      <td>1.000000</td>\n",
       "    </tr>\n",
       "  </tbody>\n",
       "</table>\n",
       "</div>"
      ],
      "text/plain": [
       "            basinc       nwspol      polintr\n",
       "count  2851.000000  2851.000000  2851.000000\n",
       "mean      0.475272    67.178885     0.680814\n",
       "std       0.499476    84.174861     0.466243\n",
       "min       0.000000     0.000000     0.000000\n",
       "25%       0.000000    30.000000     0.000000\n",
       "50%       0.000000    60.000000     1.000000\n",
       "75%       1.000000    90.000000     1.000000\n",
       "max       1.000000  1200.000000     1.000000"
      ]
     },
     "execution_count": 30,
     "metadata": {},
     "output_type": "execute_result"
    }
   ],
   "source": [
    "x_data.describe()"
   ]
  },
  {
   "cell_type": "code",
   "execution_count": 31,
   "metadata": {},
   "outputs": [
    {
     "name": "stderr",
     "output_type": "stream",
     "text": [
      "<ipython-input-31-1168e6a7e2e4>:1: SettingWithCopyWarning: \n",
      "A value is trying to be set on a copy of a slice from a DataFrame.\n",
      "Try using .loc[row_indexer,col_indexer] = value instead\n",
      "\n",
      "See the caveats in the documentation: https://pandas.pydata.org/pandas-docs/stable/user_guide/indexing.html#returning-a-view-versus-a-copy\n",
      "  x_data['vote'] = ess_de['vote']\n"
     ]
    }
   ],
   "source": [
    "x_data['vote'] = ess_de['vote']"
   ]
  },
  {
   "cell_type": "code",
   "execution_count": 32,
   "metadata": {},
   "outputs": [
    {
     "name": "stdout",
     "output_type": "stream",
     "text": [
      "1    2425\n",
      "0     426\n",
      "Name: vote, dtype: int64\n"
     ]
    },
    {
     "data": {
      "image/png": "[encoded data removed]",
      "text/plain": [
       "<Figure size 432x288 with 1 Axes>"
      ]
     },
     "metadata": {
      "needs_background": "light"
     },
     "output_type": "display_data"
    }
   ],
   "source": [
    "print(x_data['vote'].value_counts())\n",
    "sns.countplot(x='vote', data=x_data, palette='Set2')\n",
    "plt.show()"
   ]
  },
  {
   "cell_type": "markdown",
   "metadata": {},
   "source": [
    "5 - sgnptit"
   ]
  },
  {
   "cell_type": "code",
   "execution_count": 36,
   "metadata": {},
   "outputs": [
    {
     "name": "stdout",
     "output_type": "stream",
     "text": [
      "0    1778\n",
      "1    1073\n",
      "Name: sgnptit, dtype: int64\n"
     ]
    },
    {
     "data": {
      "image/png": "[encoded data removed]",
      "text/plain": [
       "<Figure size 432x288 with 1 Axes>"
      ]
     },
     "metadata": {
      "needs_background": "light"
     },
     "output_type": "display_data"
    }
   ],
   "source": [
    "print(ess_de['sgnptit'].value_counts())\n",
    "sns.countplot(x='sgnptit', data=ess_de, palette='Set2')\n",
    "plt.show()"
   ]
  },
  {
   "cell_type": "code",
   "execution_count": 34,
   "metadata": {},
   "outputs": [],
   "source": [
    "ess_de.loc[ess_de['sgnptit'] == 2, 'sgnptit'] = 0"
   ]
  },
  {
   "cell_type": "code",
   "execution_count": 35,
   "metadata": {},
   "outputs": [],
   "source": [
    "ess_de.loc[ess_de['sgnptit'] == 8, 'sgnptit'] = 0"
   ]
  },
  {
   "cell_type": "code",
   "execution_count": 37,
   "metadata": {},
   "outputs": [
    {
     "name": "stderr",
     "output_type": "stream",
     "text": [
      "<ipython-input-37-2159b3805f47>:1: SettingWithCopyWarning: \n",
      "A value is trying to be set on a copy of a slice from a DataFrame.\n",
      "Try using .loc[row_indexer,col_indexer] = value instead\n",
      "\n",
      "See the caveats in the documentation: https://pandas.pydata.org/pandas-docs/stable/user_guide/indexing.html#returning-a-view-versus-a-copy\n",
      "  x_data[\"sgnptit\"] = ess_de[\"sgnptit\"]\n"
     ]
    }
   ],
   "source": [
    "x_data[\"sgnptit\"] = ess_de[\"sgnptit\"]"
   ]
  },
  {
   "cell_type": "code",
   "execution_count": 38,
   "metadata": {},
   "outputs": [
    {
     "name": "stdout",
     "output_type": "stream",
     "text": [
      "0    1778\n",
      "1    1073\n",
      "Name: sgnptit, dtype: int64\n"
     ]
    },
    {
     "data": {
      "image/png": "[encoded data removed]",
      "text/plain": [
       "<Figure size 432x288 with 1 Axes>"
      ]
     },
     "metadata": {
      "needs_background": "light"
     },
     "output_type": "display_data"
    }
   ],
   "source": [
    "print(x_data['sgnptit'].value_counts())\n",
    "sns.countplot(x='sgnptit', data=x_data, palette='Set2')\n",
    "plt.show()"
   ]
  },
  {
   "cell_type": "markdown",
   "metadata": {},
   "source": [
    "6 - pstplonl"
   ]
  },
  {
   "cell_type": "code",
   "execution_count": 42,
   "metadata": {},
   "outputs": [
    {
     "name": "stdout",
     "output_type": "stream",
     "text": [
      "0    2218\n",
      "1     633\n",
      "Name: pstplonl, dtype: int64\n"
     ]
    },
    {
     "data": {
      "image/png": "[encoded data removed]",
      "text/plain": [
       "<Figure size 432x288 with 1 Axes>"
      ]
     },
     "metadata": {
      "needs_background": "light"
     },
     "output_type": "display_data"
    }
   ],
   "source": [
    "print(ess_de['pstplonl'].value_counts())\n",
    "sns.countplot(x='pstplonl', data=ess_de, palette='Set2')\n",
    "plt.show()"
   ]
  },
  {
   "cell_type": "code",
   "execution_count": 40,
   "metadata": {},
   "outputs": [],
   "source": [
    "ess_de.loc[ess_de['pstplonl'] == 2, 'pstplonl'] = 0"
   ]
  },
  {
   "cell_type": "code",
   "execution_count": 41,
   "metadata": {},
   "outputs": [],
   "source": [
    "ess_de.loc[ess_de['pstplonl'] == 8, 'pstplonl'] = 0"
   ]
  },
  {
   "cell_type": "code",
   "execution_count": 43,
   "metadata": {},
   "outputs": [
    {
     "name": "stderr",
     "output_type": "stream",
     "text": [
      "<ipython-input-43-846c48f92326>:1: SettingWithCopyWarning: \n",
      "A value is trying to be set on a copy of a slice from a DataFrame.\n",
      "Try using .loc[row_indexer,col_indexer] = value instead\n",
      "\n",
      "See the caveats in the documentation: https://pandas.pydata.org/pandas-docs/stable/user_guide/indexing.html#returning-a-view-versus-a-copy\n",
      "  x_data[\"pstplonl\"] = ess_de[\"pstplonl\"]\n"
     ]
    }
   ],
   "source": [
    "x_data[\"pstplonl\"] = ess_de[\"pstplonl\"]"
   ]
  },
  {
   "cell_type": "code",
   "execution_count": 44,
   "metadata": {},
   "outputs": [
    {
     "name": "stdout",
     "output_type": "stream",
     "text": [
      "0    2218\n",
      "1     633\n",
      "Name: pstplonl, dtype: int64\n"
     ]
    },
    {
     "data": {
      "image/png": "[encoded data removed]",
      "text/plain": [
       "<Figure size 432x288 with 1 Axes>"
      ]
     },
     "metadata": {
      "needs_background": "light"
     },
     "output_type": "display_data"
    }
   ],
   "source": [
    "print(x_data['pstplonl'].value_counts())\n",
    "sns.countplot(x='pstplonl', data=x_data, palette='Set2')\n",
    "plt.show()"
   ]
  },
  {
   "cell_type": "code",
   "execution_count": 45,
   "metadata": {},
   "outputs": [
    {
     "data": {
      "text/html": [
       "<div>\n",
       "<style scoped>\n",
       "    .dataframe tbody tr th:only-of-type {\n",
       "        vertical-align: middle;\n",
       "    }\n",
       "\n",
       "    .dataframe tbody tr th {\n",
       "        vertical-align: top;\n",
       "    }\n",
       "\n",
       "    .dataframe thead th {\n",
       "        text-align: right;\n",
       "    }\n",
       "</style>\n",
       "<table border=\"1\" class=\"dataframe\">\n",
       "  <thead>\n",
       "    <tr style=\"text-align: right;\">\n",
       "      <th></th>\n",
       "      <th>basinc</th>\n",
       "      <th>nwspol</th>\n",
       "      <th>polintr</th>\n",
       "      <th>vote</th>\n",
       "      <th>sgnptit</th>\n",
       "      <th>pstplonl</th>\n",
       "    </tr>\n",
       "  </thead>\n",
       "  <tbody>\n",
       "    <tr>\n",
       "      <th>count</th>\n",
       "      <td>2851.000000</td>\n",
       "      <td>2851.000000</td>\n",
       "      <td>2851.000000</td>\n",
       "      <td>2851.000000</td>\n",
       "      <td>2851.000000</td>\n",
       "      <td>2851.000000</td>\n",
       "    </tr>\n",
       "    <tr>\n",
       "      <th>mean</th>\n",
       "      <td>0.475272</td>\n",
       "      <td>67.178885</td>\n",
       "      <td>0.680814</td>\n",
       "      <td>0.850579</td>\n",
       "      <td>0.376359</td>\n",
       "      <td>0.222027</td>\n",
       "    </tr>\n",
       "    <tr>\n",
       "      <th>std</th>\n",
       "      <td>0.499476</td>\n",
       "      <td>84.174861</td>\n",
       "      <td>0.466243</td>\n",
       "      <td>0.356566</td>\n",
       "      <td>0.484557</td>\n",
       "      <td>0.415682</td>\n",
       "    </tr>\n",
       "    <tr>\n",
       "      <th>min</th>\n",
       "      <td>0.000000</td>\n",
       "      <td>0.000000</td>\n",
       "      <td>0.000000</td>\n",
       "      <td>0.000000</td>\n",
       "      <td>0.000000</td>\n",
       "      <td>0.000000</td>\n",
       "    </tr>\n",
       "    <tr>\n",
       "      <th>25%</th>\n",
       "      <td>0.000000</td>\n",
       "      <td>30.000000</td>\n",
       "      <td>0.000000</td>\n",
       "      <td>1.000000</td>\n",
       "      <td>0.000000</td>\n",
       "      <td>0.000000</td>\n",
       "    </tr>\n",
       "    <tr>\n",
       "      <th>50%</th>\n",
       "      <td>0.000000</td>\n",
       "      <td>60.000000</td>\n",
       "      <td>1.000000</td>\n",
       "      <td>1.000000</td>\n",
       "      <td>0.000000</td>\n",
       "      <td>0.000000</td>\n",
       "    </tr>\n",
       "    <tr>\n",
       "      <th>75%</th>\n",
       "      <td>1.000000</td>\n",
       "      <td>90.000000</td>\n",
       "      <td>1.000000</td>\n",
       "      <td>1.000000</td>\n",
       "      <td>1.000000</td>\n",
       "      <td>0.000000</td>\n",
       "    </tr>\n",
       "    <tr>\n",
       "      <th>max</th>\n",
       "      <td>1.000000</td>\n",
       "      <td>1200.000000</td>\n",
       "      <td>1.000000</td>\n",
       "      <td>1.000000</td>\n",
       "      <td>1.000000</td>\n",
       "      <td>1.000000</td>\n",
       "    </tr>\n",
       "  </tbody>\n",
       "</table>\n",
       "</div>"
      ],
      "text/plain": [
       "            basinc       nwspol      polintr         vote      sgnptit  \\\n",
       "count  2851.000000  2851.000000  2851.000000  2851.000000  2851.000000   \n",
       "mean      0.475272    67.178885     0.680814     0.850579     0.376359   \n",
       "std       0.499476    84.174861     0.466243     0.356566     0.484557   \n",
       "min       0.000000     0.000000     0.000000     0.000000     0.000000   \n",
       "25%       0.000000    30.000000     0.000000     1.000000     0.000000   \n",
       "50%       0.000000    60.000000     1.000000     1.000000     0.000000   \n",
       "75%       1.000000    90.000000     1.000000     1.000000     1.000000   \n",
       "max       1.000000  1200.000000     1.000000     1.000000     1.000000   \n",
       "\n",
       "          pstplonl  \n",
       "count  2851.000000  \n",
       "mean      0.222027  \n",
       "std       0.415682  \n",
       "min       0.000000  \n",
       "25%       0.000000  \n",
       "50%       0.000000  \n",
       "75%       0.000000  \n",
       "max       1.000000  "
      ]
     },
     "execution_count": 45,
     "metadata": {},
     "output_type": "execute_result"
    }
   ],
   "source": [
    "x_data.describe()"
   ]
  },
  {
   "cell_type": "markdown",
   "metadata": {},
   "source": [
    "7 - trstplt"
   ]
  },
  {
   "cell_type": "code",
   "execution_count": 46,
   "metadata": {},
   "outputs": [
    {
     "name": "stdout",
     "output_type": "stream",
     "text": [
      "5     574\n",
      "3     410\n",
      "4     399\n",
      "6     360\n",
      "2     281\n",
      "0     259\n",
      "7     245\n",
      "1     148\n",
      "8     119\n",
      "9      21\n",
      "10     15\n",
      "88     14\n",
      "77      6\n",
      "Name: trstplt, dtype: int64\n"
     ]
    },
    {
     "data": {
      "image/png": "[encoded data removed]",
      "text/plain": [
       "<Figure size 432x288 with 1 Axes>"
      ]
     },
     "metadata": {
      "needs_background": "light"
     },
     "output_type": "display_data"
    }
   ],
   "source": [
    "print(ess_de['trstplt'].value_counts())\n",
    "sns.countplot(x='trstplt', data=ess_de, palette='Set2')\n",
    "plt.show()"
   ]
  },
  {
   "cell_type": "code",
   "execution_count": 47,
   "metadata": {},
   "outputs": [],
   "source": [
    "ess_de.loc[ess_de['trstplt'] == 1, 'trstplt'] = 0\n",
    "ess_de.loc[ess_de['trstplt'] == 2, 'trstplt'] = 0\n",
    "ess_de.loc[ess_de['trstplt'] == 3, 'trstplt'] = 0\n",
    "ess_de.loc[ess_de['trstplt'] == 4, 'trstplt'] = 0\n",
    "ess_de.loc[ess_de['trstplt'] == 6, 'trstplt'] = 1\n",
    "ess_de.loc[ess_de['trstplt'] == 7, 'trstplt'] = 1\n",
    "ess_de.loc[ess_de['trstplt'] == 8, 'trstplt'] = 1\n",
    "ess_de.loc[ess_de['trstplt'] == 9, 'trstplt'] = 1\n",
    "ess_de.loc[ess_de['trstplt'] == 10, 'trstplt'] = 1"
   ]
  },
  {
   "cell_type": "code",
   "execution_count": 54,
   "metadata": {},
   "outputs": [
    {
     "name": "stdout",
     "output_type": "stream",
     "text": [
      "0    1794\n",
      "1    1057\n",
      "Name: trstplt, dtype: int64\n"
     ]
    },
    {
     "data": {
      "image/png": "[encoded data removed]",
      "text/plain": [
       "<Figure size 432x288 with 1 Axes>"
      ]
     },
     "metadata": {
      "needs_background": "light"
     },
     "output_type": "display_data"
    }
   ],
   "source": [
    "print(ess_de['trstplt'].value_counts())\n",
    "sns.countplot(x='trstplt', data=ess_de, palette='Set2')\n",
    "plt.show()"
   ]
  },
  {
   "cell_type": "code",
   "execution_count": 49,
   "metadata": {},
   "outputs": [],
   "source": [
    "ess_de.loc[ess_de['trstplt'] == 88, 'trstplt'] = 5\n",
    "ess_de.loc[ess_de['trstplt'] == 77, 'trstplt'] = 5"
   ]
  },
  {
   "cell_type": "code",
   "execution_count": 51,
   "metadata": {},
   "outputs": [],
   "source": [
    "num_fives = (ess_de['trstplt'] == 5).sum()\n",
    "\n",
    "# calculate the number of 5 values to replace with 0 and 1\n",
    "num_replace_zero = num_fives // 2\n",
    "num_replace_one = num_fives - num_replace_zero\n",
    "\n",
    "# get the indices of the 5 values to replace\n",
    "replace_indices_zero = np.random.choice(ess_de[ess_de['trstplt'] == 5].index, num_replace_zero, replace=False)\n",
    "replace_indices_one = np.random.choice(ess_de[ess_de['trstplt'] == 5].index, num_replace_one, replace=False)\n",
    "\n",
    "# replace the 5 values with 0 and 1\n",
    "ess_de.loc[replace_indices_zero, 'trstplt'] = 0\n",
    "ess_de.loc[replace_indices_one, 'trstplt'] = 1"
   ]
  },
  {
   "cell_type": "code",
   "execution_count": 53,
   "metadata": {},
   "outputs": [],
   "source": [
    "ess_de.loc[ess_de['trstplt'] == 5, 'trstplt'] = 0"
   ]
  },
  {
   "cell_type": "code",
   "execution_count": 55,
   "metadata": {},
   "outputs": [
    {
     "name": "stderr",
     "output_type": "stream",
     "text": [
      "<ipython-input-55-b81d4fe2c0e6>:1: SettingWithCopyWarning: \n",
      "A value is trying to be set on a copy of a slice from a DataFrame.\n",
      "Try using .loc[row_indexer,col_indexer] = value instead\n",
      "\n",
      "See the caveats in the documentation: https://pandas.pydata.org/pandas-docs/stable/user_guide/indexing.html#returning-a-view-versus-a-copy\n",
      "  x_data[\"trstplt\"] = ess_de[\"trstplt\"]\n"
     ]
    }
   ],
   "source": [
    "x_data[\"trstplt\"] = ess_de[\"trstplt\"]"
   ]
  },
  {
   "cell_type": "code",
   "execution_count": 67,
   "metadata": {},
   "outputs": [
    {
     "data": {
      "text/html": [
       "<div>\n",
       "<style scoped>\n",
       "    .dataframe tbody tr th:only-of-type {\n",
       "        vertical-align: middle;\n",
       "    }\n",
       "\n",
       "    .dataframe tbody tr th {\n",
       "        vertical-align: top;\n",
       "    }\n",
       "\n",
       "    .dataframe thead th {\n",
       "        text-align: right;\n",
       "    }\n",
       "</style>\n",
       "<table border=\"1\" class=\"dataframe\">\n",
       "  <thead>\n",
       "    <tr style=\"text-align: right;\">\n",
       "      <th></th>\n",
       "      <th>basinc</th>\n",
       "      <th>nwspol</th>\n",
       "      <th>polintr</th>\n",
       "      <th>vote</th>\n",
       "      <th>sgnptit</th>\n",
       "      <th>pstplonl</th>\n",
       "      <th>trstplt</th>\n",
       "      <th>trstprt</th>\n",
       "    </tr>\n",
       "  </thead>\n",
       "  <tbody>\n",
       "    <tr>\n",
       "      <th>count</th>\n",
       "      <td>2851.000000</td>\n",
       "      <td>2851.000000</td>\n",
       "      <td>2851.000000</td>\n",
       "      <td>2851.000000</td>\n",
       "      <td>2851.000000</td>\n",
       "      <td>2851.000000</td>\n",
       "      <td>2851.000000</td>\n",
       "      <td>2851.000000</td>\n",
       "    </tr>\n",
       "    <tr>\n",
       "      <th>mean</th>\n",
       "      <td>0.475272</td>\n",
       "      <td>67.178885</td>\n",
       "      <td>0.680814</td>\n",
       "      <td>0.850579</td>\n",
       "      <td>0.376359</td>\n",
       "      <td>0.222027</td>\n",
       "      <td>0.370747</td>\n",
       "      <td>0.361978</td>\n",
       "    </tr>\n",
       "    <tr>\n",
       "      <th>std</th>\n",
       "      <td>0.499476</td>\n",
       "      <td>84.174861</td>\n",
       "      <td>0.466243</td>\n",
       "      <td>0.356566</td>\n",
       "      <td>0.484557</td>\n",
       "      <td>0.415682</td>\n",
       "      <td>0.483090</td>\n",
       "      <td>0.480657</td>\n",
       "    </tr>\n",
       "    <tr>\n",
       "      <th>min</th>\n",
       "      <td>0.000000</td>\n",
       "      <td>0.000000</td>\n",
       "      <td>0.000000</td>\n",
       "      <td>0.000000</td>\n",
       "      <td>0.000000</td>\n",
       "      <td>0.000000</td>\n",
       "      <td>0.000000</td>\n",
       "      <td>0.000000</td>\n",
       "    </tr>\n",
       "    <tr>\n",
       "      <th>25%</th>\n",
       "      <td>0.000000</td>\n",
       "      <td>30.000000</td>\n",
       "      <td>0.000000</td>\n",
       "      <td>1.000000</td>\n",
       "      <td>0.000000</td>\n",
       "      <td>0.000000</td>\n",
       "      <td>0.000000</td>\n",
       "      <td>0.000000</td>\n",
       "    </tr>\n",
       "    <tr>\n",
       "      <th>50%</th>\n",
       "      <td>0.000000</td>\n",
       "      <td>60.000000</td>\n",
       "      <td>1.000000</td>\n",
       "      <td>1.000000</td>\n",
       "      <td>0.000000</td>\n",
       "      <td>0.000000</td>\n",
       "      <td>0.000000</td>\n",
       "      <td>0.000000</td>\n",
       "    </tr>\n",
       "    <tr>\n",
       "      <th>75%</th>\n",
       "      <td>1.000000</td>\n",
       "      <td>90.000000</td>\n",
       "      <td>1.000000</td>\n",
       "      <td>1.000000</td>\n",
       "      <td>1.000000</td>\n",
       "      <td>0.000000</td>\n",
       "      <td>1.000000</td>\n",
       "      <td>1.000000</td>\n",
       "    </tr>\n",
       "    <tr>\n",
       "      <th>max</th>\n",
       "      <td>1.000000</td>\n",
       "      <td>1200.000000</td>\n",
       "      <td>1.000000</td>\n",
       "      <td>1.000000</td>\n",
       "      <td>1.000000</td>\n",
       "      <td>1.000000</td>\n",
       "      <td>1.000000</td>\n",
       "      <td>1.000000</td>\n",
       "    </tr>\n",
       "  </tbody>\n",
       "</table>\n",
       "</div>"
      ],
      "text/plain": [
       "            basinc       nwspol      polintr         vote      sgnptit  \\\n",
       "count  2851.000000  2851.000000  2851.000000  2851.000000  2851.000000   \n",
       "mean      0.475272    67.178885     0.680814     0.850579     0.376359   \n",
       "std       0.499476    84.174861     0.466243     0.356566     0.484557   \n",
       "min       0.000000     0.000000     0.000000     0.000000     0.000000   \n",
       "25%       0.000000    30.000000     0.000000     1.000000     0.000000   \n",
       "50%       0.000000    60.000000     1.000000     1.000000     0.000000   \n",
       "75%       1.000000    90.000000     1.000000     1.000000     1.000000   \n",
       "max       1.000000  1200.000000     1.000000     1.000000     1.000000   \n",
       "\n",
       "          pstplonl      trstplt      trstprt  \n",
       "count  2851.000000  2851.000000  2851.000000  \n",
       "mean      0.222027     0.370747     0.361978  \n",
       "std       0.415682     0.483090     0.480657  \n",
       "min       0.000000     0.000000     0.000000  \n",
       "25%       0.000000     0.000000     0.000000  \n",
       "50%       0.000000     0.000000     0.000000  \n",
       "75%       0.000000     1.000000     1.000000  \n",
       "max       1.000000     1.000000     1.000000  "
      ]
     },
     "execution_count": 67,
     "metadata": {},
     "output_type": "execute_result"
    }
   ],
   "source": [
    "x_data.describe()"
   ]
  },
  {
   "cell_type": "markdown",
   "metadata": {},
   "source": [
    "8 - trstprt"
   ]
  },
  {
   "cell_type": "code",
   "execution_count": 57,
   "metadata": {},
   "outputs": [
    {
     "name": "stdout",
     "output_type": "stream",
     "text": [
      "5     582\n",
      "3     442\n",
      "4     429\n",
      "6     355\n",
      "2     296\n",
      "7     228\n",
      "0     205\n",
      "1     137\n",
      "8     106\n",
      "88     32\n",
      "9      22\n",
      "10     11\n",
      "77      6\n",
      "Name: trstprt, dtype: int64\n"
     ]
    },
    {
     "data": {
      "image/png": "[encoded data removed]",
      "text/plain": [
       "<Figure size 432x288 with 1 Axes>"
      ]
     },
     "metadata": {
      "needs_background": "light"
     },
     "output_type": "display_data"
    }
   ],
   "source": [
    "print(ess_de['trstprt'].value_counts())\n",
    "sns.countplot(x='trstprt', data=ess_de, palette='Set2')\n",
    "plt.show()"
   ]
  },
  {
   "cell_type": "code",
   "execution_count": 58,
   "metadata": {},
   "outputs": [],
   "source": [
    "ess_de.loc[ess_de['trstprt'] == 1, 'trstprt'] = 0\n",
    "ess_de.loc[ess_de['trstprt'] == 2, 'trstprt'] = 0\n",
    "ess_de.loc[ess_de['trstprt'] == 3, 'trstprt'] = 0\n",
    "ess_de.loc[ess_de['trstprt'] == 4, 'trstprt'] = 0\n",
    "ess_de.loc[ess_de['trstprt'] == 6, 'trstprt'] = 1\n",
    "ess_de.loc[ess_de['trstprt'] == 7, 'trstprt'] = 1\n",
    "ess_de.loc[ess_de['trstprt'] == 8, 'trstprt'] = 1\n",
    "ess_de.loc[ess_de['trstprt'] == 9, 'trstprt'] = 1\n",
    "ess_de.loc[ess_de['trstprt'] == 10, 'trstprt'] = 1"
   ]
  },
  {
   "cell_type": "code",
   "execution_count": 61,
   "metadata": {},
   "outputs": [
    {
     "name": "stdout",
     "output_type": "stream",
     "text": [
      "0    1509\n",
      "1     722\n",
      "5     620\n",
      "Name: trstprt, dtype: int64\n"
     ]
    },
    {
     "data": {
      "image/png": "[encoded data removed]",
      "text/plain": [
       "<Figure size 432x288 with 1 Axes>"
      ]
     },
     "metadata": {
      "needs_background": "light"
     },
     "output_type": "display_data"
    }
   ],
   "source": [
    "print(ess_de['trstprt'].value_counts())\n",
    "sns.countplot(x='trstprt', data=ess_de, palette='Set2')\n",
    "plt.show()"
   ]
  },
  {
   "cell_type": "code",
   "execution_count": 60,
   "metadata": {},
   "outputs": [],
   "source": [
    "ess_de.loc[ess_de['trstprt'] == 88, 'trstprt'] = 5\n",
    "ess_de.loc[ess_de['trstprt'] == 77, 'trstprt'] = 5"
   ]
  },
  {
   "cell_type": "code",
   "execution_count": 62,
   "metadata": {},
   "outputs": [],
   "source": [
    "# calculate the number of 5 values to replace with 0 and 1\n",
    "num_half = int(len(ess_de[ess_de['trstprt'] == 5]) / 2)\n",
    "replace_indices_0 = np.random.choice(ess_de[ess_de['trstprt'] == 5].index, num_half, replace=False)\n",
    "replace_indices_1 = np.random.choice(ess_de[ess_de['trstprt'] == 5].index, num_half, replace=False)\n",
    "\n",
    "# replace half of the 5 values with 0 and the other half with 1\n",
    "ess_de.loc[replace_indices_0, 'trstprt'] = 0\n",
    "ess_de.loc[replace_indices_1, 'trstprt'] = 1"
   ]
  },
  {
   "cell_type": "code",
   "execution_count": 65,
   "metadata": {},
   "outputs": [
    {
     "name": "stdout",
     "output_type": "stream",
     "text": [
      "0    1819\n",
      "1    1032\n",
      "Name: trstprt, dtype: int64\n"
     ]
    },
    {
     "data": {
      "image/png": "[encoded data removed]",
      "text/plain": [
       "<Figure size 432x288 with 1 Axes>"
      ]
     },
     "metadata": {
      "needs_background": "light"
     },
     "output_type": "display_data"
    }
   ],
   "source": [
    "print(ess_de['trstprt'].value_counts())\n",
    "sns.countplot(x='trstprt', data=ess_de, palette='Set2')\n",
    "plt.show()"
   ]
  },
  {
   "cell_type": "code",
   "execution_count": 64,
   "metadata": {},
   "outputs": [],
   "source": [
    "ess_de.loc[ess_de['trstprt'] == 5, 'trstprt'] = 0"
   ]
  },
  {
   "cell_type": "code",
   "execution_count": 66,
   "metadata": {},
   "outputs": [
    {
     "name": "stderr",
     "output_type": "stream",
     "text": [
      "<ipython-input-66-154211be65e0>:1: SettingWithCopyWarning: \n",
      "A value is trying to be set on a copy of a slice from a DataFrame.\n",
      "Try using .loc[row_indexer,col_indexer] = value instead\n",
      "\n",
      "See the caveats in the documentation: https://pandas.pydata.org/pandas-docs/stable/user_guide/indexing.html#returning-a-view-versus-a-copy\n",
      "  x_data[\"trstprt\"] = ess_de[\"trstprt\"]\n"
     ]
    }
   ],
   "source": [
    "x_data[\"trstprt\"] = ess_de[\"trstprt\"]"
   ]
  },
  {
   "cell_type": "markdown",
   "metadata": {},
   "source": [
    "9 - lrscale"
   ]
  },
  {
   "cell_type": "code",
   "execution_count": 68,
   "metadata": {},
   "outputs": [
    {
     "name": "stdout",
     "output_type": "stream",
     "text": [
      "5     1023\n",
      "3      425\n",
      "4      369\n",
      "6      241\n",
      "2      223\n",
      "7      185\n",
      "0      118\n",
      "8       87\n",
      "88      59\n",
      "1       58\n",
      "77      28\n",
      "10      23\n",
      "9       12\n",
      "Name: lrscale, dtype: int64\n"
     ]
    },
    {
     "data": {
      "image/png": "[encoded data removed]",
      "text/plain": [
       "<Figure size 432x288 with 1 Axes>"
      ]
     },
     "metadata": {
      "needs_background": "light"
     },
     "output_type": "display_data"
    }
   ],
   "source": [
    "print(ess_de['lrscale'].value_counts())\n",
    "sns.countplot(x='lrscale', data=ess_de, palette='Set2')\n",
    "plt.show()"
   ]
  },
  {
   "cell_type": "code",
   "execution_count": 69,
   "metadata": {},
   "outputs": [],
   "source": [
    "ess_de.loc[ess_de['lrscale'] == 1, 'lrscale'] = 0\n",
    "ess_de.loc[ess_de['lrscale'] == 2, 'lrscale'] = 0\n",
    "ess_de.loc[ess_de['lrscale'] == 3, 'lrscale'] = 0\n",
    "ess_de.loc[ess_de['lrscale'] == 4, 'lrscale'] = 0\n",
    "ess_de.loc[ess_de['lrscale'] == 6, 'lrscale'] = 1\n",
    "ess_de.loc[ess_de['lrscale'] == 7, 'lrscale'] = 1\n",
    "ess_de.loc[ess_de['lrscale'] == 8, 'lrscale'] = 1\n",
    "ess_de.loc[ess_de['lrscale'] == 9, 'lrscale'] = 1\n",
    "ess_de.loc[ess_de['lrscale'] == 10, 'lrscale'] = 1"
   ]
  },
  {
   "cell_type": "code",
   "execution_count": 70,
   "metadata": {},
   "outputs": [
    {
     "name": "stdout",
     "output_type": "stream",
     "text": [
      "0     1193\n",
      "5     1023\n",
      "1      548\n",
      "88      59\n",
      "77      28\n",
      "Name: lrscale, dtype: int64\n"
     ]
    },
    {
     "data": {
      "image/png": "[encoded data removed]",
      "text/plain": [
       "<Figure size 432x288 with 1 Axes>"
      ]
     },
     "metadata": {
      "needs_background": "light"
     },
     "output_type": "display_data"
    }
   ],
   "source": [
    "print(ess_de['lrscale'].value_counts())\n",
    "sns.countplot(x='lrscale', data=ess_de, palette='Set2')\n",
    "plt.show()"
   ]
  },
  {
   "cell_type": "code",
   "execution_count": 71,
   "metadata": {},
   "outputs": [],
   "source": [
    "ess_de.loc[ess_de['lrscale'] == 77, 'lrscale'] = 88"
   ]
  },
  {
   "cell_type": "code",
   "execution_count": 72,
   "metadata": {},
   "outputs": [],
   "source": [
    "# calculate the number of 88 values to replace with 0, 1, and 5\n",
    "num_88_values = len(ess_de[ess_de['lrscale'] == 88])\n",
    "num_replacements_0 = int(num_88_values * 0.33)\n",
    "num_replacements_1 = int(num_88_values * 0.33)\n",
    "num_replacements_5 = num_88_values - num_replacements_0 - num_replacements_1\n",
    "\n",
    "# get the indices of the 88 values to replace with 0, 1, and 5\n",
    "replace_indices_0 = np.random.choice(ess_de[ess_de['lrscale'] == 88].index, num_replacements_0, replace=False)\n",
    "remaining_indices = [index for index in ess_de[ess_de['lrscale'] == 88].index if index not in replace_indices_0]\n",
    "replace_indices_1 = np.random.choice(remaining_indices, num_replacements_1, replace=False)\n",
    "remaining_indices = [index for index in remaining_indices if index not in replace_indices_1]\n",
    "replace_indices_5 = np.random.choice(remaining_indices, num_replacements_5, replace=False)\n",
    "\n",
    "# replace the 88 values with 0, 1, and 5\n",
    "ess_de.loc[replace_indices_0, 'lrscale'] = 0\n",
    "ess_de.loc[replace_indices_1, 'lrscale'] = 1\n",
    "ess_de.loc[replace_indices_5, 'lrscale'] = 5"
   ]
  },
  {
   "cell_type": "code",
   "execution_count": 73,
   "metadata": {},
   "outputs": [
    {
     "name": "stdout",
     "output_type": "stream",
     "text": [
      "0    1221\n",
      "5    1054\n",
      "1     576\n",
      "Name: lrscale, dtype: int64\n"
     ]
    },
    {
     "data": {
      "image/png": "[encoded data removed]",
      "text/plain": [
       "<Figure size 432x288 with 1 Axes>"
      ]
     },
     "metadata": {
      "needs_background": "light"
     },
     "output_type": "display_data"
    }
   ],
   "source": [
    "print(ess_de['lrscale'].value_counts())\n",
    "sns.countplot(x='lrscale', data=ess_de, palette='Set2')\n",
    "plt.show()"
   ]
  },
  {
   "cell_type": "code",
   "execution_count": 74,
   "metadata": {},
   "outputs": [
    {
     "name": "stderr",
     "output_type": "stream",
     "text": [
      "<ipython-input-74-b1add56d9ff2>:1: SettingWithCopyWarning: \n",
      "A value is trying to be set on a copy of a slice from a DataFrame.\n",
      "Try using .loc[row_indexer,col_indexer] = value instead\n",
      "\n",
      "See the caveats in the documentation: https://pandas.pydata.org/pandas-docs/stable/user_guide/indexing.html#returning-a-view-versus-a-copy\n",
      "  x_data[\"lrscale\"] = ess_de[\"lrscale\"]\n"
     ]
    }
   ],
   "source": [
    "x_data[\"lrscale\"] = ess_de[\"lrscale\"]"
   ]
  },
  {
   "cell_type": "code",
   "execution_count": 122,
   "metadata": {},
   "outputs": [
    {
     "data": {
      "text/html": [
       "<div>\n",
       "<style scoped>\n",
       "    .dataframe tbody tr th:only-of-type {\n",
       "        vertical-align: middle;\n",
       "    }\n",
       "\n",
       "    .dataframe tbody tr th {\n",
       "        vertical-align: top;\n",
       "    }\n",
       "\n",
       "    .dataframe thead th {\n",
       "        text-align: right;\n",
       "    }\n",
       "</style>\n",
       "<table border=\"1\" class=\"dataframe\">\n",
       "  <thead>\n",
       "    <tr style=\"text-align: right;\">\n",
       "      <th></th>\n",
       "      <th>basinc</th>\n",
       "      <th>nwspol</th>\n",
       "      <th>polintr</th>\n",
       "      <th>vote</th>\n",
       "      <th>sgnptit</th>\n",
       "      <th>pstplonl</th>\n",
       "      <th>trstplt</th>\n",
       "      <th>trstprt</th>\n",
       "      <th>lrscale</th>\n",
       "      <th>stfgov</th>\n",
       "      <th>stfdem</th>\n",
       "      <th>gincdif</th>\n",
       "      <th>gvslvue</th>\n",
       "    </tr>\n",
       "  </thead>\n",
       "  <tbody>\n",
       "    <tr>\n",
       "      <th>count</th>\n",
       "      <td>2851.000000</td>\n",
       "      <td>2851.000000</td>\n",
       "      <td>2851.000000</td>\n",
       "      <td>2851.000000</td>\n",
       "      <td>2851.000000</td>\n",
       "      <td>2851.000000</td>\n",
       "      <td>2851.000000</td>\n",
       "      <td>2851.000000</td>\n",
       "      <td>2851.000000</td>\n",
       "      <td>2851.000000</td>\n",
       "      <td>2851.000000</td>\n",
       "      <td>2851.000000</td>\n",
       "      <td>2851.000000</td>\n",
       "    </tr>\n",
       "    <tr>\n",
       "      <th>mean</th>\n",
       "      <td>0.475272</td>\n",
       "      <td>67.178885</td>\n",
       "      <td>0.680814</td>\n",
       "      <td>0.850579</td>\n",
       "      <td>0.376359</td>\n",
       "      <td>0.222027</td>\n",
       "      <td>0.370747</td>\n",
       "      <td>0.361978</td>\n",
       "      <td>2.050509</td>\n",
       "      <td>0.529288</td>\n",
       "      <td>0.649597</td>\n",
       "      <td>0.800421</td>\n",
       "      <td>0.677306</td>\n",
       "    </tr>\n",
       "    <tr>\n",
       "      <th>std</th>\n",
       "      <td>0.499476</td>\n",
       "      <td>84.174861</td>\n",
       "      <td>0.466243</td>\n",
       "      <td>0.356566</td>\n",
       "      <td>0.484557</td>\n",
       "      <td>0.415682</td>\n",
       "      <td>0.483090</td>\n",
       "      <td>0.480657</td>\n",
       "      <td>2.289467</td>\n",
       "      <td>0.499229</td>\n",
       "      <td>0.477180</td>\n",
       "      <td>0.399754</td>\n",
       "      <td>0.467589</td>\n",
       "    </tr>\n",
       "    <tr>\n",
       "      <th>min</th>\n",
       "      <td>0.000000</td>\n",
       "      <td>0.000000</td>\n",
       "      <td>0.000000</td>\n",
       "      <td>0.000000</td>\n",
       "      <td>0.000000</td>\n",
       "      <td>0.000000</td>\n",
       "      <td>0.000000</td>\n",
       "      <td>0.000000</td>\n",
       "      <td>0.000000</td>\n",
       "      <td>0.000000</td>\n",
       "      <td>0.000000</td>\n",
       "      <td>0.000000</td>\n",
       "      <td>0.000000</td>\n",
       "    </tr>\n",
       "    <tr>\n",
       "      <th>25%</th>\n",
       "      <td>0.000000</td>\n",
       "      <td>30.000000</td>\n",
       "      <td>0.000000</td>\n",
       "      <td>1.000000</td>\n",
       "      <td>0.000000</td>\n",
       "      <td>0.000000</td>\n",
       "      <td>0.000000</td>\n",
       "      <td>0.000000</td>\n",
       "      <td>0.000000</td>\n",
       "      <td>0.000000</td>\n",
       "      <td>0.000000</td>\n",
       "      <td>1.000000</td>\n",
       "      <td>0.000000</td>\n",
       "    </tr>\n",
       "    <tr>\n",
       "      <th>50%</th>\n",
       "      <td>0.000000</td>\n",
       "      <td>60.000000</td>\n",
       "      <td>1.000000</td>\n",
       "      <td>1.000000</td>\n",
       "      <td>0.000000</td>\n",
       "      <td>0.000000</td>\n",
       "      <td>0.000000</td>\n",
       "      <td>0.000000</td>\n",
       "      <td>1.000000</td>\n",
       "      <td>1.000000</td>\n",
       "      <td>1.000000</td>\n",
       "      <td>1.000000</td>\n",
       "      <td>1.000000</td>\n",
       "    </tr>\n",
       "    <tr>\n",
       "      <th>75%</th>\n",
       "      <td>1.000000</td>\n",
       "      <td>90.000000</td>\n",
       "      <td>1.000000</td>\n",
       "      <td>1.000000</td>\n",
       "      <td>1.000000</td>\n",
       "      <td>0.000000</td>\n",
       "      <td>1.000000</td>\n",
       "      <td>1.000000</td>\n",
       "      <td>5.000000</td>\n",
       "      <td>1.000000</td>\n",
       "      <td>1.000000</td>\n",
       "      <td>1.000000</td>\n",
       "      <td>1.000000</td>\n",
       "    </tr>\n",
       "    <tr>\n",
       "      <th>max</th>\n",
       "      <td>1.000000</td>\n",
       "      <td>1200.000000</td>\n",
       "      <td>1.000000</td>\n",
       "      <td>1.000000</td>\n",
       "      <td>1.000000</td>\n",
       "      <td>1.000000</td>\n",
       "      <td>1.000000</td>\n",
       "      <td>1.000000</td>\n",
       "      <td>5.000000</td>\n",
       "      <td>1.000000</td>\n",
       "      <td>1.000000</td>\n",
       "      <td>1.000000</td>\n",
       "      <td>1.000000</td>\n",
       "    </tr>\n",
       "  </tbody>\n",
       "</table>\n",
       "</div>"
      ],
      "text/plain": [
       "            basinc       nwspol      polintr         vote      sgnptit  \\\n",
       "count  2851.000000  2851.000000  2851.000000  2851.000000  2851.000000   \n",
       "mean      0.475272    67.178885     0.680814     0.850579     0.376359   \n",
       "std       0.499476    84.174861     0.466243     0.356566     0.484557   \n",
       "min       0.000000     0.000000     0.000000     0.000000     0.000000   \n",
       "25%       0.000000    30.000000     0.000000     1.000000     0.000000   \n",
       "50%       0.000000    60.000000     1.000000     1.000000     0.000000   \n",
       "75%       1.000000    90.000000     1.000000     1.000000     1.000000   \n",
       "max       1.000000  1200.000000     1.000000     1.000000     1.000000   \n",
       "\n",
       "          pstplonl      trstplt      trstprt      lrscale       stfgov  \\\n",
       "count  2851.000000  2851.000000  2851.000000  2851.000000  2851.000000   \n",
       "mean      0.222027     0.370747     0.361978     2.050509     0.529288   \n",
       "std       0.415682     0.483090     0.480657     2.289467     0.499229   \n",
       "min       0.000000     0.000000     0.000000     0.000000     0.000000   \n",
       "25%       0.000000     0.000000     0.000000     0.000000     0.000000   \n",
       "50%       0.000000     0.000000     0.000000     1.000000     1.000000   \n",
       "75%       0.000000     1.000000     1.000000     5.000000     1.000000   \n",
       "max       1.000000     1.000000     1.000000     5.000000     1.000000   \n",
       "\n",
       "            stfdem      gincdif      gvslvue  \n",
       "count  2851.000000  2851.000000  2851.000000  \n",
       "mean      0.649597     0.800421     0.677306  \n",
       "std       0.477180     0.399754     0.467589  \n",
       "min       0.000000     0.000000     0.000000  \n",
       "25%       0.000000     1.000000     0.000000  \n",
       "50%       1.000000     1.000000     1.000000  \n",
       "75%       1.000000     1.000000     1.000000  \n",
       "max       1.000000     1.000000     1.000000  "
      ]
     },
     "execution_count": 122,
     "metadata": {},
     "output_type": "execute_result"
    }
   ],
   "source": [
    "x_data.describe()"
   ]
  },
  {
   "cell_type": "markdown",
   "metadata": {},
   "source": [
    "10 - stfgov"
   ]
  },
  {
   "cell_type": "code",
   "execution_count": 76,
   "metadata": {},
   "outputs": [
    {
     "name": "stdout",
     "output_type": "stream",
     "text": [
      "5     528\n",
      "6     480\n",
      "7     438\n",
      "4     333\n",
      "3     323\n",
      "8     227\n",
      "2     192\n",
      "0     134\n",
      "1      66\n",
      "88     58\n",
      "9      48\n",
      "10     22\n",
      "77      2\n",
      "Name: stfgov, dtype: int64\n"
     ]
    },
    {
     "data": {
      "image/png": "[encoded data removed]",
      "text/plain": [
       "<Figure size 432x288 with 1 Axes>"
      ]
     },
     "metadata": {
      "needs_background": "light"
     },
     "output_type": "display_data"
    }
   ],
   "source": [
    "print(ess_de['stfgov'].value_counts())\n",
    "sns.countplot(x='stfgov', data=ess_de, palette='Set2')\n",
    "plt.show()"
   ]
  },
  {
   "cell_type": "code",
   "execution_count": 77,
   "metadata": {},
   "outputs": [],
   "source": [
    "ess_de.loc[ess_de['stfgov'] == 1, 'stfgov'] = 0\n",
    "ess_de.loc[ess_de['stfgov'] == 2, 'stfgov'] = 0\n",
    "ess_de.loc[ess_de['stfgov'] == 3, 'stfgov'] = 0\n",
    "ess_de.loc[ess_de['stfgov'] == 4, 'stfgov'] = 0\n",
    "ess_de.loc[ess_de['stfgov'] == 6, 'stfgov'] = 1\n",
    "ess_de.loc[ess_de['stfgov'] == 7, 'stfgov'] = 1\n",
    "ess_de.loc[ess_de['stfgov'] == 8, 'stfgov'] = 1\n",
    "ess_de.loc[ess_de['stfgov'] == 9, 'stfgov'] = 1\n",
    "ess_de.loc[ess_de['stfgov'] == 10, 'stfgov'] = 1"
   ]
  },
  {
   "cell_type": "code",
   "execution_count": 82,
   "metadata": {},
   "outputs": [
    {
     "name": "stdout",
     "output_type": "stream",
     "text": [
      "1    1509\n",
      "0    1342\n",
      "Name: stfgov, dtype: int64\n"
     ]
    },
    {
     "data": {
      "image/png": "[encoded data removed]",
      "text/plain": [
       "<Figure size 432x288 with 1 Axes>"
      ]
     },
     "metadata": {
      "needs_background": "light"
     },
     "output_type": "display_data"
    }
   ],
   "source": [
    "print(ess_de['stfgov'].value_counts())\n",
    "sns.countplot(x='stfgov', data=ess_de, palette='Set2')\n",
    "plt.show()"
   ]
  },
  {
   "cell_type": "code",
   "execution_count": 79,
   "metadata": {},
   "outputs": [],
   "source": [
    "ess_de.loc[ess_de['stfgov'] == 77, 'stfgov'] = 5\n",
    "ess_de.loc[ess_de['stfgov'] == 88, 'stfgov'] = 5"
   ]
  },
  {
   "cell_type": "code",
   "execution_count": 81,
   "metadata": {},
   "outputs": [],
   "source": [
    "# count the number of 5 values in the column\n",
    "num_fives = (ess_de['stfgov'] == 5).sum()\n",
    "\n",
    "# calculate the number of 5 values to replace with 0\n",
    "num_zeros = int(num_fives * 0.5)\n",
    "\n",
    "# calculate the number of 5 values to replace with 1\n",
    "num_ones = num_fives - num_zeros\n",
    "\n",
    "# get the indices of the 5 values to replace with 0\n",
    "zero_indices = np.random.choice(ess_de[ess_de['stfgov'] == 5].index, num_zeros, replace=False)\n",
    "\n",
    "# get the indices of the remaining 5 values to replace with 1\n",
    "ones_indices = np.setdiff1d(ess_de[ess_de['stfgov'] == 5].index, zero_indices)\n",
    "\n",
    "# replace the 5 values with 0 and 1\n",
    "ess_de.loc[zero_indices, 'stfgov'] = 0\n",
    "ess_de.loc[ones_indices, 'stfgov'] = 1"
   ]
  },
  {
   "cell_type": "code",
   "execution_count": 83,
   "metadata": {},
   "outputs": [
    {
     "name": "stderr",
     "output_type": "stream",
     "text": [
      "<ipython-input-83-be4fb2189b7a>:1: SettingWithCopyWarning: \n",
      "A value is trying to be set on a copy of a slice from a DataFrame.\n",
      "Try using .loc[row_indexer,col_indexer] = value instead\n",
      "\n",
      "See the caveats in the documentation: https://pandas.pydata.org/pandas-docs/stable/user_guide/indexing.html#returning-a-view-versus-a-copy\n",
      "  x_data[\"stfgov\"] = ess_de[\"stfgov\"]\n"
     ]
    }
   ],
   "source": [
    "x_data[\"stfgov\"] = ess_de[\"stfgov\"]"
   ]
  },
  {
   "cell_type": "markdown",
   "metadata": {},
   "source": [
    "11 - stfdem"
   ]
  },
  {
   "cell_type": "code",
   "execution_count": 85,
   "metadata": {},
   "outputs": [
    {
     "name": "stdout",
     "output_type": "stream",
     "text": [
      "8     533\n",
      "7     426\n",
      "5     384\n",
      "6     362\n",
      "4     260\n",
      "3     237\n",
      "9     232\n",
      "2     139\n",
      "10     93\n",
      "0      92\n",
      "1      65\n",
      "88     26\n",
      "77      2\n",
      "Name: stfdem, dtype: int64\n"
     ]
    },
    {
     "data": {
      "image/png": "[encoded data removed]",
      "text/plain": [
       "<Figure size 432x288 with 1 Axes>"
      ]
     },
     "metadata": {
      "needs_background": "light"
     },
     "output_type": "display_data"
    }
   ],
   "source": [
    "print(ess_de['stfdem'].value_counts())\n",
    "sns.countplot(x='stfdem', data=ess_de, palette='Set2')\n",
    "plt.show()"
   ]
  },
  {
   "cell_type": "code",
   "execution_count": 86,
   "metadata": {},
   "outputs": [],
   "source": [
    "ess_de.loc[ess_de['stfdem'] == 1, 'stfdem'] = 0\n",
    "ess_de.loc[ess_de['stfdem'] == 2, 'stfdem'] = 0\n",
    "ess_de.loc[ess_de['stfdem'] == 3, 'stfdem'] = 0\n",
    "ess_de.loc[ess_de['stfdem'] == 4, 'stfdem'] = 0\n",
    "ess_de.loc[ess_de['stfdem'] == 6, 'stfdem'] = 1\n",
    "ess_de.loc[ess_de['stfdem'] == 7, 'stfdem'] = 1\n",
    "ess_de.loc[ess_de['stfdem'] == 8, 'stfdem'] = 1\n",
    "ess_de.loc[ess_de['stfdem'] == 9, 'stfdem'] = 1\n"
   ]
  },
  {
   "cell_type": "code",
   "execution_count": 89,
   "metadata": {},
   "outputs": [],
   "source": [
    "ess_de.loc[ess_de['stfdem'] == 10, 'stfdem'] = 1\n",
    "ess_de.loc[ess_de['stfdem'] == 77, 'stfdem'] = 5\n",
    "ess_de.loc[ess_de['stfdem'] == 88, 'stfdem'] = 5"
   ]
  },
  {
   "cell_type": "code",
   "execution_count": 92,
   "metadata": {},
   "outputs": [
    {
     "name": "stdout",
     "output_type": "stream",
     "text": [
      "1    1852\n",
      "0     999\n",
      "Name: stfdem, dtype: int64\n"
     ]
    },
    {
     "data": {
      "image/png": "[encoded data removed]",
      "text/plain": [
       "<Figure size 432x288 with 1 Axes>"
      ]
     },
     "metadata": {
      "needs_background": "light"
     },
     "output_type": "display_data"
    }
   ],
   "source": [
    "print(ess_de['stfdem'].value_counts())\n",
    "sns.countplot(x='stfdem', data=ess_de, palette='Set2')\n",
    "plt.show()"
   ]
  },
  {
   "cell_type": "code",
   "execution_count": 91,
   "metadata": {},
   "outputs": [],
   "source": [
    "# count the number of 5 values in the column\n",
    "num_fives = (ess_de['stfdem'] == 5).sum()\n",
    "\n",
    "# calculate the number of 5 values to replace with 0\n",
    "num_zeros = int(num_fives * 0.5)\n",
    "\n",
    "# calculate the number of 5 values to replace with 1\n",
    "num_ones = num_fives - num_zeros\n",
    "\n",
    "# get the indices of the 5 values to replace with 0\n",
    "zero_indices = np.random.choice(ess_de[ess_de['stfdem'] == 5].index, num_zeros, replace=False)\n",
    "\n",
    "# get the indices of the remaining 5 values to replace with 1\n",
    "ones_indices = np.setdiff1d(ess_de[ess_de['stfdem'] == 5].index, zero_indices)\n",
    "\n",
    "# replace the 5 values with 0 and 1\n",
    "ess_de.loc[zero_indices, 'stfdem'] = 0\n",
    "ess_de.loc[ones_indices, 'stfdem'] = 1"
   ]
  },
  {
   "cell_type": "code",
   "execution_count": 93,
   "metadata": {},
   "outputs": [
    {
     "name": "stderr",
     "output_type": "stream",
     "text": [
      "<ipython-input-93-efa4d731ceb6>:1: SettingWithCopyWarning: \n",
      "A value is trying to be set on a copy of a slice from a DataFrame.\n",
      "Try using .loc[row_indexer,col_indexer] = value instead\n",
      "\n",
      "See the caveats in the documentation: https://pandas.pydata.org/pandas-docs/stable/user_guide/indexing.html#returning-a-view-versus-a-copy\n",
      "  x_data[\"stfdem\"] = ess_de[\"stfdem\"]\n"
     ]
    }
   ],
   "source": [
    "x_data[\"stfdem\"] = ess_de[\"stfdem\"]"
   ]
  },
  {
   "cell_type": "markdown",
   "metadata": {},
   "source": [
    "12 - gincdif"
   ]
  },
  {
   "cell_type": "code",
   "execution_count": 95,
   "metadata": {},
   "outputs": [
    {
     "name": "stdout",
     "output_type": "stream",
     "text": [
      "2    1301\n",
      "1     776\n",
      "3     386\n",
      "4     319\n",
      "5      45\n",
      "8      19\n",
      "7       5\n",
      "Name: gincdif, dtype: int64\n"
     ]
    },
    {
     "data": {
      "image/png": "[encoded data removed]",
      "text/plain": [
       "<Figure size 432x288 with 1 Axes>"
      ]
     },
     "metadata": {
      "needs_background": "light"
     },
     "output_type": "display_data"
    }
   ],
   "source": [
    "print(ess_de['gincdif'].value_counts())\n",
    "sns.countplot(x='gincdif', data=ess_de, palette='Set2')\n",
    "plt.show()"
   ]
  },
  {
   "cell_type": "code",
   "execution_count": 98,
   "metadata": {},
   "outputs": [],
   "source": [
    "ess_de.loc[ess_de['gincdif'] == 2, 'gincdif'] = 1\n",
    "ess_de.loc[ess_de['gincdif'] == 4, 'gincdif'] = 0\n",
    "ess_de.loc[ess_de['gincdif'] == 5, 'gincdif'] = 0\n",
    "ess_de.loc[ess_de['gincdif'] == 7, 'gincdif'] = 3\n",
    "ess_de.loc[ess_de['gincdif'] == 8, 'gincdif'] = 3"
   ]
  },
  {
   "cell_type": "code",
   "execution_count": 104,
   "metadata": {},
   "outputs": [
    {
     "data": {
      "text/plain": [
       "count    2851.000000\n",
       "mean        0.764995\n",
       "std         0.426551\n",
       "min         0.000000\n",
       "25%         1.000000\n",
       "50%         1.000000\n",
       "75%         1.000000\n",
       "max         3.000000\n",
       "Name: gincdif, dtype: float64"
      ]
     },
     "execution_count": 104,
     "metadata": {},
     "output_type": "execute_result"
    }
   ],
   "source": [
    "ess_de[\"gincdif\"].describe()"
   ]
  },
  {
   "cell_type": "code",
   "execution_count": 109,
   "metadata": {},
   "outputs": [
    {
     "name": "stdout",
     "output_type": "stream",
     "text": [
      "1.0    2282\n",
      "0.0     569\n",
      "Name: gincdif, dtype: int64\n"
     ]
    },
    {
     "data": {
      "image/png": "[encoded data removed]",
      "text/plain": [
       "<Figure size 432x288 with 1 Axes>"
      ]
     },
     "metadata": {
      "needs_background": "light"
     },
     "output_type": "display_data"
    }
   ],
   "source": [
    "print(ess_de['gincdif'].value_counts())\n",
    "sns.countplot(x='gincdif', data=ess_de, palette='Set2')\n",
    "plt.show()"
   ]
  },
  {
   "cell_type": "code",
   "execution_count": 102,
   "metadata": {},
   "outputs": [],
   "source": [
    "# count number of 3's in the column\n",
    "num_threes = (ess_de['gincdif'] == 3).sum()\n",
    "\n",
    "# create array of new values for the column\n",
    "new_vals = np.concatenate((np.zeros(num_threes // 2), np.ones(num_threes // 2), np.full(num_threes - (num_threes // 2) * 2, 3)))\n",
    "\n",
    "# shuffle the array of new values\n",
    "np.random.shuffle(new_vals)\n",
    "\n",
    "# replace 3's with the new values\n",
    "ess_de.loc[ess_de['gincdif'] == 3, 'gincdif'] = new_vals"
   ]
  },
  {
   "cell_type": "code",
   "execution_count": 105,
   "metadata": {},
   "outputs": [],
   "source": [
    "ess_de.loc[ess_de['gincdif'] == 3, 'gincdif'] = 1"
   ]
  },
  {
   "cell_type": "code",
   "execution_count": 108,
   "metadata": {},
   "outputs": [],
   "source": [
    "#to correct mistaken distribution of 3s.\n",
    "import random\n",
    "\n",
    "# get the indices of rows that have 0 value in the column gincdif\n",
    "zero_indices = ess_de.index[ess_de['gincdif'] == 0].tolist()\n",
    "\n",
    "# randomly select 103 indices\n",
    "random.seed(123) # set random seed for reproducibility\n",
    "selected_indices = random.sample(zero_indices, 103)\n",
    "\n",
    "# change the value of selected rows to 1\n",
    "ess_de.loc[selected_indices, 'gincdif'] = 1"
   ]
  },
  {
   "cell_type": "code",
   "execution_count": 110,
   "metadata": {},
   "outputs": [
    {
     "name": "stderr",
     "output_type": "stream",
     "text": [
      "<ipython-input-110-9bf5d9fc2066>:1: SettingWithCopyWarning: \n",
      "A value is trying to be set on a copy of a slice from a DataFrame.\n",
      "Try using .loc[row_indexer,col_indexer] = value instead\n",
      "\n",
      "See the caveats in the documentation: https://pandas.pydata.org/pandas-docs/stable/user_guide/indexing.html#returning-a-view-versus-a-copy\n",
      "  x_data[\"gincdif\"] = ess_de[\"gincdif\"]\n"
     ]
    }
   ],
   "source": [
    "x_data[\"gincdif\"] = ess_de[\"gincdif\"]"
   ]
  },
  {
   "cell_type": "markdown",
   "metadata": {},
   "source": [
    "13 - gvslvue"
   ]
  },
  {
   "cell_type": "code",
   "execution_count": 111,
   "metadata": {},
   "outputs": [
    {
     "name": "stdout",
     "output_type": "stream",
     "text": [
      "5     664\n",
      "7     448\n",
      "8     414\n",
      "6     398\n",
      "4     239\n",
      "3     225\n",
      "10    203\n",
      "9     120\n",
      "2      68\n",
      "0      28\n",
      "88     27\n",
      "1      13\n",
      "77      4\n",
      "Name: gvslvue, dtype: int64\n"
     ]
    },
    {
     "data": {
      "image/png": "[encoded data removed]",
      "text/plain": [
       "<Figure size 432x288 with 1 Axes>"
      ]
     },
     "metadata": {
      "needs_background": "light"
     },
     "output_type": "display_data"
    }
   ],
   "source": [
    "print(ess_de['gvslvue'].value_counts())\n",
    "sns.countplot(x='gvslvue', data=ess_de, palette='Set2')\n",
    "plt.show()"
   ]
  },
  {
   "cell_type": "code",
   "execution_count": 112,
   "metadata": {},
   "outputs": [],
   "source": [
    "ess_de.loc[ess_de['gvslvue'] == 1, 'gvslvue'] = 0\n",
    "ess_de.loc[ess_de['gvslvue'] == 2, 'gvslvue'] = 0\n",
    "ess_de.loc[ess_de['gvslvue'] == 3, 'gvslvue'] = 0"
   ]
  },
  {
   "cell_type": "code",
   "execution_count": 113,
   "metadata": {},
   "outputs": [],
   "source": [
    "ess_de.loc[ess_de['gvslvue'] == 6, 'gvslvue'] = 1\n",
    "ess_de.loc[ess_de['gvslvue'] == 7, 'gvslvue'] = 1\n",
    "ess_de.loc[ess_de['gvslvue'] == 8, 'gvslvue'] = 1\n",
    "ess_de.loc[ess_de['gvslvue'] == 9, 'gvslvue'] = 1\n",
    "ess_de.loc[ess_de['gvslvue'] == 10, 'gvslvue'] = 1"
   ]
  },
  {
   "cell_type": "code",
   "execution_count": 114,
   "metadata": {},
   "outputs": [],
   "source": [
    "ess_de.loc[ess_de['gvslvue'] == 77, 'gvslvue'] = 5\n",
    "ess_de.loc[ess_de['gvslvue'] == 88, 'gvslvue'] = 5"
   ]
  },
  {
   "cell_type": "code",
   "execution_count": 116,
   "metadata": {},
   "outputs": [],
   "source": [
    "ess_de.loc[ess_de['gvslvue'] == 4, 'gvslvue'] = 0"
   ]
  },
  {
   "cell_type": "code",
   "execution_count": 119,
   "metadata": {},
   "outputs": [
    {
     "name": "stdout",
     "output_type": "stream",
     "text": [
      "1    1931\n",
      "0     920\n",
      "Name: gvslvue, dtype: int64\n"
     ]
    },
    {
     "data": {
      "image/png": "[encoded data removed]",
      "text/plain": [
       "<Figure size 432x288 with 1 Axes>"
      ]
     },
     "metadata": {
      "needs_background": "light"
     },
     "output_type": "display_data"
    }
   ],
   "source": [
    "print(ess_de['gvslvue'].value_counts())\n",
    "sns.countplot(x='gvslvue', data=ess_de, palette='Set2')\n",
    "plt.show()"
   ]
  },
  {
   "cell_type": "code",
   "execution_count": 118,
   "metadata": {},
   "outputs": [],
   "source": [
    "# Count the number of 5s in the column\n",
    "num_fives = ess_de['gvslvue'].value_counts()[5]\n",
    "\n",
    "# Calculate the number of 5s to be replaced with 0 and 1\n",
    "num_zeros = num_fives // 2\n",
    "num_ones = num_fives - num_zeros\n",
    "\n",
    "# Get the indices of the 5s in the column\n",
    "five_indices = ess_de.index[ess_de['gvslvue'] == 5].tolist()\n",
    "\n",
    "# Shuffle the indices randomly\n",
    "random.shuffle(five_indices)\n",
    "\n",
    "# Replace half of the 5s with 0 and the other half with 1\n",
    "for i in range(num_zeros):\n",
    "    ess_de.at[five_indices[i], 'gvslvue'] = 0\n",
    "for i in range(num_zeros, num_zeros+num_ones):\n",
    "    ess_de.at[five_indices[i], 'gvslvue'] = 1"
   ]
  },
  {
   "cell_type": "code",
   "execution_count": 120,
   "metadata": {},
   "outputs": [
    {
     "name": "stderr",
     "output_type": "stream",
     "text": [
      "<ipython-input-120-67d4304dfc57>:1: SettingWithCopyWarning: \n",
      "A value is trying to be set on a copy of a slice from a DataFrame.\n",
      "Try using .loc[row_indexer,col_indexer] = value instead\n",
      "\n",
      "See the caveats in the documentation: https://pandas.pydata.org/pandas-docs/stable/user_guide/indexing.html#returning-a-view-versus-a-copy\n",
      "  x_data [\"gvslvue\"] = ess_de[\"gvslvue\"]\n"
     ]
    }
   ],
   "source": [
    "x_data [\"gvslvue\"] = ess_de[\"gvslvue\"]"
   ]
  },
  {
   "cell_type": "code",
   "execution_count": 123,
   "metadata": {},
   "outputs": [
    {
     "data": {
      "text/html": [
       "<div>\n",
       "<style scoped>\n",
       "    .dataframe tbody tr th:only-of-type {\n",
       "        vertical-align: middle;\n",
       "    }\n",
       "\n",
       "    .dataframe tbody tr th {\n",
       "        vertical-align: top;\n",
       "    }\n",
       "\n",
       "    .dataframe thead th {\n",
       "        text-align: right;\n",
       "    }\n",
       "</style>\n",
       "<table border=\"1\" class=\"dataframe\">\n",
       "  <thead>\n",
       "    <tr style=\"text-align: right;\">\n",
       "      <th></th>\n",
       "      <th>basinc</th>\n",
       "      <th>nwspol</th>\n",
       "      <th>polintr</th>\n",
       "      <th>vote</th>\n",
       "      <th>sgnptit</th>\n",
       "      <th>pstplonl</th>\n",
       "      <th>trstplt</th>\n",
       "      <th>trstprt</th>\n",
       "      <th>lrscale</th>\n",
       "      <th>stfgov</th>\n",
       "      <th>stfdem</th>\n",
       "      <th>gincdif</th>\n",
       "      <th>gvslvue</th>\n",
       "    </tr>\n",
       "  </thead>\n",
       "  <tbody>\n",
       "    <tr>\n",
       "      <th>count</th>\n",
       "      <td>2851.000000</td>\n",
       "      <td>2851.000000</td>\n",
       "      <td>2851.000000</td>\n",
       "      <td>2851.000000</td>\n",
       "      <td>2851.000000</td>\n",
       "      <td>2851.000000</td>\n",
       "      <td>2851.000000</td>\n",
       "      <td>2851.000000</td>\n",
       "      <td>2851.000000</td>\n",
       "      <td>2851.000000</td>\n",
       "      <td>2851.000000</td>\n",
       "      <td>2851.000000</td>\n",
       "      <td>2851.000000</td>\n",
       "    </tr>\n",
       "    <tr>\n",
       "      <th>mean</th>\n",
       "      <td>0.475272</td>\n",
       "      <td>67.178885</td>\n",
       "      <td>0.680814</td>\n",
       "      <td>0.850579</td>\n",
       "      <td>0.376359</td>\n",
       "      <td>0.222027</td>\n",
       "      <td>0.370747</td>\n",
       "      <td>0.361978</td>\n",
       "      <td>2.050509</td>\n",
       "      <td>0.529288</td>\n",
       "      <td>0.649597</td>\n",
       "      <td>0.800421</td>\n",
       "      <td>0.677306</td>\n",
       "    </tr>\n",
       "    <tr>\n",
       "      <th>std</th>\n",
       "      <td>0.499476</td>\n",
       "      <td>84.174861</td>\n",
       "      <td>0.466243</td>\n",
       "      <td>0.356566</td>\n",
       "      <td>0.484557</td>\n",
       "      <td>0.415682</td>\n",
       "      <td>0.483090</td>\n",
       "      <td>0.480657</td>\n",
       "      <td>2.289467</td>\n",
       "      <td>0.499229</td>\n",
       "      <td>0.477180</td>\n",
       "      <td>0.399754</td>\n",
       "      <td>0.467589</td>\n",
       "    </tr>\n",
       "    <tr>\n",
       "      <th>min</th>\n",
       "      <td>0.000000</td>\n",
       "      <td>0.000000</td>\n",
       "      <td>0.000000</td>\n",
       "      <td>0.000000</td>\n",
       "      <td>0.000000</td>\n",
       "      <td>0.000000</td>\n",
       "      <td>0.000000</td>\n",
       "      <td>0.000000</td>\n",
       "      <td>0.000000</td>\n",
       "      <td>0.000000</td>\n",
       "      <td>0.000000</td>\n",
       "      <td>0.000000</td>\n",
       "      <td>0.000000</td>\n",
       "    </tr>\n",
       "    <tr>\n",
       "      <th>25%</th>\n",
       "      <td>0.000000</td>\n",
       "      <td>30.000000</td>\n",
       "      <td>0.000000</td>\n",
       "      <td>1.000000</td>\n",
       "      <td>0.000000</td>\n",
       "      <td>0.000000</td>\n",
       "      <td>0.000000</td>\n",
       "      <td>0.000000</td>\n",
       "      <td>0.000000</td>\n",
       "      <td>0.000000</td>\n",
       "      <td>0.000000</td>\n",
       "      <td>1.000000</td>\n",
       "      <td>0.000000</td>\n",
       "    </tr>\n",
       "    <tr>\n",
       "      <th>50%</th>\n",
       "      <td>0.000000</td>\n",
       "      <td>60.000000</td>\n",
       "      <td>1.000000</td>\n",
       "      <td>1.000000</td>\n",
       "      <td>0.000000</td>\n",
       "      <td>0.000000</td>\n",
       "      <td>0.000000</td>\n",
       "      <td>0.000000</td>\n",
       "      <td>1.000000</td>\n",
       "      <td>1.000000</td>\n",
       "      <td>1.000000</td>\n",
       "      <td>1.000000</td>\n",
       "      <td>1.000000</td>\n",
       "    </tr>\n",
       "    <tr>\n",
       "      <th>75%</th>\n",
       "      <td>1.000000</td>\n",
       "      <td>90.000000</td>\n",
       "      <td>1.000000</td>\n",
       "      <td>1.000000</td>\n",
       "      <td>1.000000</td>\n",
       "      <td>0.000000</td>\n",
       "      <td>1.000000</td>\n",
       "      <td>1.000000</td>\n",
       "      <td>5.000000</td>\n",
       "      <td>1.000000</td>\n",
       "      <td>1.000000</td>\n",
       "      <td>1.000000</td>\n",
       "      <td>1.000000</td>\n",
       "    </tr>\n",
       "    <tr>\n",
       "      <th>max</th>\n",
       "      <td>1.000000</td>\n",
       "      <td>1200.000000</td>\n",
       "      <td>1.000000</td>\n",
       "      <td>1.000000</td>\n",
       "      <td>1.000000</td>\n",
       "      <td>1.000000</td>\n",
       "      <td>1.000000</td>\n",
       "      <td>1.000000</td>\n",
       "      <td>5.000000</td>\n",
       "      <td>1.000000</td>\n",
       "      <td>1.000000</td>\n",
       "      <td>1.000000</td>\n",
       "      <td>1.000000</td>\n",
       "    </tr>\n",
       "  </tbody>\n",
       "</table>\n",
       "</div>"
      ],
      "text/plain": [
       "            basinc       nwspol      polintr         vote      sgnptit  \\\n",
       "count  2851.000000  2851.000000  2851.000000  2851.000000  2851.000000   \n",
       "mean      0.475272    67.178885     0.680814     0.850579     0.376359   \n",
       "std       0.499476    84.174861     0.466243     0.356566     0.484557   \n",
       "min       0.000000     0.000000     0.000000     0.000000     0.000000   \n",
       "25%       0.000000    30.000000     0.000000     1.000000     0.000000   \n",
       "50%       0.000000    60.000000     1.000000     1.000000     0.000000   \n",
       "75%       1.000000    90.000000     1.000000     1.000000     1.000000   \n",
       "max       1.000000  1200.000000     1.000000     1.000000     1.000000   \n",
       "\n",
       "          pstplonl      trstplt      trstprt      lrscale       stfgov  \\\n",
       "count  2851.000000  2851.000000  2851.000000  2851.000000  2851.000000   \n",
       "mean      0.222027     0.370747     0.361978     2.050509     0.529288   \n",
       "std       0.415682     0.483090     0.480657     2.289467     0.499229   \n",
       "min       0.000000     0.000000     0.000000     0.000000     0.000000   \n",
       "25%       0.000000     0.000000     0.000000     0.000000     0.000000   \n",
       "50%       0.000000     0.000000     0.000000     1.000000     1.000000   \n",
       "75%       0.000000     1.000000     1.000000     5.000000     1.000000   \n",
       "max       1.000000     1.000000     1.000000     5.000000     1.000000   \n",
       "\n",
       "            stfdem      gincdif      gvslvue  \n",
       "count  2851.000000  2851.000000  2851.000000  \n",
       "mean      0.649597     0.800421     0.677306  \n",
       "std       0.477180     0.399754     0.467589  \n",
       "min       0.000000     0.000000     0.000000  \n",
       "25%       0.000000     1.000000     0.000000  \n",
       "50%       1.000000     1.000000     1.000000  \n",
       "75%       1.000000     1.000000     1.000000  \n",
       "max       1.000000     1.000000     1.000000  "
      ]
     },
     "execution_count": 123,
     "metadata": {},
     "output_type": "execute_result"
    }
   ],
   "source": [
    "x_data.describe()"
   ]
  },
  {
   "cell_type": "code",
   "execution_count": 124,
   "metadata": {},
   "outputs": [],
   "source": [
    "x_data.to_csv('pol_var_de.csv', index=False)"
   ]
  },
  {
   "cell_type": "code",
   "execution_count": null,
   "metadata": {},
   "outputs": [],
   "source": []
  },
  {
   "cell_type": "code",
   "execution_count": null,
   "metadata": {},
   "outputs": [],
   "source": []
  },
  {
   "cell_type": "code",
   "execution_count": null,
   "metadata": {},
   "outputs": [],
   "source": []
  },
  {
   "cell_type": "code",
   "execution_count": null,
   "metadata": {},
   "outputs": [],
   "source": []
  },
  {
   "cell_type": "code",
   "execution_count": null,
   "metadata": {},
   "outputs": [],
   "source": []
  },
  {
   "cell_type": "code",
   "execution_count": null,
   "metadata": {},
   "outputs": [],
   "source": []
  },
  {
   "cell_type": "code",
   "execution_count": null,
   "metadata": {},
   "outputs": [],
   "source": []
  },
  {
   "cell_type": "code",
   "execution_count": null,
   "metadata": {},
   "outputs": [],
   "source": []
  },
  {
   "cell_type": "code",
   "execution_count": null,
   "metadata": {},
   "outputs": [],
   "source": []
  },
  {
   "cell_type": "code",
   "execution_count": null,
   "metadata": {},
   "outputs": [],
   "source": []
  },
  {
   "cell_type": "code",
   "execution_count": null,
   "metadata": {},
   "outputs": [],
   "source": []
  },
  {
   "cell_type": "code",
   "execution_count": null,
   "metadata": {},
   "outputs": [],
   "source": []
  },
  {
   "cell_type": "code",
   "execution_count": null,
   "metadata": {},
   "outputs": [],
   "source": []
  },
  {
   "cell_type": "code",
   "execution_count": null,
   "metadata": {},
   "outputs": [],
   "source": []
  },
  {
   "cell_type": "code",
   "execution_count": null,
   "metadata": {},
   "outputs": [],
   "source": []
  },
  {
   "cell_type": "code",
   "execution_count": null,
   "metadata": {},
   "outputs": [],
   "source": []
  },
  {
   "cell_type": "code",
   "execution_count": null,
   "metadata": {},
   "outputs": [],
   "source": []
  },
  {
   "cell_type": "code",
   "execution_count": null,
   "metadata": {},
   "outputs": [],
   "source": []
  },
  {
   "cell_type": "code",
   "execution_count": null,
   "metadata": {},
   "outputs": [],
   "source": []
  },
  {
   "cell_type": "code",
   "execution_count": null,
   "metadata": {},
   "outputs": [],
   "source": []
  },
  {
   "cell_type": "code",
   "execution_count": null,
   "metadata": {},
   "outputs": [],
   "source": []
  },
  {
   "cell_type": "code",
   "execution_count": null,
   "metadata": {},
   "outputs": [],
   "source": []
  },
  {
   "cell_type": "code",
   "execution_count": null,
   "metadata": {},
   "outputs": [],
   "source": []
  },
  {
   "cell_type": "code",
   "execution_count": null,
   "metadata": {},
   "outputs": [],
   "source": []
  },
  {
   "cell_type": "code",
   "execution_count": null,
   "metadata": {},
   "outputs": [],
   "source": []
  },
  {
   "cell_type": "code",
   "execution_count": null,
   "metadata": {},
   "outputs": [],
   "source": []
  }
 ],
 "metadata": {
  "kernelspec": {
   "display_name": "Python 3",
   "language": "python",
   "name": "python3"
  },
  "language_info": {
   "codemirror_mode": {
    "name": "ipython",
    "version": 3
   },
   "file_extension": ".py",
   "mimetype": "text/x-python",
   "name": "python",
   "nbconvert_exporter": "python",
   "pygments_lexer": "ipython3",
   "version": "3.8.5"
  }
 },
 "nbformat": 4,
 "nbformat_minor": 4
}
