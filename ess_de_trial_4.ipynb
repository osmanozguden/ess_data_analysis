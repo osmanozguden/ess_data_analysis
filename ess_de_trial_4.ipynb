{
 "cells": [
  {
   "cell_type": "code",
   "execution_count": 1,
   "metadata": {},
   "outputs": [],
   "source": [
    "import pandas as pd\n",
    "import numpy as np\n",
    "\n",
    "import seaborn as sns\n",
    "import matplotlib.pyplot as plt\n"
   ]
  },
  {
   "cell_type": "code",
   "execution_count": 2,
   "metadata": {},
   "outputs": [],
   "source": [
    "%matplotlib inline\n",
    "from matplotlib import style"
   ]
  },
  {
   "cell_type": "code",
   "execution_count": 3,
   "metadata": {},
   "outputs": [],
   "source": [
    "ess_de = pd.read_csv(\"ESS_R8_Germany.csv\")"
   ]
  },
  {
   "cell_type": "code",
   "execution_count": null,
   "metadata": {},
   "outputs": [],
   "source": []
  },
  {
   "cell_type": "markdown",
   "metadata": {},
   "source": [
    "# PRE-PROCESSING"
   ]
  },
  {
   "cell_type": "code",
   "execution_count": 4,
   "metadata": {},
   "outputs": [],
   "source": [
    "from sklearn import preprocessing\n",
    "import matplotlib.pyplot as plt \n",
    "plt.rc(\"font\", size=14)\n",
    "import seaborn as sns\n",
    "sns.set(style=\"white\") #white background style for seaborn plots\n",
    "sns.set(style=\"whitegrid\", color_codes=True)"
   ]
  },
  {
   "cell_type": "code",
   "execution_count": 5,
   "metadata": {},
   "outputs": [],
   "source": [
    "import warnings\n",
    "warnings.simplefilter(action='ignore')"
   ]
  },
  {
   "cell_type": "code",
   "execution_count": 6,
   "metadata": {},
   "outputs": [],
   "source": [
    "# No answer lists\n",
    "\n",
    "no_answer_1 = [7,8,9]\n",
    "no_answer_2 = [77,88,99]\n",
    "no_answer_3 = [55,77,88,99]\n",
    "no_answer_4 = [7777,8888,9999]\n",
    "no_answer_5 = [6,7,8,9]\n",
    "no_answer_6 = [3,7,8,9]\n",
    "\n"
   ]
  },
  {
   "cell_type": "markdown",
   "metadata": {},
   "source": [
    "1 - nwspol\n",
    "\n"
   ]
  },
  {
   "cell_type": "code",
   "execution_count": 7,
   "metadata": {},
   "outputs": [],
   "source": [
    "raw_nwspol = ess_de[\"nwspol\"]\n"
   ]
  },
  {
   "cell_type": "code",
   "execution_count": 8,
   "metadata": {},
   "outputs": [],
   "source": [
    "raw_nwspol = raw_nwspol[raw_nwspol.isin(no_answer_4)==False]"
   ]
  },
  {
   "cell_type": "code",
   "execution_count": 9,
   "metadata": {},
   "outputs": [
    {
     "data": {
      "text/plain": [
       "0      3\n",
       "1     30\n",
       "2     60\n",
       "3     15\n",
       "4    150\n",
       "Name: nwspol, dtype: int64"
      ]
     },
     "execution_count": 9,
     "metadata": {},
     "output_type": "execute_result"
    }
   ],
   "source": [
    "raw_nwspol.head()"
   ]
  },
  {
   "cell_type": "code",
   "execution_count": 12,
   "metadata": {},
   "outputs": [],
   "source": [
    "ess_de.insert(1, \"raw_nwspol\",raw_nwspol, True)"
   ]
  },
  {
   "cell_type": "code",
   "execution_count": 13,
   "metadata": {},
   "outputs": [],
   "source": [
    "#News about politics variable is negatively skewed. Since filling the null values with mean would give a biased\n",
    "# result, the median value fill in the missing values. \n",
    "\n",
    "ess_de[\"raw_nwspol\"].fillna(ess_de[\"raw_nwspol\"].median(skipna=True), inplace=True)"
   ]
  },
  {
   "cell_type": "code",
   "execution_count": 14,
   "metadata": {},
   "outputs": [
    {
     "data": {
      "text/plain": [
       "2852"
      ]
     },
     "execution_count": 14,
     "metadata": {},
     "output_type": "execute_result"
    }
   ],
   "source": [
    "ess_de[\"raw_nwspol\"].count()"
   ]
  },
  {
   "cell_type": "markdown",
   "metadata": {},
   "source": [
    "2 - polintr"
   ]
  },
  {
   "cell_type": "code",
   "execution_count": 15,
   "metadata": {},
   "outputs": [],
   "source": [
    "raw_polintr = ess_de[\"polintr\"]"
   ]
  },
  {
   "cell_type": "code",
   "execution_count": 16,
   "metadata": {},
   "outputs": [],
   "source": [
    "raw_polintr = raw_polintr[raw_polintr.isin(no_answer_1)==False]"
   ]
  },
  {
   "cell_type": "code",
   "execution_count": 17,
   "metadata": {},
   "outputs": [],
   "source": [
    "ess_de.insert(2, \"raw_polintr\",raw_polintr, True)"
   ]
  },
  {
   "cell_type": "code",
   "execution_count": 18,
   "metadata": {},
   "outputs": [
    {
     "data": {
      "text/plain": [
       "1"
      ]
     },
     "execution_count": 18,
     "metadata": {},
     "output_type": "execute_result"
    }
   ],
   "source": [
    "ess_de.raw_polintr.isnull().sum()"
   ]
  },
  {
   "cell_type": "code",
   "execution_count": 19,
   "metadata": {},
   "outputs": [],
   "source": [
    "# Only 1 missing value will not bias the result. It will be filled with the median. \n",
    "\n",
    "ess_de[\"raw_polintr\"].fillna(ess_de[\"raw_polintr\"].median(skipna=True), inplace=True)"
   ]
  },
  {
   "cell_type": "code",
   "execution_count": 20,
   "metadata": {},
   "outputs": [
    {
     "data": {
      "text/plain": [
       "0"
      ]
     },
     "execution_count": 20,
     "metadata": {},
     "output_type": "execute_result"
    }
   ],
   "source": [
    "ess_de.raw_polintr.isnull().sum()"
   ]
  },
  {
   "cell_type": "code",
   "execution_count": 21,
   "metadata": {},
   "outputs": [],
   "source": [
    "# Changing the values to binominal: Interested(1) or Not Interested(0)\n",
    "\n",
    "ess_de.loc[(ess_de.raw_polintr == 1),'raw_polintr'] = 1\n",
    "ess_de.loc[(ess_de.raw_polintr == 2),'raw_polintr'] = 1\n",
    "ess_de.loc[(ess_de.raw_polintr == 3),'raw_polintr'] = 0\n",
    "ess_de.loc[(ess_de.raw_polintr == 4),'raw_polintr'] = 0"
   ]
  },
  {
   "cell_type": "code",
   "execution_count": 22,
   "metadata": {},
   "outputs": [
    {
     "name": "stdout",
     "output_type": "stream",
     "text": [
      "Political Interes: 1-Interested 0-Not Interested\n",
      "1.0    1942\n",
      "0.0     910\n",
      "Name: raw_polintr, dtype: int64\n"
     ]
    },
    {
     "data": {
      "image/png": "[encoded data removed]",
      "text/plain": [
       "<Figure size 432x288 with 1 Axes>"
      ]
     },
     "metadata": {},
     "output_type": "display_data"
    }
   ],
   "source": [
    "print('Political Interes: 1-Interested 0-Not Interested')\n",
    "print(ess_de['raw_polintr'].value_counts())\n",
    "sns.countplot(x='raw_polintr', data=ess_de, palette='Set2')\n",
    "plt.show()"
   ]
  },
  {
   "cell_type": "code",
   "execution_count": 23,
   "metadata": {},
   "outputs": [
    {
     "data": {
      "text/plain": [
       "2852"
      ]
     },
     "execution_count": 23,
     "metadata": {},
     "output_type": "execute_result"
    }
   ],
   "source": [
    "ess_de[\"raw_polintr\"].count()"
   ]
  },
  {
   "cell_type": "markdown",
   "metadata": {},
   "source": [
    "3-vote"
   ]
  },
  {
   "cell_type": "code",
   "execution_count": 24,
   "metadata": {},
   "outputs": [],
   "source": [
    "raw_vote = ess_de[\"vote\"]"
   ]
  },
  {
   "cell_type": "code",
   "execution_count": 25,
   "metadata": {},
   "outputs": [],
   "source": [
    "raw_vote = raw_vote[raw_vote.isin([3,7,8,9])==False]"
   ]
  },
  {
   "cell_type": "code",
   "execution_count": 26,
   "metadata": {},
   "outputs": [],
   "source": [
    "ess_de.insert(3, \"raw_vote\",raw_vote, True)"
   ]
  },
  {
   "cell_type": "code",
   "execution_count": 27,
   "metadata": {},
   "outputs": [
    {
     "data": {
      "text/plain": [
       "367"
      ]
     },
     "execution_count": 27,
     "metadata": {},
     "output_type": "execute_result"
    }
   ],
   "source": [
    "ess_de.raw_vote.isnull().sum()"
   ]
  },
  {
   "cell_type": "code",
   "execution_count": 28,
   "metadata": {},
   "outputs": [
    {
     "name": "stdout",
     "output_type": "stream",
     "text": [
      "Voted in the Last National Election\n",
      "1.0    2114\n",
      "2.0     371\n",
      "Name: raw_vote, dtype: int64\n"
     ]
    },
    {
     "data": {
      "image/png": "[encoded data removed]",
      "text/plain": [
       "<Figure size 432x288 with 1 Axes>"
      ]
     },
     "metadata": {},
     "output_type": "display_data"
    }
   ],
   "source": [
    "print('Voted in the Last National Election')\n",
    "print(ess_de['raw_vote'].value_counts())\n",
    "sns.countplot(x='raw_vote', data=ess_de, palette='Set2')\n",
    "plt.show()"
   ]
  },
  {
   "cell_type": "code",
   "execution_count": 29,
   "metadata": {},
   "outputs": [],
   "source": [
    "#Assigned half of the values to vote, the other half to not voted.\n",
    "\n",
    "ess_de[\"raw_vote\"].fillna(0, inplace=True, limit=183)"
   ]
  },
  {
   "cell_type": "code",
   "execution_count": 30,
   "metadata": {},
   "outputs": [],
   "source": [
    "ess_de[\"raw_vote\"].fillna(1, inplace=True)"
   ]
  },
  {
   "cell_type": "code",
   "execution_count": 31,
   "metadata": {},
   "outputs": [
    {
     "data": {
      "text/plain": [
       "0"
      ]
     },
     "execution_count": 31,
     "metadata": {},
     "output_type": "execute_result"
    }
   ],
   "source": [
    "ess_de.raw_vote.isnull().sum()"
   ]
  },
  {
   "cell_type": "code",
   "execution_count": 32,
   "metadata": {},
   "outputs": [
    {
     "name": "stdout",
     "output_type": "stream",
     "text": [
      "Voted in the Last National Election\n",
      "1.0    2298\n",
      "2.0     371\n",
      "0.0     183\n",
      "Name: raw_vote, dtype: int64\n"
     ]
    },
    {
     "data": {
      "image/png": "[encoded data removed]",
      "text/plain": [
       "<Figure size 432x288 with 1 Axes>"
      ]
     },
     "metadata": {},
     "output_type": "display_data"
    }
   ],
   "source": [
    "print('Voted in the Last National Election')\n",
    "print(ess_de['raw_vote'].value_counts())\n",
    "sns.countplot(x='raw_vote', data=ess_de, palette='Set2')\n",
    "plt.show()"
   ]
  },
  {
   "cell_type": "code",
   "execution_count": 33,
   "metadata": {},
   "outputs": [],
   "source": [
    "#Making vote into a binominal: 0-not voted 1-voted\n",
    "\n",
    "ess_de.loc[(ess_de.raw_vote == 2),'raw_vote'] = 0"
   ]
  },
  {
   "cell_type": "code",
   "execution_count": 34,
   "metadata": {},
   "outputs": [
    {
     "name": "stdout",
     "output_type": "stream",
     "text": [
      "Voted in the Last National Election\n",
      "1.0    2298\n",
      "0.0     554\n",
      "Name: raw_vote, dtype: int64\n"
     ]
    },
    {
     "data": {
      "image/png": "[encoded data removed]",
      "text/plain": [
       "<Figure size 432x288 with 1 Axes>"
      ]
     },
     "metadata": {},
     "output_type": "display_data"
    }
   ],
   "source": [
    "print('Voted in the Last National Election')\n",
    "print(ess_de['raw_vote'].value_counts())\n",
    "sns.countplot(x='raw_vote', data=ess_de, palette='Set2')\n",
    "plt.show()"
   ]
  },
  {
   "cell_type": "markdown",
   "metadata": {},
   "source": [
    "4-sgnptit"
   ]
  },
  {
   "cell_type": "code",
   "execution_count": 35,
   "metadata": {},
   "outputs": [],
   "source": [
    "raw_sgnptit = ess_de[\"sgnptit\"]"
   ]
  },
  {
   "cell_type": "code",
   "execution_count": 36,
   "metadata": {},
   "outputs": [],
   "source": [
    "raw_sgnptit = raw_sgnptit[raw_sgnptit.isin(no_answer_1)==False]"
   ]
  },
  {
   "cell_type": "code",
   "execution_count": 37,
   "metadata": {},
   "outputs": [],
   "source": [
    "ess_de.insert(4, \"raw_sgnptit\",raw_sgnptit, True)"
   ]
  },
  {
   "cell_type": "code",
   "execution_count": 38,
   "metadata": {},
   "outputs": [
    {
     "data": {
      "text/plain": [
       "7"
      ]
     },
     "execution_count": 38,
     "metadata": {},
     "output_type": "execute_result"
    }
   ],
   "source": [
    "ess_de.raw_sgnptit.isnull().sum()"
   ]
  },
  {
   "cell_type": "code",
   "execution_count": 39,
   "metadata": {},
   "outputs": [],
   "source": [
    "ess_de[\"raw_sgnptit\"].fillna(0, inplace=True, limit=4)"
   ]
  },
  {
   "cell_type": "code",
   "execution_count": 40,
   "metadata": {},
   "outputs": [],
   "source": [
    "ess_de[\"raw_sgnptit\"].fillna(1, inplace=True)"
   ]
  },
  {
   "cell_type": "code",
   "execution_count": 41,
   "metadata": {},
   "outputs": [
    {
     "data": {
      "text/plain": [
       "0"
      ]
     },
     "execution_count": 41,
     "metadata": {},
     "output_type": "execute_result"
    }
   ],
   "source": [
    "ess_de.raw_sgnptit.isnull().sum()"
   ]
  },
  {
   "cell_type": "code",
   "execution_count": 42,
   "metadata": {},
   "outputs": [],
   "source": [
    "#Making vote into a binominal: 0-not signed 1-signed\n",
    "\n",
    "ess_de.loc[(ess_de.raw_sgnptit == 2),'raw_sgnptit'] = 0"
   ]
  },
  {
   "cell_type": "code",
   "execution_count": 43,
   "metadata": {},
   "outputs": [
    {
     "name": "stdout",
     "output_type": "stream",
     "text": [
      "Signed petition last 12 months: 0-No 1-Yes\n",
      "0.0    1776\n",
      "1.0    1076\n",
      "Name: raw_sgnptit, dtype: int64\n"
     ]
    },
    {
     "data": {
      "image/png": "[encoded data removed]",
      "text/plain": [
       "<Figure size 432x288 with 1 Axes>"
      ]
     },
     "metadata": {},
     "output_type": "display_data"
    }
   ],
   "source": [
    "print('Signed petition last 12 months: 0-No 1-Yes')\n",
    "print(ess_de['raw_sgnptit'].value_counts())\n",
    "sns.countplot(x='raw_sgnptit', data=ess_de, palette='Set2')\n",
    "plt.show()"
   ]
  },
  {
   "cell_type": "markdown",
   "metadata": {},
   "source": [
    "5 - pstplonl"
   ]
  },
  {
   "cell_type": "code",
   "execution_count": 44,
   "metadata": {},
   "outputs": [
    {
     "name": "stdout",
     "output_type": "stream",
     "text": [
      "Missing Value Check\n",
      "2    2217\n",
      "1     633\n",
      "8       2\n",
      "Name: pstplonl, dtype: int64\n"
     ]
    },
    {
     "data": {
      "image/png": "[encoded data removed]",
      "text/plain": [
       "<Figure size 432x288 with 1 Axes>"
      ]
     },
     "metadata": {},
     "output_type": "display_data"
    }
   ],
   "source": [
    "print('Missing Value Check')\n",
    "print(ess_de['pstplonl'].value_counts())\n",
    "sns.countplot(x='pstplonl', data=ess_de, palette='Set2')\n",
    "plt.show()"
   ]
  },
  {
   "cell_type": "code",
   "execution_count": 45,
   "metadata": {},
   "outputs": [],
   "source": [
    "raw_pstplonl = ess_de[\"pstplonl\"]"
   ]
  },
  {
   "cell_type": "code",
   "execution_count": 46,
   "metadata": {},
   "outputs": [],
   "source": [
    "raw_pstplonl = raw_pstplonl[raw_pstplonl.isin([8])==False]"
   ]
  },
  {
   "cell_type": "code",
   "execution_count": 47,
   "metadata": {},
   "outputs": [],
   "source": [
    "ess_de.insert(5, \"raw_pstplonl\",raw_pstplonl, True)"
   ]
  },
  {
   "cell_type": "code",
   "execution_count": 48,
   "metadata": {},
   "outputs": [
    {
     "data": {
      "text/plain": [
       "2"
      ]
     },
     "execution_count": 48,
     "metadata": {},
     "output_type": "execute_result"
    }
   ],
   "source": [
    "ess_de.raw_pstplonl.isnull().sum()"
   ]
  },
  {
   "cell_type": "code",
   "execution_count": 49,
   "metadata": {},
   "outputs": [],
   "source": [
    "ess_de[\"raw_pstplonl\"].fillna(0, inplace=True)"
   ]
  },
  {
   "cell_type": "code",
   "execution_count": 50,
   "metadata": {},
   "outputs": [],
   "source": [
    "ess_de.loc[(ess_de.raw_pstplonl == 2),'raw_pstplonl'] = 0"
   ]
  },
  {
   "cell_type": "code",
   "execution_count": 51,
   "metadata": {},
   "outputs": [
    {
     "name": "stdout",
     "output_type": "stream",
     "text": [
      "Posted or shared anything about politics online last 12 months: 0-No 1-Yes\n",
      "0.0    2219\n",
      "1.0     633\n",
      "Name: raw_pstplonl, dtype: int64\n"
     ]
    },
    {
     "data": {
      "image/png": "[encoded data removed]",
      "text/plain": [
       "<Figure size 432x288 with 1 Axes>"
      ]
     },
     "metadata": {},
     "output_type": "display_data"
    }
   ],
   "source": [
    "print('Posted or shared anything about politics online last 12 months: 0-No 1-Yes')\n",
    "print(ess_de['raw_pstplonl'].value_counts())\n",
    "sns.countplot(x='raw_pstplonl', data=ess_de, palette='Set2')\n",
    "plt.show()"
   ]
  },
  {
   "cell_type": "code",
   "execution_count": 52,
   "metadata": {},
   "outputs": [
    {
     "data": {
      "text/html": [
       "<div>\n",
       "<style scoped>\n",
       "    .dataframe tbody tr th:only-of-type {\n",
       "        vertical-align: middle;\n",
       "    }\n",
       "\n",
       "    .dataframe tbody tr th {\n",
       "        vertical-align: top;\n",
       "    }\n",
       "\n",
       "    .dataframe thead th {\n",
       "        text-align: right;\n",
       "    }\n",
       "</style>\n",
       "<table border=\"1\" class=\"dataframe\">\n",
       "  <thead>\n",
       "    <tr style=\"text-align: right;\">\n",
       "      <th></th>\n",
       "      <th>raw_nwspol</th>\n",
       "      <th>raw_polintr</th>\n",
       "      <th>raw_vote</th>\n",
       "      <th>raw_sgnptit</th>\n",
       "      <th>raw_pstplonl</th>\n",
       "      <th>essround</th>\n",
       "      <th>edition</th>\n",
       "      <th>idno</th>\n",
       "      <th>dweight</th>\n",
       "      <th>pspwght</th>\n",
       "      <th>...</th>\n",
       "      <th>inwmms</th>\n",
       "      <th>inwyys</th>\n",
       "      <th>inwshh</th>\n",
       "      <th>inwsmm</th>\n",
       "      <th>inwdde</th>\n",
       "      <th>inwmme</th>\n",
       "      <th>inwyye</th>\n",
       "      <th>inwehh</th>\n",
       "      <th>inwemm</th>\n",
       "      <th>inwtm</th>\n",
       "    </tr>\n",
       "  </thead>\n",
       "  <tbody>\n",
       "    <tr>\n",
       "      <th>count</th>\n",
       "      <td>2852.000000</td>\n",
       "      <td>2852.000000</td>\n",
       "      <td>2852.000000</td>\n",
       "      <td>2852.000000</td>\n",
       "      <td>2852.00000</td>\n",
       "      <td>2852.0</td>\n",
       "      <td>2.852000e+03</td>\n",
       "      <td>2.852000e+03</td>\n",
       "      <td>2852.000000</td>\n",
       "      <td>2852.000000</td>\n",
       "      <td>...</td>\n",
       "      <td>2852.000000</td>\n",
       "      <td>2852.000000</td>\n",
       "      <td>2852.000000</td>\n",
       "      <td>2852.000000</td>\n",
       "      <td>2852.000000</td>\n",
       "      <td>2852.000000</td>\n",
       "      <td>2852.000000</td>\n",
       "      <td>2852.000000</td>\n",
       "      <td>2852.000000</td>\n",
       "      <td>2660.000000</td>\n",
       "    </tr>\n",
       "    <tr>\n",
       "      <th>mean</th>\n",
       "      <td>67.176367</td>\n",
       "      <td>0.680926</td>\n",
       "      <td>0.805750</td>\n",
       "      <td>0.377279</td>\n",
       "      <td>0.22195</td>\n",
       "      <td>8.0</td>\n",
       "      <td>2.200000e+00</td>\n",
       "      <td>1.072440e+07</td>\n",
       "      <td>1.000000</td>\n",
       "      <td>1.000000</td>\n",
       "      <td>...</td>\n",
       "      <td>9.274895</td>\n",
       "      <td>2016.116059</td>\n",
       "      <td>13.956522</td>\n",
       "      <td>24.751403</td>\n",
       "      <td>15.264376</td>\n",
       "      <td>9.267532</td>\n",
       "      <td>2016.117461</td>\n",
       "      <td>15.284712</td>\n",
       "      <td>28.457574</td>\n",
       "      <td>84.537218</td>\n",
       "    </tr>\n",
       "    <tr>\n",
       "      <th>std</th>\n",
       "      <td>84.160205</td>\n",
       "      <td>0.466200</td>\n",
       "      <td>0.395691</td>\n",
       "      <td>0.484791</td>\n",
       "      <td>0.41563</td>\n",
       "      <td>0.0</td>\n",
       "      <td>1.123743e-13</td>\n",
       "      <td>2.032128e+06</td>\n",
       "      <td>0.339962</td>\n",
       "      <td>0.579593</td>\n",
       "      <td>...</td>\n",
       "      <td>3.102509</td>\n",
       "      <td>0.320352</td>\n",
       "      <td>3.254579</td>\n",
       "      <td>18.885380</td>\n",
       "      <td>8.206786</td>\n",
       "      <td>3.117419</td>\n",
       "      <td>0.322026</td>\n",
       "      <td>3.259974</td>\n",
       "      <td>17.046472</td>\n",
       "      <td>35.041475</td>\n",
       "    </tr>\n",
       "    <tr>\n",
       "      <th>min</th>\n",
       "      <td>0.000000</td>\n",
       "      <td>0.000000</td>\n",
       "      <td>0.000000</td>\n",
       "      <td>0.000000</td>\n",
       "      <td>0.00000</td>\n",
       "      <td>8.0</td>\n",
       "      <td>2.200000e+00</td>\n",
       "      <td>1.000000e+07</td>\n",
       "      <td>0.512526</td>\n",
       "      <td>0.198633</td>\n",
       "      <td>...</td>\n",
       "      <td>1.000000</td>\n",
       "      <td>2016.000000</td>\n",
       "      <td>0.000000</td>\n",
       "      <td>0.000000</td>\n",
       "      <td>1.000000</td>\n",
       "      <td>1.000000</td>\n",
       "      <td>2016.000000</td>\n",
       "      <td>0.000000</td>\n",
       "      <td>0.000000</td>\n",
       "      <td>28.000000</td>\n",
       "    </tr>\n",
       "    <tr>\n",
       "      <th>25%</th>\n",
       "      <td>30.000000</td>\n",
       "      <td>0.000000</td>\n",
       "      <td>1.000000</td>\n",
       "      <td>0.000000</td>\n",
       "      <td>0.00000</td>\n",
       "      <td>8.0</td>\n",
       "      <td>2.200000e+00</td>\n",
       "      <td>1.000289e+07</td>\n",
       "      <td>0.512526</td>\n",
       "      <td>0.605012</td>\n",
       "      <td>...</td>\n",
       "      <td>9.000000</td>\n",
       "      <td>2016.000000</td>\n",
       "      <td>11.000000</td>\n",
       "      <td>8.000000</td>\n",
       "      <td>8.000000</td>\n",
       "      <td>9.000000</td>\n",
       "      <td>2016.000000</td>\n",
       "      <td>12.000000</td>\n",
       "      <td>14.000000</td>\n",
       "      <td>67.000000</td>\n",
       "    </tr>\n",
       "    <tr>\n",
       "      <th>50%</th>\n",
       "      <td>60.000000</td>\n",
       "      <td>1.000000</td>\n",
       "      <td>1.000000</td>\n",
       "      <td>0.000000</td>\n",
       "      <td>0.00000</td>\n",
       "      <td>8.0</td>\n",
       "      <td>2.200000e+00</td>\n",
       "      <td>1.000588e+07</td>\n",
       "      <td>1.237005</td>\n",
       "      <td>0.784708</td>\n",
       "      <td>...</td>\n",
       "      <td>10.000000</td>\n",
       "      <td>2016.000000</td>\n",
       "      <td>14.000000</td>\n",
       "      <td>21.000000</td>\n",
       "      <td>15.000000</td>\n",
       "      <td>10.000000</td>\n",
       "      <td>2016.000000</td>\n",
       "      <td>16.000000</td>\n",
       "      <td>28.000000</td>\n",
       "      <td>79.000000</td>\n",
       "    </tr>\n",
       "    <tr>\n",
       "      <th>75%</th>\n",
       "      <td>90.000000</td>\n",
       "      <td>1.000000</td>\n",
       "      <td>1.000000</td>\n",
       "      <td>1.000000</td>\n",
       "      <td>0.00000</td>\n",
       "      <td>8.0</td>\n",
       "      <td>2.200000e+00</td>\n",
       "      <td>1.000877e+07</td>\n",
       "      <td>1.237005</td>\n",
       "      <td>1.326770</td>\n",
       "      <td>...</td>\n",
       "      <td>11.000000</td>\n",
       "      <td>2016.000000</td>\n",
       "      <td>17.000000</td>\n",
       "      <td>41.000000</td>\n",
       "      <td>22.000000</td>\n",
       "      <td>11.000000</td>\n",
       "      <td>2016.000000</td>\n",
       "      <td>18.000000</td>\n",
       "      <td>43.000000</td>\n",
       "      <td>94.000000</td>\n",
       "    </tr>\n",
       "    <tr>\n",
       "      <th>max</th>\n",
       "      <td>1200.000000</td>\n",
       "      <td>1.000000</td>\n",
       "      <td>1.000000</td>\n",
       "      <td>1.000000</td>\n",
       "      <td>1.00000</td>\n",
       "      <td>8.0</td>\n",
       "      <td>2.200000e+00</td>\n",
       "      <td>1.930005e+07</td>\n",
       "      <td>1.237005</td>\n",
       "      <td>4.000091</td>\n",
       "      <td>...</td>\n",
       "      <td>12.000000</td>\n",
       "      <td>2017.000000</td>\n",
       "      <td>23.000000</td>\n",
       "      <td>59.000000</td>\n",
       "      <td>31.000000</td>\n",
       "      <td>12.000000</td>\n",
       "      <td>2017.000000</td>\n",
       "      <td>23.000000</td>\n",
       "      <td>59.000000</td>\n",
       "      <td>1083.000000</td>\n",
       "    </tr>\n",
       "  </tbody>\n",
       "</table>\n",
       "<p>8 rows × 530 columns</p>\n",
       "</div>"
      ],
      "text/plain": [
       "        raw_nwspol  raw_polintr     raw_vote  raw_sgnptit  raw_pstplonl  \\\n",
       "count  2852.000000  2852.000000  2852.000000  2852.000000    2852.00000   \n",
       "mean     67.176367     0.680926     0.805750     0.377279       0.22195   \n",
       "std      84.160205     0.466200     0.395691     0.484791       0.41563   \n",
       "min       0.000000     0.000000     0.000000     0.000000       0.00000   \n",
       "25%      30.000000     0.000000     1.000000     0.000000       0.00000   \n",
       "50%      60.000000     1.000000     1.000000     0.000000       0.00000   \n",
       "75%      90.000000     1.000000     1.000000     1.000000       0.00000   \n",
       "max    1200.000000     1.000000     1.000000     1.000000       1.00000   \n",
       "\n",
       "       essround       edition          idno      dweight      pspwght  ...  \\\n",
       "count    2852.0  2.852000e+03  2.852000e+03  2852.000000  2852.000000  ...   \n",
       "mean        8.0  2.200000e+00  1.072440e+07     1.000000     1.000000  ...   \n",
       "std         0.0  1.123743e-13  2.032128e+06     0.339962     0.579593  ...   \n",
       "min         8.0  2.200000e+00  1.000000e+07     0.512526     0.198633  ...   \n",
       "25%         8.0  2.200000e+00  1.000289e+07     0.512526     0.605012  ...   \n",
       "50%         8.0  2.200000e+00  1.000588e+07     1.237005     0.784708  ...   \n",
       "75%         8.0  2.200000e+00  1.000877e+07     1.237005     1.326770  ...   \n",
       "max         8.0  2.200000e+00  1.930005e+07     1.237005     4.000091  ...   \n",
       "\n",
       "            inwmms       inwyys       inwshh       inwsmm       inwdde  \\\n",
       "count  2852.000000  2852.000000  2852.000000  2852.000000  2852.000000   \n",
       "mean      9.274895  2016.116059    13.956522    24.751403    15.264376   \n",
       "std       3.102509     0.320352     3.254579    18.885380     8.206786   \n",
       "min       1.000000  2016.000000     0.000000     0.000000     1.000000   \n",
       "25%       9.000000  2016.000000    11.000000     8.000000     8.000000   \n",
       "50%      10.000000  2016.000000    14.000000    21.000000    15.000000   \n",
       "75%      11.000000  2016.000000    17.000000    41.000000    22.000000   \n",
       "max      12.000000  2017.000000    23.000000    59.000000    31.000000   \n",
       "\n",
       "            inwmme       inwyye       inwehh       inwemm        inwtm  \n",
       "count  2852.000000  2852.000000  2852.000000  2852.000000  2660.000000  \n",
       "mean      9.267532  2016.117461    15.284712    28.457574    84.537218  \n",
       "std       3.117419     0.322026     3.259974    17.046472    35.041475  \n",
       "min       1.000000  2016.000000     0.000000     0.000000    28.000000  \n",
       "25%       9.000000  2016.000000    12.000000    14.000000    67.000000  \n",
       "50%      10.000000  2016.000000    16.000000    28.000000    79.000000  \n",
       "75%      11.000000  2016.000000    18.000000    43.000000    94.000000  \n",
       "max      12.000000  2017.000000    23.000000    59.000000  1083.000000  \n",
       "\n",
       "[8 rows x 530 columns]"
      ]
     },
     "execution_count": 52,
     "metadata": {},
     "output_type": "execute_result"
    }
   ],
   "source": [
    "ess_de.describe()"
   ]
  },
  {
   "cell_type": "markdown",
   "metadata": {},
   "source": [
    "6 - trstplt"
   ]
  },
  {
   "cell_type": "code",
   "execution_count": 53,
   "metadata": {},
   "outputs": [
    {
     "name": "stdout",
     "output_type": "stream",
     "text": [
      "Trust in Politicians\n",
      "5     574\n",
      "3     410\n",
      "4     399\n",
      "6     360\n",
      "2     281\n",
      "0     260\n",
      "7     245\n",
      "1     148\n",
      "8     119\n",
      "9      21\n",
      "10     15\n",
      "88     14\n",
      "77      6\n",
      "Name: trstplt, dtype: int64\n"
     ]
    },
    {
     "data": {
      "image/png": "[encoded data removed]",
      "text/plain": [
       "<Figure size 432x288 with 1 Axes>"
      ]
     },
     "metadata": {},
     "output_type": "display_data"
    }
   ],
   "source": [
    "print('Trust in Politicians')\n",
    "print(ess_de['trstplt'].value_counts())\n",
    "sns.countplot(x='trstplt', data=ess_de, palette='Set2')\n",
    "plt.show()"
   ]
  },
  {
   "cell_type": "code",
   "execution_count": 54,
   "metadata": {},
   "outputs": [],
   "source": [
    "raw_trstplt = ess_de[\"trstplt\"]"
   ]
  },
  {
   "cell_type": "code",
   "execution_count": 55,
   "metadata": {},
   "outputs": [],
   "source": [
    "ess_de.insert(6, \"raw_trstplt\",raw_trstplt, True)"
   ]
  },
  {
   "cell_type": "code",
   "execution_count": 56,
   "metadata": {},
   "outputs": [],
   "source": [
    "#The null values are filled with median. \n",
    "\n",
    "ess_de.loc[(ess_de.raw_trstplt == 77),'raw_trstplt'] = 5\n",
    "ess_de.loc[(ess_de.raw_trstplt == 88),'raw_trstplt'] = 5"
   ]
  },
  {
   "cell_type": "code",
   "execution_count": 57,
   "metadata": {},
   "outputs": [
    {
     "name": "stdout",
     "output_type": "stream",
     "text": [
      "Voted in the Last National Election\n",
      "5     594\n",
      "3     410\n",
      "4     399\n",
      "6     360\n",
      "2     281\n",
      "0     260\n",
      "7     245\n",
      "1     148\n",
      "8     119\n",
      "9      21\n",
      "10     15\n",
      "Name: raw_trstplt, dtype: int64\n"
     ]
    },
    {
     "data": {
      "image/png": "[encoded data removed]",
      "text/plain": [
       "<Figure size 432x288 with 1 Axes>"
      ]
     },
     "metadata": {},
     "output_type": "display_data"
    }
   ],
   "source": [
    "print('Voted in the Last National Election')\n",
    "print(ess_de['raw_trstplt'].value_counts())\n",
    "sns.countplot(x='raw_trstplt', data=ess_de, palette='Set2')\n",
    "plt.show()"
   ]
  },
  {
   "cell_type": "code",
   "execution_count": 58,
   "metadata": {},
   "outputs": [
    {
     "data": {
      "text/plain": [
       "2852"
      ]
     },
     "execution_count": 58,
     "metadata": {},
     "output_type": "execute_result"
    }
   ],
   "source": [
    "ess_de[\"raw_trstplt\"].count()"
   ]
  },
  {
   "cell_type": "markdown",
   "metadata": {},
   "source": [
    "7 - trstprt"
   ]
  },
  {
   "cell_type": "code",
   "execution_count": 59,
   "metadata": {},
   "outputs": [
    {
     "data": {
      "text/plain": [
       "2852"
      ]
     },
     "execution_count": 59,
     "metadata": {},
     "output_type": "execute_result"
    }
   ],
   "source": [
    "ess_de[\"trstprt\"].count()"
   ]
  },
  {
   "cell_type": "code",
   "execution_count": 60,
   "metadata": {},
   "outputs": [
    {
     "name": "stdout",
     "output_type": "stream",
     "text": [
      "Trust in political parties\n",
      "5     582\n",
      "3     442\n",
      "4     429\n",
      "6     355\n",
      "2     296\n",
      "7     228\n",
      "0     206\n",
      "1     137\n",
      "8     106\n",
      "88     32\n",
      "9      22\n",
      "10     11\n",
      "77      6\n",
      "Name: trstprt, dtype: int64\n"
     ]
    },
    {
     "data": {
      "image/png": "[encoded data removed]",
      "text/plain": [
       "<Figure size 432x288 with 1 Axes>"
      ]
     },
     "metadata": {},
     "output_type": "display_data"
    }
   ],
   "source": [
    "print('Trust in political parties')\n",
    "print(ess_de[\"trstprt\"].value_counts())\n",
    "sns.countplot(x='trstprt', data=ess_de, palette='Set2')\n",
    "plt.show()"
   ]
  },
  {
   "cell_type": "code",
   "execution_count": 61,
   "metadata": {},
   "outputs": [],
   "source": [
    "raw_trstprt = ess_de[\"trstprt\"]"
   ]
  },
  {
   "cell_type": "code",
   "execution_count": 62,
   "metadata": {},
   "outputs": [],
   "source": [
    "ess_de.insert(7, \"raw_trstprt\",raw_trstprt, True)"
   ]
  },
  {
   "cell_type": "code",
   "execution_count": 63,
   "metadata": {},
   "outputs": [],
   "source": [
    "#the null values will be replaced with the median. \n",
    "\n",
    "ess_de.loc[(ess_de.raw_trstprt == 77),'raw_trstprt'] = 4\n",
    "ess_de.loc[(ess_de.raw_trstprt == 88),'raw_trstprt'] = 4"
   ]
  },
  {
   "cell_type": "code",
   "execution_count": 64,
   "metadata": {},
   "outputs": [
    {
     "name": "stdout",
     "output_type": "stream",
     "text": [
      "Trust in political parties\n",
      "5     582\n",
      "4     467\n",
      "3     442\n",
      "6     355\n",
      "2     296\n",
      "7     228\n",
      "0     206\n",
      "1     137\n",
      "8     106\n",
      "9      22\n",
      "10     11\n",
      "Name: raw_trstprt, dtype: int64\n"
     ]
    },
    {
     "data": {
      "image/png": "[encoded data removed]",
      "text/plain": [
       "<Figure size 432x288 with 1 Axes>"
      ]
     },
     "metadata": {},
     "output_type": "display_data"
    }
   ],
   "source": [
    "print('Trust in political parties')\n",
    "print(ess_de[\"raw_trstprt\"].value_counts())\n",
    "sns.countplot(x='raw_trstprt', data=ess_de, palette='Set2')\n",
    "plt.show()"
   ]
  },
  {
   "cell_type": "markdown",
   "metadata": {},
   "source": [
    "8 - lrscale"
   ]
  },
  {
   "cell_type": "code",
   "execution_count": 65,
   "metadata": {},
   "outputs": [
    {
     "name": "stdout",
     "output_type": "stream",
     "text": [
      "Placement on left right scale\n",
      "5     1023\n",
      "3      425\n",
      "4      369\n",
      "6      241\n",
      "2      223\n",
      "7      185\n",
      "0      118\n",
      "8       88\n",
      "88      59\n",
      "1       58\n",
      "77      28\n",
      "10      23\n",
      "9       12\n",
      "Name: lrscale, dtype: int64\n"
     ]
    },
    {
     "data": {
      "image/png": "[encoded data removed]",
      "text/plain": [
       "<Figure size 432x288 with 1 Axes>"
      ]
     },
     "metadata": {},
     "output_type": "display_data"
    }
   ],
   "source": [
    "print('Placement on left right scale')\n",
    "print(ess_de[\"lrscale\"].value_counts())\n",
    "sns.countplot(x='lrscale', data=ess_de, palette='Set2')\n",
    "plt.show()"
   ]
  },
  {
   "cell_type": "code",
   "execution_count": 66,
   "metadata": {},
   "outputs": [
    {
     "name": "stdout",
     "output_type": "stream",
     "text": [
      "5.203716690042076\n",
      "4.0\n"
     ]
    }
   ],
   "source": [
    "print(ess_de[\"trstprt\"].mean())\n",
    "print(ess_de[\"trstprt\"].median())"
   ]
  },
  {
   "cell_type": "code",
   "execution_count": 67,
   "metadata": {},
   "outputs": [],
   "source": [
    "raw_lrscale = ess_de[\"lrscale\"]"
   ]
  },
  {
   "cell_type": "code",
   "execution_count": 68,
   "metadata": {},
   "outputs": [],
   "source": [
    "ess_de.insert(8, \"raw_lrscale\",raw_lrscale, True)"
   ]
  },
  {
   "cell_type": "code",
   "execution_count": 69,
   "metadata": {},
   "outputs": [],
   "source": [
    "#Weighted distribution of missing values\n",
    "\n",
    "ess_de.loc[(ess_de.raw_lrscale == 77),'raw_lrscale'] = 3\n",
    "ess_de.loc[(ess_de.raw_lrscale == 88),'raw_lrscale'] = 5"
   ]
  },
  {
   "cell_type": "code",
   "execution_count": 70,
   "metadata": {},
   "outputs": [
    {
     "name": "stdout",
     "output_type": "stream",
     "text": [
      "Placement on left right scale\n",
      "5     1082\n",
      "3      453\n",
      "4      369\n",
      "6      241\n",
      "2      223\n",
      "7      185\n",
      "0      118\n",
      "8       88\n",
      "1       58\n",
      "10      23\n",
      "9       12\n",
      "Name: raw_lrscale, dtype: int64\n"
     ]
    },
    {
     "data": {
      "image/png": "[encoded data removed]",
      "text/plain": [
       "<Figure size 432x288 with 1 Axes>"
      ]
     },
     "metadata": {},
     "output_type": "display_data"
    }
   ],
   "source": [
    "print('Placement on left right scale')\n",
    "print(ess_de[\"raw_lrscale\"].value_counts())\n",
    "sns.countplot(x='raw_lrscale', data=ess_de, palette='Set2')\n",
    "plt.show()"
   ]
  },
  {
   "cell_type": "markdown",
   "metadata": {},
   "source": [
    "9 - stfgov"
   ]
  },
  {
   "cell_type": "code",
   "execution_count": 71,
   "metadata": {
    "scrolled": false
   },
   "outputs": [
    {
     "name": "stdout",
     "output_type": "stream",
     "text": [
      "How satisfied with the national government\n",
      "5     528\n",
      "6     480\n",
      "7     438\n",
      "4     333\n",
      "3     323\n",
      "8     228\n",
      "2     192\n",
      "0     134\n",
      "1      66\n",
      "88     58\n",
      "9      48\n",
      "10     22\n",
      "77      2\n",
      "Name: stfgov, dtype: int64\n"
     ]
    },
    {
     "data": {
      "image/png": "[encoded data removed]",
      "text/plain": [
       "<Figure size 432x288 with 1 Axes>"
      ]
     },
     "metadata": {},
     "output_type": "display_data"
    }
   ],
   "source": [
    "print('How satisfied with the national government')\n",
    "print(ess_de[\"stfgov\"].value_counts())\n",
    "sns.countplot(x='stfgov', data=ess_de, palette='Set2')\n",
    "plt.show()"
   ]
  },
  {
   "cell_type": "code",
   "execution_count": 72,
   "metadata": {},
   "outputs": [],
   "source": [
    "raw_stfgov = ess_de[\"stfgov\"]"
   ]
  },
  {
   "cell_type": "code",
   "execution_count": 73,
   "metadata": {},
   "outputs": [],
   "source": [
    "ess_de.insert(9, \"raw_stfgov\",raw_stfgov, True)"
   ]
  },
  {
   "cell_type": "code",
   "execution_count": 74,
   "metadata": {},
   "outputs": [],
   "source": [
    "#Replacing the null values with median value. \n",
    "\n",
    "ess_de.loc[(ess_de.raw_stfgov == 77),'raw_stfgov'] = 5\n",
    "ess_de.loc[(ess_de.raw_stfgov == 88),'raw_stfgov'] = 5"
   ]
  },
  {
   "cell_type": "markdown",
   "metadata": {},
   "source": [
    "10 - stfdem"
   ]
  },
  {
   "cell_type": "code",
   "execution_count": 75,
   "metadata": {},
   "outputs": [
    {
     "data": {
      "text/plain": [
       "2852"
      ]
     },
     "execution_count": 75,
     "metadata": {},
     "output_type": "execute_result"
    }
   ],
   "source": [
    "ess_de.stfdem.count()"
   ]
  },
  {
   "cell_type": "code",
   "execution_count": 76,
   "metadata": {},
   "outputs": [
    {
     "name": "stdout",
     "output_type": "stream",
     "text": [
      "How satisfied with the way democracy works in country\n",
      "8     533\n",
      "7     426\n",
      "5     384\n",
      "6     362\n",
      "4     260\n",
      "3     238\n",
      "9     232\n",
      "2     139\n",
      "10     93\n",
      "0      92\n",
      "1      65\n",
      "88     26\n",
      "77      2\n",
      "Name: stfdem, dtype: int64\n"
     ]
    },
    {
     "data": {
      "image/png": "[encoded data removed]",
      "text/plain": [
       "<Figure size 432x288 with 1 Axes>"
      ]
     },
     "metadata": {},
     "output_type": "display_data"
    }
   ],
   "source": [
    "print('How satisfied with the way democracy works in country')\n",
    "print(ess_de[\"stfdem\"].value_counts())\n",
    "sns.countplot(x='stfdem', data=ess_de, palette='Set2')\n",
    "plt.show()"
   ]
  },
  {
   "cell_type": "code",
   "execution_count": 77,
   "metadata": {},
   "outputs": [],
   "source": [
    "raw_stfdem = ess_de[\"stfdem\"]"
   ]
  },
  {
   "cell_type": "code",
   "execution_count": 78,
   "metadata": {},
   "outputs": [],
   "source": [
    "ess_de.insert(9, \"raw_stfdem\",raw_stfdem, True)"
   ]
  },
  {
   "cell_type": "code",
   "execution_count": 79,
   "metadata": {},
   "outputs": [],
   "source": [
    "#Replacing the null values with median value. \n",
    "\n",
    "ess_de.loc[(ess_de.raw_stfdem == 77),'raw_stfdem'] = 6\n",
    "ess_de.loc[(ess_de.raw_stfdem == 88),'raw_stfdem'] = 6"
   ]
  },
  {
   "cell_type": "code",
   "execution_count": 80,
   "metadata": {},
   "outputs": [
    {
     "name": "stdout",
     "output_type": "stream",
     "text": [
      "How satisfied with the way democracy works in country\n",
      "8     533\n",
      "7     426\n",
      "6     390\n",
      "5     384\n",
      "4     260\n",
      "3     238\n",
      "9     232\n",
      "2     139\n",
      "10     93\n",
      "0      92\n",
      "1      65\n",
      "Name: raw_stfdem, dtype: int64\n"
     ]
    },
    {
     "data": {
      "image/png": "[encoded data removed]",
      "text/plain": [
       "<Figure size 432x288 with 1 Axes>"
      ]
     },
     "metadata": {},
     "output_type": "display_data"
    }
   ],
   "source": [
    "print('How satisfied with the way democracy works in country')\n",
    "print(ess_de[\"raw_stfdem\"].value_counts())\n",
    "sns.countplot(x='raw_stfdem', data=ess_de, palette='Set2')\n",
    "plt.show()"
   ]
  },
  {
   "cell_type": "code",
   "execution_count": 81,
   "metadata": {},
   "outputs": [
    {
     "data": {
      "text/html": [
       "<div>\n",
       "<style scoped>\n",
       "    .dataframe tbody tr th:only-of-type {\n",
       "        vertical-align: middle;\n",
       "    }\n",
       "\n",
       "    .dataframe tbody tr th {\n",
       "        vertical-align: top;\n",
       "    }\n",
       "\n",
       "    .dataframe thead th {\n",
       "        text-align: right;\n",
       "    }\n",
       "</style>\n",
       "<table border=\"1\" class=\"dataframe\">\n",
       "  <thead>\n",
       "    <tr style=\"text-align: right;\">\n",
       "      <th></th>\n",
       "      <th>raw_nwspol</th>\n",
       "      <th>raw_polintr</th>\n",
       "      <th>raw_vote</th>\n",
       "      <th>raw_sgnptit</th>\n",
       "      <th>raw_pstplonl</th>\n",
       "      <th>raw_trstplt</th>\n",
       "      <th>raw_trstprt</th>\n",
       "      <th>raw_lrscale</th>\n",
       "      <th>raw_stfdem</th>\n",
       "      <th>raw_stfgov</th>\n",
       "      <th>...</th>\n",
       "      <th>inwmms</th>\n",
       "      <th>inwyys</th>\n",
       "      <th>inwshh</th>\n",
       "      <th>inwsmm</th>\n",
       "      <th>inwdde</th>\n",
       "      <th>inwmme</th>\n",
       "      <th>inwyye</th>\n",
       "      <th>inwehh</th>\n",
       "      <th>inwemm</th>\n",
       "      <th>inwtm</th>\n",
       "    </tr>\n",
       "  </thead>\n",
       "  <tbody>\n",
       "    <tr>\n",
       "      <th>count</th>\n",
       "      <td>2852.000000</td>\n",
       "      <td>2852.000000</td>\n",
       "      <td>2852.000000</td>\n",
       "      <td>2852.000000</td>\n",
       "      <td>2852.00000</td>\n",
       "      <td>2852.000000</td>\n",
       "      <td>2852.000000</td>\n",
       "      <td>2852.000000</td>\n",
       "      <td>2852.000000</td>\n",
       "      <td>2852.000000</td>\n",
       "      <td>...</td>\n",
       "      <td>2852.000000</td>\n",
       "      <td>2852.000000</td>\n",
       "      <td>2852.000000</td>\n",
       "      <td>2852.000000</td>\n",
       "      <td>2852.000000</td>\n",
       "      <td>2852.000000</td>\n",
       "      <td>2852.000000</td>\n",
       "      <td>2852.000000</td>\n",
       "      <td>2852.000000</td>\n",
       "      <td>2660.000000</td>\n",
       "    </tr>\n",
       "    <tr>\n",
       "      <th>mean</th>\n",
       "      <td>67.176367</td>\n",
       "      <td>0.680926</td>\n",
       "      <td>0.805750</td>\n",
       "      <td>0.377279</td>\n",
       "      <td>0.22195</td>\n",
       "      <td>4.092567</td>\n",
       "      <td>4.107644</td>\n",
       "      <td>4.394109</td>\n",
       "      <td>5.827840</td>\n",
       "      <td>4.948457</td>\n",
       "      <td>...</td>\n",
       "      <td>9.274895</td>\n",
       "      <td>2016.116059</td>\n",
       "      <td>13.956522</td>\n",
       "      <td>24.751403</td>\n",
       "      <td>15.264376</td>\n",
       "      <td>9.267532</td>\n",
       "      <td>2016.117461</td>\n",
       "      <td>15.284712</td>\n",
       "      <td>28.457574</td>\n",
       "      <td>84.537218</td>\n",
       "    </tr>\n",
       "    <tr>\n",
       "      <th>std</th>\n",
       "      <td>84.160205</td>\n",
       "      <td>0.466200</td>\n",
       "      <td>0.395691</td>\n",
       "      <td>0.484791</td>\n",
       "      <td>0.41563</td>\n",
       "      <td>2.232501</td>\n",
       "      <td>2.120366</td>\n",
       "      <td>1.831083</td>\n",
       "      <td>2.425781</td>\n",
       "      <td>2.164202</td>\n",
       "      <td>...</td>\n",
       "      <td>3.102509</td>\n",
       "      <td>0.320352</td>\n",
       "      <td>3.254579</td>\n",
       "      <td>18.885380</td>\n",
       "      <td>8.206786</td>\n",
       "      <td>3.117419</td>\n",
       "      <td>0.322026</td>\n",
       "      <td>3.259974</td>\n",
       "      <td>17.046472</td>\n",
       "      <td>35.041475</td>\n",
       "    </tr>\n",
       "    <tr>\n",
       "      <th>min</th>\n",
       "      <td>0.000000</td>\n",
       "      <td>0.000000</td>\n",
       "      <td>0.000000</td>\n",
       "      <td>0.000000</td>\n",
       "      <td>0.00000</td>\n",
       "      <td>0.000000</td>\n",
       "      <td>0.000000</td>\n",
       "      <td>0.000000</td>\n",
       "      <td>0.000000</td>\n",
       "      <td>0.000000</td>\n",
       "      <td>...</td>\n",
       "      <td>1.000000</td>\n",
       "      <td>2016.000000</td>\n",
       "      <td>0.000000</td>\n",
       "      <td>0.000000</td>\n",
       "      <td>1.000000</td>\n",
       "      <td>1.000000</td>\n",
       "      <td>2016.000000</td>\n",
       "      <td>0.000000</td>\n",
       "      <td>0.000000</td>\n",
       "      <td>28.000000</td>\n",
       "    </tr>\n",
       "    <tr>\n",
       "      <th>25%</th>\n",
       "      <td>30.000000</td>\n",
       "      <td>0.000000</td>\n",
       "      <td>1.000000</td>\n",
       "      <td>0.000000</td>\n",
       "      <td>0.00000</td>\n",
       "      <td>3.000000</td>\n",
       "      <td>3.000000</td>\n",
       "      <td>3.000000</td>\n",
       "      <td>4.000000</td>\n",
       "      <td>3.000000</td>\n",
       "      <td>...</td>\n",
       "      <td>9.000000</td>\n",
       "      <td>2016.000000</td>\n",
       "      <td>11.000000</td>\n",
       "      <td>8.000000</td>\n",
       "      <td>8.000000</td>\n",
       "      <td>9.000000</td>\n",
       "      <td>2016.000000</td>\n",
       "      <td>12.000000</td>\n",
       "      <td>14.000000</td>\n",
       "      <td>67.000000</td>\n",
       "    </tr>\n",
       "    <tr>\n",
       "      <th>50%</th>\n",
       "      <td>60.000000</td>\n",
       "      <td>1.000000</td>\n",
       "      <td>1.000000</td>\n",
       "      <td>0.000000</td>\n",
       "      <td>0.00000</td>\n",
       "      <td>4.000000</td>\n",
       "      <td>4.000000</td>\n",
       "      <td>5.000000</td>\n",
       "      <td>6.000000</td>\n",
       "      <td>5.000000</td>\n",
       "      <td>...</td>\n",
       "      <td>10.000000</td>\n",
       "      <td>2016.000000</td>\n",
       "      <td>14.000000</td>\n",
       "      <td>21.000000</td>\n",
       "      <td>15.000000</td>\n",
       "      <td>10.000000</td>\n",
       "      <td>2016.000000</td>\n",
       "      <td>16.000000</td>\n",
       "      <td>28.000000</td>\n",
       "      <td>79.000000</td>\n",
       "    </tr>\n",
       "    <tr>\n",
       "      <th>75%</th>\n",
       "      <td>90.000000</td>\n",
       "      <td>1.000000</td>\n",
       "      <td>1.000000</td>\n",
       "      <td>1.000000</td>\n",
       "      <td>0.00000</td>\n",
       "      <td>6.000000</td>\n",
       "      <td>6.000000</td>\n",
       "      <td>5.000000</td>\n",
       "      <td>8.000000</td>\n",
       "      <td>7.000000</td>\n",
       "      <td>...</td>\n",
       "      <td>11.000000</td>\n",
       "      <td>2016.000000</td>\n",
       "      <td>17.000000</td>\n",
       "      <td>41.000000</td>\n",
       "      <td>22.000000</td>\n",
       "      <td>11.000000</td>\n",
       "      <td>2016.000000</td>\n",
       "      <td>18.000000</td>\n",
       "      <td>43.000000</td>\n",
       "      <td>94.000000</td>\n",
       "    </tr>\n",
       "    <tr>\n",
       "      <th>max</th>\n",
       "      <td>1200.000000</td>\n",
       "      <td>1.000000</td>\n",
       "      <td>1.000000</td>\n",
       "      <td>1.000000</td>\n",
       "      <td>1.00000</td>\n",
       "      <td>10.000000</td>\n",
       "      <td>10.000000</td>\n",
       "      <td>10.000000</td>\n",
       "      <td>10.000000</td>\n",
       "      <td>10.000000</td>\n",
       "      <td>...</td>\n",
       "      <td>12.000000</td>\n",
       "      <td>2017.000000</td>\n",
       "      <td>23.000000</td>\n",
       "      <td>59.000000</td>\n",
       "      <td>31.000000</td>\n",
       "      <td>12.000000</td>\n",
       "      <td>2017.000000</td>\n",
       "      <td>23.000000</td>\n",
       "      <td>59.000000</td>\n",
       "      <td>1083.000000</td>\n",
       "    </tr>\n",
       "  </tbody>\n",
       "</table>\n",
       "<p>8 rows × 535 columns</p>\n",
       "</div>"
      ],
      "text/plain": [
       "        raw_nwspol  raw_polintr     raw_vote  raw_sgnptit  raw_pstplonl  \\\n",
       "count  2852.000000  2852.000000  2852.000000  2852.000000    2852.00000   \n",
       "mean     67.176367     0.680926     0.805750     0.377279       0.22195   \n",
       "std      84.160205     0.466200     0.395691     0.484791       0.41563   \n",
       "min       0.000000     0.000000     0.000000     0.000000       0.00000   \n",
       "25%      30.000000     0.000000     1.000000     0.000000       0.00000   \n",
       "50%      60.000000     1.000000     1.000000     0.000000       0.00000   \n",
       "75%      90.000000     1.000000     1.000000     1.000000       0.00000   \n",
       "max    1200.000000     1.000000     1.000000     1.000000       1.00000   \n",
       "\n",
       "       raw_trstplt  raw_trstprt  raw_lrscale   raw_stfdem   raw_stfgov  ...  \\\n",
       "count  2852.000000  2852.000000  2852.000000  2852.000000  2852.000000  ...   \n",
       "mean      4.092567     4.107644     4.394109     5.827840     4.948457  ...   \n",
       "std       2.232501     2.120366     1.831083     2.425781     2.164202  ...   \n",
       "min       0.000000     0.000000     0.000000     0.000000     0.000000  ...   \n",
       "25%       3.000000     3.000000     3.000000     4.000000     3.000000  ...   \n",
       "50%       4.000000     4.000000     5.000000     6.000000     5.000000  ...   \n",
       "75%       6.000000     6.000000     5.000000     8.000000     7.000000  ...   \n",
       "max      10.000000    10.000000    10.000000    10.000000    10.000000  ...   \n",
       "\n",
       "            inwmms       inwyys       inwshh       inwsmm       inwdde  \\\n",
       "count  2852.000000  2852.000000  2852.000000  2852.000000  2852.000000   \n",
       "mean      9.274895  2016.116059    13.956522    24.751403    15.264376   \n",
       "std       3.102509     0.320352     3.254579    18.885380     8.206786   \n",
       "min       1.000000  2016.000000     0.000000     0.000000     1.000000   \n",
       "25%       9.000000  2016.000000    11.000000     8.000000     8.000000   \n",
       "50%      10.000000  2016.000000    14.000000    21.000000    15.000000   \n",
       "75%      11.000000  2016.000000    17.000000    41.000000    22.000000   \n",
       "max      12.000000  2017.000000    23.000000    59.000000    31.000000   \n",
       "\n",
       "            inwmme       inwyye       inwehh       inwemm        inwtm  \n",
       "count  2852.000000  2852.000000  2852.000000  2852.000000  2660.000000  \n",
       "mean      9.267532  2016.117461    15.284712    28.457574    84.537218  \n",
       "std       3.117419     0.322026     3.259974    17.046472    35.041475  \n",
       "min       1.000000  2016.000000     0.000000     0.000000    28.000000  \n",
       "25%       9.000000  2016.000000    12.000000    14.000000    67.000000  \n",
       "50%      10.000000  2016.000000    16.000000    28.000000    79.000000  \n",
       "75%      11.000000  2016.000000    18.000000    43.000000    94.000000  \n",
       "max      12.000000  2017.000000    23.000000    59.000000  1083.000000  \n",
       "\n",
       "[8 rows x 535 columns]"
      ]
     },
     "execution_count": 81,
     "metadata": {},
     "output_type": "execute_result"
    }
   ],
   "source": [
    "ess_de.describe()"
   ]
  },
  {
   "cell_type": "code",
   "execution_count": null,
   "metadata": {},
   "outputs": [],
   "source": [
    "# Creating a new dataframe with the raw variables. \n",
    "\n",
    "#check the code and then run it\n",
    "\n",
    "#de_train = ess_de[\"raw_nwspol\", \"raw_polintr\", \"raw_vote\", \"raw_sgnptit\", \"raw_trstplt\",\n",
    "                  \"raw_lrscale\", \"raw_stfdem\", \"raw_stfgov\" ]"
   ]
  },
  {
   "cell_type": "code",
   "execution_count": null,
   "metadata": {},
   "outputs": [],
   "source": []
  },
  {
   "cell_type": "code",
   "execution_count": null,
   "metadata": {},
   "outputs": [],
   "source": []
  },
  {
   "cell_type": "code",
   "execution_count": null,
   "metadata": {},
   "outputs": [],
   "source": []
  },
  {
   "cell_type": "code",
   "execution_count": null,
   "metadata": {},
   "outputs": [],
   "source": []
  },
  {
   "cell_type": "code",
   "execution_count": null,
   "metadata": {},
   "outputs": [],
   "source": []
  },
  {
   "cell_type": "code",
   "execution_count": null,
   "metadata": {},
   "outputs": [],
   "source": []
  },
  {
   "cell_type": "markdown",
   "metadata": {},
   "source": [
    "11 - gincdif"
   ]
  },
  {
   "cell_type": "code",
   "execution_count": 81,
   "metadata": {},
   "outputs": [
    {
     "name": "stdout",
     "output_type": "stream",
     "text": [
      "Government should reduce differences in income levels\n",
      "2    1302\n",
      "1     776\n",
      "3     386\n",
      "4     319\n",
      "5      45\n",
      "8      19\n",
      "7       5\n",
      "Name: gincdif, dtype: int64\n"
     ]
    },
    {
     "data": {
      "image/png": "[encoded data removed]",
      "text/plain": [
       "<Figure size 432x288 with 1 Axes>"
      ]
     },
     "metadata": {},
     "output_type": "display_data"
    }
   ],
   "source": [
    "print('Government should reduce differences in income levels')\n",
    "print(ess_de[\"gincdif\"].value_counts())\n",
    "sns.countplot(x='gincdif', data=ess_de, palette='Set2')\n",
    "plt.show()"
   ]
  },
  {
   "cell_type": "code",
   "execution_count": 82,
   "metadata": {},
   "outputs": [],
   "source": [
    "raw_gincdif= ess_de[\"gincdif\"]"
   ]
  },
  {
   "cell_type": "code",
   "execution_count": 83,
   "metadata": {},
   "outputs": [],
   "source": [
    "ess_de.insert(11, \"raw_gincdif\",raw_gincdif, True)"
   ]
  },
  {
   "cell_type": "code",
   "execution_count": 84,
   "metadata": {},
   "outputs": [],
   "source": [
    "# Replacing the null values with median value\n",
    "\n",
    "ess_de.loc[(ess_de.raw_gincdif == 7),'raw_gincdif'] = 2\n",
    "ess_de.loc[(ess_de.raw_gincdif == 8),'raw_gincdif'] = 2"
   ]
  },
  {
   "cell_type": "code",
   "execution_count": 85,
   "metadata": {},
   "outputs": [
    {
     "name": "stdout",
     "output_type": "stream",
     "text": [
      "Government should reduce differences in income levels\n",
      "2    1326\n",
      "1     776\n",
      "3     386\n",
      "4     319\n",
      "5      45\n",
      "Name: raw_gincdif, dtype: int64\n"
     ]
    },
    {
     "data": {
      "image/png": "[encoded data removed]",
      "text/plain": [
       "<Figure size 432x288 with 1 Axes>"
      ]
     },
     "metadata": {},
     "output_type": "display_data"
    }
   ],
   "source": [
    "print('Government should reduce differences in income levels')\n",
    "print(ess_de[\"raw_gincdif\"].value_counts())\n",
    "sns.countplot(x='raw_gincdif', data=ess_de, palette='Set2')\n",
    "plt.show()"
   ]
  },
  {
   "cell_type": "markdown",
   "metadata": {},
   "source": [
    "12 - gvslvue"
   ]
  },
  {
   "cell_type": "code",
   "execution_count": 86,
   "metadata": {
    "scrolled": false
   },
   "outputs": [
    {
     "name": "stdout",
     "output_type": "stream",
     "text": [
      "Standard of living for the unemployed, governments' responsibility\n",
      "5     664\n",
      "7     448\n",
      "8     414\n",
      "6     399\n",
      "4     239\n",
      "3     225\n",
      "10    203\n",
      "9     120\n",
      "2      68\n",
      "0      28\n",
      "88     27\n",
      "1      13\n",
      "77      4\n",
      "Name: gvslvue, dtype: int64\n"
     ]
    },
    {
     "data": {
      "image/png": "[encoded data removed]",
      "text/plain": [
       "<Figure size 432x288 with 1 Axes>"
      ]
     },
     "metadata": {},
     "output_type": "display_data"
    }
   ],
   "source": [
    "print(\"Standard of living for the unemployed, governments' responsibility\")\n",
    "print(ess_de[\"gvslvue\"].value_counts())\n",
    "sns.countplot(x='gvslvue', data=ess_de, palette='Set2')\n",
    "plt.show()"
   ]
  },
  {
   "cell_type": "code",
   "execution_count": 87,
   "metadata": {},
   "outputs": [
    {
     "data": {
      "text/plain": [
       "2852"
      ]
     },
     "execution_count": 87,
     "metadata": {},
     "output_type": "execute_result"
    }
   ],
   "source": [
    "ess_de[\"gvslvue\"].count()"
   ]
  },
  {
   "cell_type": "code",
   "execution_count": 88,
   "metadata": {},
   "outputs": [],
   "source": [
    "raw_gvslvue= ess_de[\"gvslvue\"]"
   ]
  },
  {
   "cell_type": "code",
   "execution_count": 89,
   "metadata": {},
   "outputs": [],
   "source": [
    "ess_de.insert(12, \"raw_gvslvue\",raw_gvslvue, True)"
   ]
  },
  {
   "cell_type": "code",
   "execution_count": 90,
   "metadata": {},
   "outputs": [],
   "source": [
    "# Replacing the null values with the median value.\n",
    "\n",
    "ess_de.loc[(ess_de.raw_gvslvue == 77),'raw_gvslvue'] = 6\n",
    "ess_de.loc[(ess_de.raw_gvslvue == 88),'raw_gvslvue'] = 6"
   ]
  },
  {
   "cell_type": "code",
   "execution_count": 91,
   "metadata": {},
   "outputs": [
    {
     "name": "stdout",
     "output_type": "stream",
     "text": [
      "Standard of living for the unemployed, governments' responsibility\n",
      "5     664\n",
      "7     448\n",
      "6     430\n",
      "8     414\n",
      "4     239\n",
      "3     225\n",
      "10    203\n",
      "9     120\n",
      "2      68\n",
      "0      28\n",
      "1      13\n",
      "Name: raw_gvslvue, dtype: int64\n"
     ]
    },
    {
     "data": {
      "image/png": "[encoded data removed]",
      "text/plain": [
       "<Figure size 432x288 with 1 Axes>"
      ]
     },
     "metadata": {},
     "output_type": "display_data"
    }
   ],
   "source": [
    "print(\"Standard of living for the unemployed, governments' responsibility\")\n",
    "print(ess_de[\"raw_gvslvue\"].value_counts())\n",
    "sns.countplot(x='raw_gvslvue', data=ess_de, palette='Set2')\n",
    "plt.show()"
   ]
  },
  {
   "cell_type": "markdown",
   "metadata": {},
   "source": [
    "13 - stfeco"
   ]
  },
  {
   "cell_type": "code",
   "execution_count": 92,
   "metadata": {},
   "outputs": [
    {
     "name": "stdout",
     "output_type": "stream",
     "text": [
      "How satisfied with present state of economy in country\n",
      "8     671\n",
      "7     610\n",
      "5     365\n",
      "6     355\n",
      "9     250\n",
      "4     165\n",
      "10    139\n",
      "3     129\n",
      "2      69\n",
      "88     33\n",
      "0      33\n",
      "1      31\n",
      "77      2\n",
      "Name: stfeco, dtype: int64\n"
     ]
    },
    {
     "data": {
      "image/png": "[encoded data removed]",
      "text/plain": [
       "<Figure size 432x288 with 1 Axes>"
      ]
     },
     "metadata": {},
     "output_type": "display_data"
    }
   ],
   "source": [
    "print(\"How satisfied with present state of economy in country\")\n",
    "print(ess_de[\"stfeco\"].value_counts())\n",
    "sns.countplot(x='stfeco', data=ess_de, palette='Set2')\n",
    "plt.show()"
   ]
  },
  {
   "cell_type": "code",
   "execution_count": 93,
   "metadata": {},
   "outputs": [],
   "source": [
    "raw_stfeco= ess_de[\"stfeco\"]"
   ]
  },
  {
   "cell_type": "code",
   "execution_count": 94,
   "metadata": {},
   "outputs": [],
   "source": [
    "ess_de.insert(12, \"raw_stfeco\",raw_stfeco, True)"
   ]
  },
  {
   "cell_type": "code",
   "execution_count": 95,
   "metadata": {},
   "outputs": [],
   "source": [
    "# Replacing the null values with the median value.\n",
    "\n",
    "ess_de.loc[(ess_de.raw_stfeco == 77),'raw_stfeco'] = 7\n",
    "ess_de.loc[(ess_de.raw_stfeco == 88),'raw_stfeco'] = 7"
   ]
  },
  {
   "cell_type": "code",
   "execution_count": 96,
   "metadata": {},
   "outputs": [
    {
     "name": "stdout",
     "output_type": "stream",
     "text": [
      "How satisfied with present state of economy in country\n",
      "8     671\n",
      "7     645\n",
      "5     365\n",
      "6     355\n",
      "9     250\n",
      "4     165\n",
      "10    139\n",
      "3     129\n",
      "2      69\n",
      "0      33\n",
      "1      31\n",
      "Name: raw_stfeco, dtype: int64\n"
     ]
    },
    {
     "data": {
      "image/png": "[encoded data removed]",
      "text/plain": [
       "<Figure size 432x288 with 1 Axes>"
      ]
     },
     "metadata": {},
     "output_type": "display_data"
    }
   ],
   "source": [
    "print(\"How satisfied with present state of economy in country\")\n",
    "print(ess_de[\"raw_stfeco\"].value_counts())\n",
    "sns.countplot(x='raw_stfeco', data=ess_de, palette='Set2')\n",
    "plt.show()"
   ]
  },
  {
   "cell_type": "markdown",
   "metadata": {},
   "source": [
    "14 - emplrel"
   ]
  },
  {
   "cell_type": "code",
   "execution_count": 97,
   "metadata": {},
   "outputs": [
    {
     "name": "stdout",
     "output_type": "stream",
     "text": [
      "Employment relation\n",
      "1    2357\n",
      "2     295\n",
      "6     140\n",
      "3      52\n",
      "7       6\n",
      "8       2\n",
      "Name: emplrel, dtype: int64\n"
     ]
    },
    {
     "data": {
      "image/png": "[encoded data removed]",
      "text/plain": [
       "<Figure size 432x288 with 1 Axes>"
      ]
     },
     "metadata": {},
     "output_type": "display_data"
    }
   ],
   "source": [
    "print(\"Employment relation\")\n",
    "print(ess_de[\"emplrel\"].value_counts())\n",
    "sns.countplot(x='emplrel', data=ess_de, palette='Set2')\n",
    "plt.show()"
   ]
  },
  {
   "cell_type": "code",
   "execution_count": 98,
   "metadata": {},
   "outputs": [],
   "source": [
    "raw_emplrel = ess_de[\"emplrel\"]"
   ]
  },
  {
   "cell_type": "code",
   "execution_count": 99,
   "metadata": {},
   "outputs": [],
   "source": [
    "raw_emplrel = raw_emplrel[raw_emplrel.isin(no_answer_5)==False]"
   ]
  },
  {
   "cell_type": "code",
   "execution_count": 100,
   "metadata": {},
   "outputs": [],
   "source": [
    "ess_de.insert(14, \"raw_emplrel\", raw_emplrel, True)"
   ]
  },
  {
   "cell_type": "code",
   "execution_count": 101,
   "metadata": {},
   "outputs": [
    {
     "data": {
      "text/plain": [
       "148"
      ]
     },
     "execution_count": 101,
     "metadata": {},
     "output_type": "execute_result"
    }
   ],
   "source": [
    "ess_de[\"raw_emplrel\"].isnull().sum()"
   ]
  },
  {
   "cell_type": "code",
   "execution_count": 102,
   "metadata": {},
   "outputs": [],
   "source": [
    "# Weighted distribution of the null values across values\n",
    "\n",
    "ess_de[\"raw_emplrel\"].fillna(1, inplace=True, limit=124)"
   ]
  },
  {
   "cell_type": "code",
   "execution_count": 103,
   "metadata": {},
   "outputs": [],
   "source": [
    "ess_de[\"raw_emplrel\"].fillna(2, inplace=True, limit=16)"
   ]
  },
  {
   "cell_type": "code",
   "execution_count": 104,
   "metadata": {},
   "outputs": [],
   "source": [
    "ess_de[\"raw_emplrel\"].fillna(3, inplace=True)"
   ]
  },
  {
   "cell_type": "code",
   "execution_count": 105,
   "metadata": {},
   "outputs": [
    {
     "name": "stdout",
     "output_type": "stream",
     "text": [
      "Employment relation\n",
      "1.0    2481\n",
      "2.0     311\n",
      "3.0      60\n",
      "Name: raw_emplrel, dtype: int64\n"
     ]
    },
    {
     "data": {
      "image/png": "[encoded data removed]",
      "text/plain": [
       "<Figure size 432x288 with 1 Axes>"
      ]
     },
     "metadata": {},
     "output_type": "display_data"
    }
   ],
   "source": [
    "print(\"Employment relation\")\n",
    "print(ess_de[\"raw_emplrel\"].value_counts())\n",
    "sns.countplot(x='raw_emplrel', data=ess_de, palette='Set2')\n",
    "plt.show()"
   ]
  },
  {
   "cell_type": "markdown",
   "metadata": {},
   "source": [
    "15 - hincsrca"
   ]
  },
  {
   "cell_type": "code",
   "execution_count": 106,
   "metadata": {},
   "outputs": [],
   "source": [
    "#ess_de.drop(\"raw_hincsrca\", axis=1, inplace = True )"
   ]
  },
  {
   "cell_type": "code",
   "execution_count": 107,
   "metadata": {},
   "outputs": [
    {
     "name": "stdout",
     "output_type": "stream",
     "text": [
      "Main source of household income\n",
      "1     1734\n",
      "4      699\n",
      "2      199\n",
      "5       81\n",
      "6       50\n",
      "8       32\n",
      "7       24\n",
      "77      12\n",
      "88      11\n",
      "3       10\n",
      "Name: hincsrca, dtype: int64\n"
     ]
    },
    {
     "data": {
      "image/png": "[encoded data removed]",
      "text/plain": [
       "<Figure size 432x288 with 1 Axes>"
      ]
     },
     "metadata": {},
     "output_type": "display_data"
    }
   ],
   "source": [
    "print(\"Main source of household income\")\n",
    "print(ess_de[\"hincsrca\"].value_counts())\n",
    "sns.countplot(x='hincsrca', data=ess_de, palette='Set2')\n",
    "plt.show()"
   ]
  },
  {
   "cell_type": "code",
   "execution_count": 108,
   "metadata": {},
   "outputs": [],
   "source": [
    "raw_hincsrca = ess_de[\"hincsrca\"]"
   ]
  },
  {
   "cell_type": "code",
   "execution_count": 109,
   "metadata": {},
   "outputs": [],
   "source": [
    "raw_hincsrca = raw_hincsrca[raw_hincsrca.isin([77,88])==False]"
   ]
  },
  {
   "cell_type": "code",
   "execution_count": 110,
   "metadata": {},
   "outputs": [],
   "source": [
    "ess_de.insert(15, \"raw_hincsrca\", raw_hincsrca, True)"
   ]
  },
  {
   "cell_type": "code",
   "execution_count": 111,
   "metadata": {},
   "outputs": [
    {
     "data": {
      "text/plain": [
       "23"
      ]
     },
     "execution_count": 111,
     "metadata": {},
     "output_type": "execute_result"
    }
   ],
   "source": [
    "ess_de[\"raw_hincsrca\"].isnull().sum()"
   ]
  },
  {
   "cell_type": "code",
   "execution_count": 112,
   "metadata": {},
   "outputs": [],
   "source": [
    "# Weighted distribution of the null values across values\n",
    "\n",
    "ess_de[\"raw_hincsrca\"].fillna(1, inplace=True, limit=15)"
   ]
  },
  {
   "cell_type": "code",
   "execution_count": 113,
   "metadata": {},
   "outputs": [],
   "source": [
    "ess_de[\"raw_hincsrca\"].fillna(4, inplace=True, limit=5)"
   ]
  },
  {
   "cell_type": "code",
   "execution_count": 114,
   "metadata": {},
   "outputs": [],
   "source": [
    "ess_de[\"raw_hincsrca\"].fillna(2, inplace=True, limit=3)"
   ]
  },
  {
   "cell_type": "code",
   "execution_count": 115,
   "metadata": {},
   "outputs": [
    {
     "name": "stdout",
     "output_type": "stream",
     "text": [
      "Main source of household income\n",
      "1.0    1749\n",
      "4.0     704\n",
      "2.0     202\n",
      "5.0      81\n",
      "6.0      50\n",
      "8.0      32\n",
      "7.0      24\n",
      "3.0      10\n",
      "Name: raw_hincsrca, dtype: int64\n"
     ]
    },
    {
     "data": {
      "image/png": "[encoded data removed]",
      "text/plain": [
       "<Figure size 432x288 with 1 Axes>"
      ]
     },
     "metadata": {},
     "output_type": "display_data"
    }
   ],
   "source": [
    "print(\"Main source of household income\")\n",
    "print(ess_de[\"raw_hincsrca\"].value_counts())\n",
    "sns.countplot(x='raw_hincsrca', data=ess_de, palette='Set2')\n",
    "plt.show()"
   ]
  },
  {
   "cell_type": "markdown",
   "metadata": {},
   "source": [
    "16 - hinctnta"
   ]
  },
  {
   "cell_type": "code",
   "execution_count": 116,
   "metadata": {},
   "outputs": [
    {
     "name": "stdout",
     "output_type": "stream",
     "text": [
      "Household's total net income, all sources\n",
      "8     327\n",
      "7     293\n",
      "9     279\n",
      "10    273\n",
      "4     271\n",
      "5     255\n",
      "6     237\n",
      "3     218\n",
      "1     202\n",
      "77    201\n",
      "2     192\n",
      "88    104\n",
      "Name: hinctnta, dtype: int64\n"
     ]
    },
    {
     "data": {
      "image/png": "[encoded data removed]",
      "text/plain": [
       "<Figure size 432x288 with 1 Axes>"
      ]
     },
     "metadata": {},
     "output_type": "display_data"
    }
   ],
   "source": [
    "print(\"Household's total net income, all sources\")\n",
    "print(ess_de[\"hinctnta\"].value_counts())\n",
    "sns.countplot(x='hinctnta', data=ess_de, palette='Set2')\n",
    "plt.show()"
   ]
  },
  {
   "cell_type": "code",
   "execution_count": 117,
   "metadata": {},
   "outputs": [],
   "source": [
    "raw_hinctnta = ess_de[\"hinctnta\"]"
   ]
  },
  {
   "cell_type": "code",
   "execution_count": 118,
   "metadata": {},
   "outputs": [],
   "source": [
    "raw_hinctnta = raw_hinctnta[raw_hinctnta.isin([77,88])==False]"
   ]
  },
  {
   "cell_type": "code",
   "execution_count": 119,
   "metadata": {},
   "outputs": [],
   "source": [
    "ess_de.insert(16, \"raw_hinctnta\", raw_hinctnta, True)"
   ]
  },
  {
   "cell_type": "code",
   "execution_count": 120,
   "metadata": {},
   "outputs": [
    {
     "data": {
      "text/plain": [
       "305"
      ]
     },
     "execution_count": 120,
     "metadata": {},
     "output_type": "execute_result"
    }
   ],
   "source": [
    "ess_de[\"raw_hinctnta\"].isnull().sum()"
   ]
  },
  {
   "cell_type": "code",
   "execution_count": 121,
   "metadata": {},
   "outputs": [],
   "source": [
    "# Weighted distribution of the null values across values\n",
    "\n",
    "ess_de[\"raw_hinctnta\"].fillna(8, inplace=True, limit=35)"
   ]
  },
  {
   "cell_type": "code",
   "execution_count": 122,
   "metadata": {},
   "outputs": [],
   "source": [
    "ess_de[\"raw_hinctnta\"].fillna(7, inplace=True, limit=30)"
   ]
  },
  {
   "cell_type": "code",
   "execution_count": 123,
   "metadata": {},
   "outputs": [],
   "source": [
    "ess_de[\"raw_hinctnta\"].fillna(9, inplace=True, limit=30)"
   ]
  },
  {
   "cell_type": "code",
   "execution_count": 124,
   "metadata": {},
   "outputs": [],
   "source": [
    "ess_de[\"raw_hinctnta\"].fillna(10, inplace=True, limit=30)"
   ]
  },
  {
   "cell_type": "code",
   "execution_count": 125,
   "metadata": {},
   "outputs": [],
   "source": [
    "ess_de[\"raw_hinctnta\"].fillna(4, inplace=True, limit=30)"
   ]
  },
  {
   "cell_type": "code",
   "execution_count": 126,
   "metadata": {},
   "outputs": [],
   "source": [
    "ess_de[\"raw_hinctnta\"].fillna(5, inplace=True, limit=30)"
   ]
  },
  {
   "cell_type": "code",
   "execution_count": 127,
   "metadata": {},
   "outputs": [],
   "source": [
    "ess_de[\"raw_hinctnta\"].fillna(6, inplace=True, limit=30)"
   ]
  },
  {
   "cell_type": "code",
   "execution_count": 128,
   "metadata": {},
   "outputs": [],
   "source": [
    "ess_de[\"raw_hinctnta\"].fillna(3, inplace=True, limit=30)"
   ]
  },
  {
   "cell_type": "code",
   "execution_count": 129,
   "metadata": {},
   "outputs": [],
   "source": [
    "ess_de[\"raw_hinctnta\"].fillna(2, inplace=True, limit=30)"
   ]
  },
  {
   "cell_type": "code",
   "execution_count": 130,
   "metadata": {},
   "outputs": [
    {
     "data": {
      "text/plain": [
       "30"
      ]
     },
     "execution_count": 130,
     "metadata": {},
     "output_type": "execute_result"
    }
   ],
   "source": [
    "ess_de[\"raw_hinctnta\"].isnull().sum()"
   ]
  },
  {
   "cell_type": "code",
   "execution_count": 131,
   "metadata": {},
   "outputs": [],
   "source": [
    "ess_de[\"raw_hinctnta\"].fillna(1, inplace=True)"
   ]
  },
  {
   "cell_type": "code",
   "execution_count": 132,
   "metadata": {},
   "outputs": [
    {
     "name": "stdout",
     "output_type": "stream",
     "text": [
      "Household's total net income, all sources\n",
      "8.0     362\n",
      "7.0     323\n",
      "9.0     309\n",
      "10.0    303\n",
      "4.0     301\n",
      "5.0     285\n",
      "6.0     267\n",
      "3.0     248\n",
      "1.0     232\n",
      "2.0     222\n",
      "Name: raw_hinctnta, dtype: int64\n"
     ]
    },
    {
     "data": {
      "image/png": "[encoded data removed]",
      "text/plain": [
       "<Figure size 432x288 with 1 Axes>"
      ]
     },
     "metadata": {},
     "output_type": "display_data"
    }
   ],
   "source": [
    "print(\"Household's total net income, all sources\")\n",
    "print(ess_de[\"raw_hinctnta\"].value_counts())\n",
    "sns.countplot(x='raw_hinctnta', data=ess_de, palette='Set2')\n",
    "plt.show()"
   ]
  },
  {
   "cell_type": "markdown",
   "metadata": {},
   "source": [
    "17 - ppltrst"
   ]
  },
  {
   "cell_type": "code",
   "execution_count": 133,
   "metadata": {},
   "outputs": [
    {
     "name": "stdout",
     "output_type": "stream",
     "text": [
      "Most people can be trusted or you can't be too careful\n",
      "5     604\n",
      "7     501\n",
      "6     377\n",
      "8     333\n",
      "4     326\n",
      "3     274\n",
      "2     145\n",
      "0     122\n",
      "9      65\n",
      "10     55\n",
      "1      46\n",
      "88      3\n",
      "77      1\n",
      "Name: ppltrst, dtype: int64\n"
     ]
    },
    {
     "data": {
      "image/png": "[encoded data removed]",
      "text/plain": [
       "<Figure size 432x288 with 1 Axes>"
      ]
     },
     "metadata": {},
     "output_type": "display_data"
    }
   ],
   "source": [
    "print(\"Most people can be trusted or you can't be too careful\")\n",
    "print(ess_de[\"ppltrst\"].value_counts())\n",
    "sns.countplot(x='ppltrst', data=ess_de, palette='Set2')\n",
    "plt.show()"
   ]
  },
  {
   "cell_type": "code",
   "execution_count": 134,
   "metadata": {},
   "outputs": [],
   "source": [
    "raw_ppltrst = ess_de[\"ppltrst\"]"
   ]
  },
  {
   "cell_type": "code",
   "execution_count": 135,
   "metadata": {},
   "outputs": [],
   "source": [
    "raw_ppltrst = raw_ppltrst[raw_ppltrst.isin([77,88])==False]"
   ]
  },
  {
   "cell_type": "code",
   "execution_count": 136,
   "metadata": {},
   "outputs": [],
   "source": [
    "ess_de.insert(17, \"raw_ppltrst\", raw_ppltrst, True)"
   ]
  },
  {
   "cell_type": "code",
   "execution_count": 137,
   "metadata": {},
   "outputs": [
    {
     "data": {
      "text/plain": [
       "4"
      ]
     },
     "execution_count": 137,
     "metadata": {},
     "output_type": "execute_result"
    }
   ],
   "source": [
    "ess_de.raw_ppltrst.isnull().sum()"
   ]
  },
  {
   "cell_type": "code",
   "execution_count": 138,
   "metadata": {},
   "outputs": [],
   "source": [
    "ess_de[\"raw_ppltrst\"].fillna(5, inplace=True)"
   ]
  },
  {
   "cell_type": "code",
   "execution_count": 139,
   "metadata": {},
   "outputs": [
    {
     "data": {
      "text/plain": [
       "0"
      ]
     },
     "execution_count": 139,
     "metadata": {},
     "output_type": "execute_result"
    }
   ],
   "source": [
    "ess_de.raw_ppltrst.isnull().sum()"
   ]
  },
  {
   "cell_type": "code",
   "execution_count": 140,
   "metadata": {},
   "outputs": [
    {
     "name": "stdout",
     "output_type": "stream",
     "text": [
      "Most people can be trusted or you can't be too careful\n",
      "5.0     608\n",
      "7.0     501\n",
      "6.0     377\n",
      "8.0     333\n",
      "4.0     326\n",
      "3.0     274\n",
      "2.0     145\n",
      "0.0     122\n",
      "9.0      65\n",
      "10.0     55\n",
      "1.0      46\n",
      "Name: raw_ppltrst, dtype: int64\n"
     ]
    },
    {
     "data": {
      "image/png": "[encoded data removed]",
      "text/plain": [
       "<Figure size 432x288 with 1 Axes>"
      ]
     },
     "metadata": {},
     "output_type": "display_data"
    }
   ],
   "source": [
    "print(\"Most people can be trusted or you can't be too careful\")\n",
    "print(ess_de[\"raw_ppltrst\"].value_counts())\n",
    "sns.countplot(x='raw_ppltrst', data=ess_de, palette='Set2')\n",
    "plt.show()"
   ]
  },
  {
   "cell_type": "markdown",
   "metadata": {},
   "source": [
    "18 - pplhlp"
   ]
  },
  {
   "cell_type": "code",
   "execution_count": 141,
   "metadata": {},
   "outputs": [
    {
     "name": "stdout",
     "output_type": "stream",
     "text": [
      "Most of the time people helpful or mostly looking out for themselves\n",
      "5     730\n",
      "7     464\n",
      "6     387\n",
      "4     336\n",
      "8     327\n",
      "3     279\n",
      "2     118\n",
      "9      81\n",
      "0      49\n",
      "10     44\n",
      "1      35\n",
      "88      2\n",
      "Name: pplhlp, dtype: int64\n"
     ]
    },
    {
     "data": {
      "image/png": "[encoded data removed]",
      "text/plain": [
       "<Figure size 432x288 with 1 Axes>"
      ]
     },
     "metadata": {},
     "output_type": "display_data"
    }
   ],
   "source": [
    "print(\"Most of the time people helpful or mostly looking out for themselves\")\n",
    "print(ess_de[\"pplhlp\"].value_counts())\n",
    "sns.countplot(x=\"pplhlp\", data=ess_de, palette='Set2')\n",
    "plt.show()"
   ]
  },
  {
   "cell_type": "code",
   "execution_count": 142,
   "metadata": {},
   "outputs": [],
   "source": [
    "raw_pplhlp  = ess_de[\"pplhlp\"]"
   ]
  },
  {
   "cell_type": "code",
   "execution_count": 143,
   "metadata": {},
   "outputs": [],
   "source": [
    "raw_pplhlp = raw_pplhlp[raw_pplhlp.isin([88])==False]"
   ]
  },
  {
   "cell_type": "code",
   "execution_count": 144,
   "metadata": {},
   "outputs": [],
   "source": [
    "ess_de.insert(18, \"raw_pplhlp\", raw_pplhlp, True)"
   ]
  },
  {
   "cell_type": "code",
   "execution_count": 145,
   "metadata": {},
   "outputs": [
    {
     "data": {
      "text/plain": [
       "2"
      ]
     },
     "execution_count": 145,
     "metadata": {},
     "output_type": "execute_result"
    }
   ],
   "source": [
    "ess_de.raw_pplhlp.isnull().sum()"
   ]
  },
  {
   "cell_type": "code",
   "execution_count": 146,
   "metadata": {},
   "outputs": [],
   "source": [
    "ess_de[\"raw_pplhlp\"].fillna(5, inplace=True)"
   ]
  },
  {
   "cell_type": "code",
   "execution_count": 147,
   "metadata": {},
   "outputs": [
    {
     "data": {
      "text/plain": [
       "0"
      ]
     },
     "execution_count": 147,
     "metadata": {},
     "output_type": "execute_result"
    }
   ],
   "source": [
    "ess_de.raw_pplhlp.isnull().sum()"
   ]
  },
  {
   "cell_type": "markdown",
   "metadata": {},
   "source": [
    "19 - pplfair"
   ]
  },
  {
   "cell_type": "code",
   "execution_count": 148,
   "metadata": {},
   "outputs": [
    {
     "name": "stdout",
     "output_type": "stream",
     "text": [
      "Most people try to take advantage of you, or try to be fair\n",
      "7     643\n",
      "5     527\n",
      "8     509\n",
      "6     365\n",
      "4     227\n",
      "9     183\n",
      "3     160\n",
      "2      85\n",
      "10     80\n",
      "0      46\n",
      "1      22\n",
      "88      5\n",
      "Name: pplfair, dtype: int64\n"
     ]
    },
    {
     "data": {
      "image/png": "[encoded data removed]",
      "text/plain": [
       "<Figure size 432x288 with 1 Axes>"
      ]
     },
     "metadata": {},
     "output_type": "display_data"
    }
   ],
   "source": [
    "print(\"Most people try to take advantage of you, or try to be fair\")\n",
    "print(ess_de[\"pplfair\"].value_counts())\n",
    "sns.countplot(x=\"pplfair\", data=ess_de, palette='Set2')\n",
    "plt.show()"
   ]
  },
  {
   "cell_type": "code",
   "execution_count": 149,
   "metadata": {},
   "outputs": [],
   "source": [
    "raw_pplfair = ess_de[\"pplfair\"]"
   ]
  },
  {
   "cell_type": "code",
   "execution_count": 150,
   "metadata": {},
   "outputs": [],
   "source": [
    "raw_pplfair = raw_pplfair[raw_pplfair.isin([88])==False]"
   ]
  },
  {
   "cell_type": "code",
   "execution_count": 151,
   "metadata": {},
   "outputs": [],
   "source": [
    "ess_de.insert(19, \"raw_pplfair\", raw_pplfair, True)"
   ]
  },
  {
   "cell_type": "code",
   "execution_count": 152,
   "metadata": {},
   "outputs": [
    {
     "data": {
      "text/plain": [
       "5"
      ]
     },
     "execution_count": 152,
     "metadata": {},
     "output_type": "execute_result"
    }
   ],
   "source": [
    "ess_de.raw_pplfair.isnull().sum()"
   ]
  },
  {
   "cell_type": "code",
   "execution_count": 153,
   "metadata": {},
   "outputs": [],
   "source": [
    "ess_de[\"raw_pplfair\"].fillna(7, inplace=True, limit = 3)"
   ]
  },
  {
   "cell_type": "code",
   "execution_count": 154,
   "metadata": {},
   "outputs": [],
   "source": [
    "ess_de[\"raw_pplfair\"].fillna(5, inplace=True)"
   ]
  },
  {
   "cell_type": "code",
   "execution_count": 155,
   "metadata": {},
   "outputs": [
    {
     "name": "stdout",
     "output_type": "stream",
     "text": [
      "Most people try to take advantage of you, or try to be fair\n",
      "7.0     646\n",
      "5.0     529\n",
      "8.0     509\n",
      "6.0     365\n",
      "4.0     227\n",
      "9.0     183\n",
      "3.0     160\n",
      "2.0      85\n",
      "10.0     80\n",
      "0.0      46\n",
      "1.0      22\n",
      "Name: raw_pplfair, dtype: int64\n"
     ]
    },
    {
     "data": {
      "image/png": "[encoded data removed]",
      "text/plain": [
       "<Figure size 432x288 with 1 Axes>"
      ]
     },
     "metadata": {},
     "output_type": "display_data"
    }
   ],
   "source": [
    "print(\"Most people try to take advantage of you, or try to be fair\")\n",
    "print(ess_de[\"raw_pplfair\"].value_counts())\n",
    "sns.countplot(x=\"raw_pplfair\", data=ess_de, palette='Set2')\n",
    "plt.show()"
   ]
  },
  {
   "cell_type": "markdown",
   "metadata": {},
   "source": [
    "20 - stflife"
   ]
  },
  {
   "cell_type": "code",
   "execution_count": 156,
   "metadata": {},
   "outputs": [
    {
     "name": "stdout",
     "output_type": "stream",
     "text": [
      "How satisfied with life as a whole\n",
      "8     822\n",
      "9     546\n",
      "7     440\n",
      "10    399\n",
      "5     217\n",
      "6     186\n",
      "3      82\n",
      "4      78\n",
      "2      38\n",
      "0      22\n",
      "1      16\n",
      "77      5\n",
      "88      1\n",
      "Name: stflife, dtype: int64\n"
     ]
    },
    {
     "data": {
      "image/png": "[encoded data removed]",
      "text/plain": [
       "<Figure size 432x288 with 1 Axes>"
      ]
     },
     "metadata": {},
     "output_type": "display_data"
    }
   ],
   "source": [
    "print(\"How satisfied with life as a whole\")\n",
    "print(ess_de[\"stflife\"].value_counts())\n",
    "sns.countplot(x=\"stflife\", data=ess_de, palette='Set2')\n",
    "plt.show()"
   ]
  },
  {
   "cell_type": "code",
   "execution_count": 157,
   "metadata": {},
   "outputs": [],
   "source": [
    "raw_stflife = ess_de[\"stflife\"]"
   ]
  },
  {
   "cell_type": "code",
   "execution_count": 158,
   "metadata": {},
   "outputs": [],
   "source": [
    "raw_stflife = raw_stflife[raw_stflife.isin([77,88])==False]"
   ]
  },
  {
   "cell_type": "code",
   "execution_count": 159,
   "metadata": {},
   "outputs": [],
   "source": [
    "ess_de.insert(20, \"raw_stflife\", raw_stflife, True)"
   ]
  },
  {
   "cell_type": "code",
   "execution_count": 160,
   "metadata": {},
   "outputs": [
    {
     "data": {
      "text/plain": [
       "6"
      ]
     },
     "execution_count": 160,
     "metadata": {},
     "output_type": "execute_result"
    }
   ],
   "source": [
    "ess_de.raw_stflife.isnull().sum()"
   ]
  },
  {
   "cell_type": "code",
   "execution_count": 161,
   "metadata": {},
   "outputs": [],
   "source": [
    "ess_de[\"raw_stflife\"].fillna(8, inplace = True, limit = 4)"
   ]
  },
  {
   "cell_type": "code",
   "execution_count": 162,
   "metadata": {},
   "outputs": [],
   "source": [
    "ess_de[\"raw_stflife\"].fillna(9, inplace = True, limit = 1)"
   ]
  },
  {
   "cell_type": "code",
   "execution_count": 163,
   "metadata": {},
   "outputs": [],
   "source": [
    "ess_de[\"raw_stflife\"].fillna(7, inplace = True)"
   ]
  },
  {
   "cell_type": "code",
   "execution_count": 164,
   "metadata": {},
   "outputs": [
    {
     "name": "stdout",
     "output_type": "stream",
     "text": [
      "How satisfied with life as a whole\n",
      "8.0     826\n",
      "9.0     547\n",
      "7.0     441\n",
      "10.0    399\n",
      "5.0     217\n",
      "6.0     186\n",
      "3.0      82\n",
      "4.0      78\n",
      "2.0      38\n",
      "0.0      22\n",
      "1.0      16\n",
      "Name: raw_stflife, dtype: int64\n"
     ]
    },
    {
     "data": {
      "image/png": "[encoded data removed]",
      "text/plain": [
       "<Figure size 432x288 with 1 Axes>"
      ]
     },
     "metadata": {},
     "output_type": "display_data"
    }
   ],
   "source": [
    "print(\"How satisfied with life as a whole\")\n",
    "print(ess_de[\"raw_stflife\"].value_counts())\n",
    "sns.countplot(x=\"raw_stflife\", data=ess_de, palette='Set2')\n",
    "plt.show()"
   ]
  },
  {
   "cell_type": "code",
   "execution_count": 165,
   "metadata": {},
   "outputs": [
    {
     "data": {
      "text/plain": [
       "2852"
      ]
     },
     "execution_count": 165,
     "metadata": {},
     "output_type": "execute_result"
    }
   ],
   "source": [
    "ess_de.raw_stflife.count()"
   ]
  },
  {
   "cell_type": "markdown",
   "metadata": {},
   "source": [
    "21 - happy"
   ]
  },
  {
   "cell_type": "code",
   "execution_count": 166,
   "metadata": {},
   "outputs": [
    {
     "name": "stdout",
     "output_type": "stream",
     "text": [
      "How happy are you\n",
      "8     958\n",
      "9     631\n",
      "7     442\n",
      "10    347\n",
      "5     170\n",
      "6     152\n",
      "4      58\n",
      "3      47\n",
      "2      22\n",
      "1      12\n",
      "0      10\n",
      "77      2\n",
      "88      1\n",
      "Name: happy, dtype: int64\n"
     ]
    },
    {
     "data": {
      "image/png": "[encoded data removed]",
      "text/plain": [
       "<Figure size 432x288 with 1 Axes>"
      ]
     },
     "metadata": {},
     "output_type": "display_data"
    }
   ],
   "source": [
    "print(\"How happy are you\")\n",
    "print(ess_de[\"happy\"].value_counts())\n",
    "sns.countplot(x=\"happy\", data=ess_de, palette='Set2')\n",
    "plt.show()"
   ]
  },
  {
   "cell_type": "code",
   "execution_count": 167,
   "metadata": {},
   "outputs": [],
   "source": [
    "raw_happy = ess_de[\"happy\"]"
   ]
  },
  {
   "cell_type": "code",
   "execution_count": 168,
   "metadata": {},
   "outputs": [],
   "source": [
    "ess_de.insert(21, \"raw_happy\", raw_happy, True)"
   ]
  },
  {
   "cell_type": "code",
   "execution_count": 169,
   "metadata": {},
   "outputs": [],
   "source": [
    "ess_de.loc[(ess_de.raw_happy == 77),'raw_happy'] = 8"
   ]
  },
  {
   "cell_type": "code",
   "execution_count": 170,
   "metadata": {},
   "outputs": [],
   "source": [
    "ess_de.loc[(ess_de.raw_happy == 88),'raw_happy'] = 8"
   ]
  },
  {
   "cell_type": "code",
   "execution_count": 171,
   "metadata": {},
   "outputs": [
    {
     "name": "stdout",
     "output_type": "stream",
     "text": [
      "How happy are you\n",
      "8     961\n",
      "9     631\n",
      "7     442\n",
      "10    347\n",
      "5     170\n",
      "6     152\n",
      "4      58\n",
      "3      47\n",
      "2      22\n",
      "1      12\n",
      "0      10\n",
      "Name: raw_happy, dtype: int64\n"
     ]
    },
    {
     "data": {
      "image/png": "[encoded data removed]",
      "text/plain": [
       "<Figure size 432x288 with 1 Axes>"
      ]
     },
     "metadata": {},
     "output_type": "display_data"
    }
   ],
   "source": [
    "print(\"How happy are you\")\n",
    "print(ess_de[\"raw_happy\"].value_counts())\n",
    "sns.countplot(x=\"raw_happy\", data=ess_de, palette='Set2')\n",
    "plt.show()"
   ]
  },
  {
   "cell_type": "markdown",
   "metadata": {},
   "source": [
    "22 - health"
   ]
  },
  {
   "cell_type": "code",
   "execution_count": 174,
   "metadata": {},
   "outputs": [
    {
     "name": "stdout",
     "output_type": "stream",
     "text": [
      "Subjective general health\n",
      "2    1243\n",
      "3     868\n",
      "1     465\n",
      "4     225\n",
      "5      48\n",
      "8       2\n",
      "7       1\n",
      "Name: health, dtype: int64\n"
     ]
    },
    {
     "data": {
      "image/png": "[encoded data removed]",
      "text/plain": [
       "<Figure size 432x288 with 1 Axes>"
      ]
     },
     "metadata": {},
     "output_type": "display_data"
    }
   ],
   "source": [
    "print(\"Subjective general health\")\n",
    "print(ess_de[\"health\"].value_counts())\n",
    "sns.countplot(x=\"health\", data=ess_de, palette='Set2')\n",
    "plt.show()"
   ]
  },
  {
   "cell_type": "code",
   "execution_count": 175,
   "metadata": {},
   "outputs": [],
   "source": [
    "raw_health = ess_de[\"health\"]"
   ]
  },
  {
   "cell_type": "code",
   "execution_count": 176,
   "metadata": {},
   "outputs": [],
   "source": [
    "ess_de.insert(22, \"raw_health\", raw_health, True)"
   ]
  },
  {
   "cell_type": "code",
   "execution_count": 177,
   "metadata": {},
   "outputs": [],
   "source": [
    "ess_de.loc[(ess_de.raw_health == 7),'raw_health'] = 2"
   ]
  },
  {
   "cell_type": "code",
   "execution_count": 178,
   "metadata": {},
   "outputs": [],
   "source": [
    "ess_de.loc[(ess_de.raw_health == 8),'raw_health'] = 2"
   ]
  },
  {
   "cell_type": "code",
   "execution_count": 179,
   "metadata": {},
   "outputs": [
    {
     "name": "stdout",
     "output_type": "stream",
     "text": [
      "Subjective general health\n",
      "2    1246\n",
      "3     868\n",
      "1     465\n",
      "4     225\n",
      "5      48\n",
      "Name: raw_health, dtype: int64\n"
     ]
    },
    {
     "data": {
      "image/png": "[encoded data removed]",
      "text/plain": [
       "<Figure size 432x288 with 1 Axes>"
      ]
     },
     "metadata": {},
     "output_type": "display_data"
    }
   ],
   "source": [
    "print(\"Subjective general health\")\n",
    "print(ess_de[\"raw_health\"].value_counts())\n",
    "sns.countplot(x=\"raw_health\", data=ess_de, palette='Set2')\n",
    "plt.show()"
   ]
  },
  {
   "cell_type": "markdown",
   "metadata": {},
   "source": [
    "23 - rlgblg"
   ]
  },
  {
   "cell_type": "code",
   "execution_count": 180,
   "metadata": {},
   "outputs": [
    {
     "name": "stdout",
     "output_type": "stream",
     "text": [
      "Belonging to particular religion or denomination\n",
      "1    1560\n",
      "2    1289\n",
      "8       3\n",
      "Name: rlgblg, dtype: int64\n"
     ]
    },
    {
     "data": {
      "image/png": "[encoded data removed]",
      "text/plain": [
       "<Figure size 432x288 with 1 Axes>"
      ]
     },
     "metadata": {},
     "output_type": "display_data"
    }
   ],
   "source": [
    "print(\"Belonging to particular religion or denomination\")\n",
    "print(ess_de[\"rlgblg\"].value_counts())\n",
    "sns.countplot(x=\"rlgblg\", data=ess_de, palette='Set2')\n",
    "plt.show()"
   ]
  },
  {
   "cell_type": "code",
   "execution_count": 181,
   "metadata": {},
   "outputs": [],
   "source": [
    "raw_rlgblg = ess_de[\"rlgblg\"]"
   ]
  },
  {
   "cell_type": "code",
   "execution_count": 182,
   "metadata": {},
   "outputs": [],
   "source": [
    "ess_de.insert(23, 'raw_rlgblg', raw_rlgblg, True )"
   ]
  },
  {
   "cell_type": "code",
   "execution_count": 183,
   "metadata": {},
   "outputs": [],
   "source": [
    "ess_de.loc[(ess_de.raw_rlgblg == 8),'raw_rlgblg'] = 1"
   ]
  },
  {
   "cell_type": "code",
   "execution_count": 184,
   "metadata": {},
   "outputs": [],
   "source": [
    "#Converting the varibale to binomial\n",
    "ess_de.loc[(ess_de.raw_rlgblg == 2),'raw_rlgblg'] = 0"
   ]
  },
  {
   "cell_type": "code",
   "execution_count": 185,
   "metadata": {},
   "outputs": [
    {
     "name": "stdout",
     "output_type": "stream",
     "text": [
      "Belonging to particular religion or denomination\n",
      "1    1563\n",
      "0    1289\n",
      "Name: raw_rlgblg, dtype: int64\n"
     ]
    },
    {
     "data": {
      "image/png": "[encoded data removed]",
      "text/plain": [
       "<Figure size 432x288 with 1 Axes>"
      ]
     },
     "metadata": {},
     "output_type": "display_data"
    }
   ],
   "source": [
    "print(\"Belonging to particular religion or denomination\")\n",
    "print(ess_de[\"raw_rlgblg\"].value_counts())\n",
    "sns.countplot(x=\"raw_rlgblg\", data=ess_de, palette='Set2')\n",
    "plt.show()"
   ]
  },
  {
   "cell_type": "markdown",
   "metadata": {},
   "source": [
    "24 - rlgdgr"
   ]
  },
  {
   "cell_type": "code",
   "execution_count": 186,
   "metadata": {},
   "outputs": [
    {
     "name": "stdout",
     "output_type": "stream",
     "text": [
      "Belonging to particular religion or denomination\n",
      "0     678\n",
      "5     397\n",
      "8     268\n",
      "7     264\n",
      "3     252\n",
      "6     245\n",
      "2     223\n",
      "1     171\n",
      "4     171\n",
      "10    104\n",
      "9      74\n",
      "77      3\n",
      "88      2\n",
      "Name: rlgdgr, dtype: int64\n"
     ]
    },
    {
     "data": {
      "image/png": "[encoded data removed]",
      "text/plain": [
       "<Figure size 432x288 with 1 Axes>"
      ]
     },
     "metadata": {},
     "output_type": "display_data"
    }
   ],
   "source": [
    "print(\"Belonging to particular religion or denomination\")\n",
    "print(ess_de[\"rlgdgr\"].value_counts())\n",
    "sns.countplot(x=\"rlgdgr\", data=ess_de, palette='Set2')\n",
    "plt.show()"
   ]
  },
  {
   "cell_type": "code",
   "execution_count": 187,
   "metadata": {},
   "outputs": [],
   "source": [
    "raw_rlgdgr = ess_de[\"rlgdgr\"]"
   ]
  },
  {
   "cell_type": "code",
   "execution_count": 188,
   "metadata": {},
   "outputs": [],
   "source": [
    "ess_de.insert(24, \"raw_rlgdgr\", raw_rlgdgr, True)"
   ]
  },
  {
   "cell_type": "code",
   "execution_count": 189,
   "metadata": {},
   "outputs": [],
   "source": [
    "ess_de.loc[(ess_de.raw_rlgdgr == 77)] = 0\n",
    "ess_de.loc[(ess_de.raw_rlgdgr == 88)] = 5"
   ]
  },
  {
   "cell_type": "code",
   "execution_count": 190,
   "metadata": {},
   "outputs": [
    {
     "name": "stdout",
     "output_type": "stream",
     "text": [
      "Belonging to particular religion or denomination\n",
      "0     681\n",
      "5     399\n",
      "8     268\n",
      "7     264\n",
      "3     252\n",
      "6     245\n",
      "2     223\n",
      "1     171\n",
      "4     171\n",
      "10    104\n",
      "9      74\n",
      "Name: raw_rlgdgr, dtype: int64\n"
     ]
    },
    {
     "data": {
      "image/png": "[encoded data removed]",
      "text/plain": [
       "<Figure size 432x288 with 1 Axes>"
      ]
     },
     "metadata": {},
     "output_type": "display_data"
    }
   ],
   "source": [
    "print(\"Belonging to particular religion or denomination\")\n",
    "print(ess_de[\"raw_rlgdgr\"].value_counts())\n",
    "sns.countplot(x=\"raw_rlgdgr\", data=ess_de, palette='Set2')\n",
    "plt.show()"
   ]
  },
  {
   "cell_type": "code",
   "execution_count": 193,
   "metadata": {},
   "outputs": [
    {
     "data": {
      "text/plain": [
       "2852"
      ]
     },
     "execution_count": 193,
     "metadata": {},
     "output_type": "execute_result"
    }
   ],
   "source": [
    "ess_de.raw_rlgdgr.count()"
   ]
  },
  {
   "cell_type": "markdown",
   "metadata": {},
   "source": [
    "25 - smdfslv"
   ]
  },
  {
   "cell_type": "code",
   "execution_count": 194,
   "metadata": {},
   "outputs": [
    {
     "name": "stdout",
     "output_type": "stream",
     "text": [
      "For fair society, differences in standard of living should be small\n",
      "2    1448\n",
      "3     625\n",
      "4     439\n",
      "1     287\n",
      "5      30\n",
      "8      18\n",
      "0       3\n",
      "7       2\n",
      "Name: smdfslv, dtype: int64\n"
     ]
    },
    {
     "data": {
      "image/png": "[encoded data removed]",
      "text/plain": [
       "<Figure size 432x288 with 1 Axes>"
      ]
     },
     "metadata": {},
     "output_type": "display_data"
    }
   ],
   "source": [
    "print(\"For fair society, differences in standard of living should be small\")\n",
    "print(ess_de[\"smdfslv\"].value_counts())\n",
    "sns.countplot(x=\"smdfslv\", data=ess_de, palette='Set2')\n",
    "plt.show()"
   ]
  },
  {
   "cell_type": "code",
   "execution_count": 195,
   "metadata": {},
   "outputs": [],
   "source": [
    "ess_de.loc[(ess_de.smdfslv == 7)] = 3\n",
    "ess_de.loc[(ess_de.smdfslv == 8)] = 2"
   ]
  },
  {
   "cell_type": "code",
   "execution_count": 197,
   "metadata": {},
   "outputs": [],
   "source": [
    "ess_de.loc[(ess_de.smdfslv == 0)] = 3"
   ]
  },
  {
   "cell_type": "code",
   "execution_count": 204,
   "metadata": {},
   "outputs": [
    {
     "name": "stdout",
     "output_type": "stream",
     "text": [
      "For fair society, differences in standard of living should be small\n",
      "2    1466\n",
      "3     630\n",
      "4     439\n",
      "1     287\n",
      "5      30\n",
      "Name: raw_smdfslv, dtype: int64\n"
     ]
    },
    {
     "data": {
      "image/png": "[encoded data removed]",
      "text/plain": [
       "<Figure size 432x288 with 1 Axes>"
      ]
     },
     "metadata": {},
     "output_type": "display_data"
    }
   ],
   "source": [
    "print(\"For fair society, differences in standard of living should be small\")\n",
    "print(ess_de[\"raw_smdfslv\"].value_counts())\n",
    "sns.countplot(x=\"raw_smdfslv\", data=ess_de, palette='Set2')\n",
    "plt.show()"
   ]
  },
  {
   "cell_type": "code",
   "execution_count": 205,
   "metadata": {},
   "outputs": [
    {
     "data": {
      "text/plain": [
       "0"
      ]
     },
     "execution_count": 205,
     "metadata": {},
     "output_type": "execute_result"
    }
   ],
   "source": [
    "ess_de.raw_smdfslv.isnull().sum()"
   ]
  },
  {
   "cell_type": "markdown",
   "metadata": {},
   "source": [
    "26 - ipeqopt"
   ]
  },
  {
   "cell_type": "code",
   "execution_count": 206,
   "metadata": {},
   "outputs": [
    {
     "name": "stdout",
     "output_type": "stream",
     "text": [
      "Important that people are treated equally and have equal opportunities\n",
      "2    1253\n",
      "1     889\n",
      "3     423\n",
      "4     132\n",
      "5     115\n",
      "6      23\n",
      "7      10\n",
      "8       7\n",
      "Name: ipeqopt, dtype: int64\n"
     ]
    },
    {
     "data": {
      "image/png": "[encoded data removed]",
      "text/plain": [
       "<Figure size 432x288 with 1 Axes>"
      ]
     },
     "metadata": {},
     "output_type": "display_data"
    }
   ],
   "source": [
    "print(\"Important that people are treated equally and have equal opportunities\")\n",
    "print(ess_de[\"ipeqopt\"].value_counts())\n",
    "sns.countplot(x=\"ipeqopt\", data=ess_de, palette='Set2')\n",
    "plt.show()"
   ]
  },
  {
   "cell_type": "code",
   "execution_count": 207,
   "metadata": {},
   "outputs": [],
   "source": [
    "ess_de.loc[(ess_de.ipeqopt == 7)] = 2\n",
    "ess_de.loc[(ess_de.ipeqopt == 8)] = 1"
   ]
  },
  {
   "cell_type": "code",
   "execution_count": 208,
   "metadata": {},
   "outputs": [],
   "source": [
    "raw_ipeqopt = ess_de[\"ipeqopt\"]"
   ]
  },
  {
   "cell_type": "code",
   "execution_count": 209,
   "metadata": {},
   "outputs": [],
   "source": [
    "ess_de.insert(26, \"raw_ipeqopt\", raw_ipeqopt, True)"
   ]
  },
  {
   "cell_type": "code",
   "execution_count": 210,
   "metadata": {},
   "outputs": [
    {
     "name": "stdout",
     "output_type": "stream",
     "text": [
      "Important that people are treated equally and have equal opportunities\n",
      "2    1263\n",
      "1     896\n",
      "3     423\n",
      "4     132\n",
      "5     115\n",
      "6      23\n",
      "Name: raw_ipeqopt, dtype: int64\n"
     ]
    },
    {
     "data": {
      "image/png": "[encoded data removed]",
      "text/plain": [
       "<Figure size 432x288 with 1 Axes>"
      ]
     },
     "metadata": {},
     "output_type": "display_data"
    }
   ],
   "source": [
    "print(\"Important that people are treated equally and have equal opportunities\")\n",
    "print(ess_de[\"raw_ipeqopt\"].value_counts())\n",
    "sns.countplot(x=\"raw_ipeqopt\", data=ess_de, palette='Set2')\n",
    "plt.show()"
   ]
  },
  {
   "cell_type": "markdown",
   "metadata": {},
   "source": [
    "27 - dfincac"
   ]
  },
  {
   "cell_type": "code",
   "execution_count": 222,
   "metadata": {},
   "outputs": [
    {
     "name": "stdout",
     "output_type": "stream",
     "text": [
      "Large differences in income acceptable to reward talents and efforts\n",
      "2.0    1301\n",
      "4.0     661\n",
      "3.0     539\n",
      "5.0     194\n",
      "1.0     157\n",
      "Name: raw_dfincac, dtype: int64\n"
     ]
    },
    {
     "data": {
      "image/png": "[encoded data removed]",
      "text/plain": [
       "<Figure size 432x288 with 1 Axes>"
      ]
     },
     "metadata": {},
     "output_type": "display_data"
    }
   ],
   "source": [
    "print(\"Large differences in income acceptable to reward talents and efforts\")\n",
    "print(ess_de[\"raw_dfincac\"].value_counts())\n",
    "sns.countplot(x=\"raw_dfincac\", data=ess_de, palette='Set2')\n",
    "plt.show()"
   ]
  },
  {
   "cell_type": "code",
   "execution_count": 216,
   "metadata": {},
   "outputs": [],
   "source": [
    "raw_dfincac = ess_de[\"dfincac\"]"
   ]
  },
  {
   "cell_type": "code",
   "execution_count": 217,
   "metadata": {},
   "outputs": [],
   "source": [
    "raw_dfincac = raw_dfincac[raw_dfincac.isin([8]) == False]"
   ]
  },
  {
   "cell_type": "code",
   "execution_count": 218,
   "metadata": {},
   "outputs": [],
   "source": [
    "ess_de.insert(27, \"raw_dfincac\", raw_dfincac, True)"
   ]
  },
  {
   "cell_type": "code",
   "execution_count": 219,
   "metadata": {},
   "outputs": [],
   "source": [
    "ess_de[\"raw_dfincac\"].fillna(2, inplace=True, limit=7)"
   ]
  },
  {
   "cell_type": "code",
   "execution_count": 220,
   "metadata": {},
   "outputs": [],
   "source": [
    "ess_de[\"raw_dfincac\"].fillna(4, inplace=True, limit=2)"
   ]
  },
  {
   "cell_type": "code",
   "execution_count": 221,
   "metadata": {},
   "outputs": [],
   "source": [
    "ess_de[\"raw_dfincac\"].fillna(3, inplace=True)"
   ]
  },
  {
   "cell_type": "code",
   "execution_count": 224,
   "metadata": {},
   "outputs": [
    {
     "data": {
      "text/plain": [
       "0"
      ]
     },
     "execution_count": 224,
     "metadata": {},
     "output_type": "execute_result"
    }
   ],
   "source": [
    "ess_de.raw_dfincac.isnull().sum()"
   ]
  },
  {
   "cell_type": "markdown",
   "metadata": {},
   "source": [
    "28 - gndr"
   ]
  },
  {
   "cell_type": "code",
   "execution_count": 225,
   "metadata": {},
   "outputs": [
    {
     "name": "stdout",
     "output_type": "stream",
     "text": [
      "Gender\n",
      "1    1494\n",
      "2    1351\n",
      "3       5\n",
      "5       2\n",
      "Name: gndr, dtype: int64\n"
     ]
    },
    {
     "data": {
      "image/png": "[encoded data removed]",
      "text/plain": [
       "<Figure size 432x288 with 1 Axes>"
      ]
     },
     "metadata": {},
     "output_type": "display_data"
    }
   ],
   "source": [
    "print(\"Gender\")\n",
    "print(ess_de[\"gndr\"].value_counts())\n",
    "sns.countplot(x=\"gndr\", data=ess_de, palette='Set2')\n",
    "plt.show()"
   ]
  },
  {
   "cell_type": "code",
   "execution_count": 226,
   "metadata": {},
   "outputs": [],
   "source": [
    "ess_de.loc[(ess_de.gndr == 3)] = 1\n",
    "ess_de.loc[(ess_de.gndr == 5)] = 2"
   ]
  },
  {
   "cell_type": "code",
   "execution_count": 230,
   "metadata": {},
   "outputs": [
    {
     "name": "stdout",
     "output_type": "stream",
     "text": [
      "Gender\n",
      "1    1499\n",
      "2    1353\n",
      "Name: raw_gndr, dtype: int64\n"
     ]
    },
    {
     "data": {
      "image/png": "[encoded data removed]",
      "text/plain": [
       "<Figure size 432x288 with 1 Axes>"
      ]
     },
     "metadata": {},
     "output_type": "display_data"
    }
   ],
   "source": [
    "print(\"Gender\")\n",
    "print(ess_de[\"raw_gndr\"].value_counts())\n",
    "sns.countplot(x=\"raw_gndr\", data=ess_de, palette='Set2')\n",
    "plt.show()"
   ]
  },
  {
   "cell_type": "code",
   "execution_count": 228,
   "metadata": {},
   "outputs": [],
   "source": [
    "raw_gndr = ess_de[\"gndr\"]"
   ]
  },
  {
   "cell_type": "code",
   "execution_count": 229,
   "metadata": {},
   "outputs": [],
   "source": [
    "ess_de.insert(28, \"raw_gndr\", raw_gndr)"
   ]
  },
  {
   "cell_type": "markdown",
   "metadata": {},
   "source": [
    "29 - agea"
   ]
  },
  {
   "cell_type": "code",
   "execution_count": 231,
   "metadata": {},
   "outputs": [
    {
     "data": {
      "text/plain": [
       "array([ 22,  58,  64,  52,  67,  73,  34,  40,  77,  30,  41,  70,  48,\n",
       "        44,  17,  33,  92,  53,  80,  31,  50,  26,   2,  85,  61,  42,\n",
       "        54,  36,  35,  72,  25,  63,  38,  32,  45,  16,  46,  68,  62,\n",
       "        74,  79,  65,  21,  55,  81,  76,  49,  28,   1,  59,  47,  27,\n",
       "        75,  66,  23,  20,  15,  39,  29,  43,  18,  19,  56,  69,  24,\n",
       "        60,  57,  78,  37,  71,  51,  84,  86,  82,  94,  88,  83,  87,\n",
       "        93, 999,  91,  90,  89])"
      ]
     },
     "execution_count": 231,
     "metadata": {},
     "output_type": "execute_result"
    }
   ],
   "source": [
    "ess_de[\"agea\"].unique()"
   ]
  },
  {
   "cell_type": "code",
   "execution_count": 233,
   "metadata": {},
   "outputs": [],
   "source": [
    "ess_de.loc[(ess_de.agea == 999)] = ess_de[\"agea\"].median"
   ]
  },
  {
   "cell_type": "code",
   "execution_count": 265,
   "metadata": {},
   "outputs": [
    {
     "data": {
      "text/plain": [
       "array([22, 58, 64, 52, 67, 73, 34, 40, 77, 30, 41, 70, 48, 44, 17, 33, 92,\n",
       "       53, 80, 31, 50, 26, 2, 85, 61, 42, 54, 36, 35, 72, 25, 63, 38, 32,\n",
       "       45, 16, 46, 68, 62, 74, 79, 65, 21, 55, 81, 76, 49, 28, 1, 59, 47,\n",
       "       27, 75, 66, 23, 20, 15, 39, 29, 43, 18, 19, 56, 69, 24, 60, 57, 78,\n",
       "       37, 71, 51, 84, 86, 82, 94, 88, 83, 87, 93,\n",
       "       <bound method Series.median of 0       22\n",
       "1       58\n",
       "2       64\n",
       "3       52\n",
       "4       67\n",
       "        ..\n",
       "2847    42\n",
       "2848    38\n",
       "2849    21\n",
       "2850    65\n",
       "2851    61\n",
       "Name: agea, Length: 2852, dtype: int64>,\n",
       "       91, 90, 89,\n",
       "       <bound method Series.median of 0       12\n",
       "1       10\n",
       "2       12\n",
       "3       10\n",
       "4       19\n",
       "        ..\n",
       "2847    14\n",
       "2848    15\n",
       "2849    14\n",
       "2850    15\n",
       "2851    13\n",
       "Name: eduyrs, Length: 2852, dtype: object>], dtype=object)"
      ]
     },
     "execution_count": 265,
     "metadata": {},
     "output_type": "execute_result"
    }
   ],
   "source": [
    "#burda da ikinci kez aşağıdaki kodu koşunca aşağıya eduyrs ekledi.. oysaki o başka bir columns\n",
    "\n",
    "\n",
    "ess_de[\"raw_agea\"].unique()"
   ]
  },
  {
   "cell_type": "code",
   "execution_count": 235,
   "metadata": {},
   "outputs": [],
   "source": [
    "raw_agea = ess_de[\"agea\"]"
   ]
  },
  {
   "cell_type": "code",
   "execution_count": 236,
   "metadata": {},
   "outputs": [],
   "source": [
    "ess_de.insert(29, \"raw_agea\", raw_agea)"
   ]
  },
  {
   "cell_type": "code",
   "execution_count": 238,
   "metadata": {},
   "outputs": [
    {
     "data": {
      "text/plain": [
       "2852"
      ]
     },
     "execution_count": 238,
     "metadata": {},
     "output_type": "execute_result"
    }
   ],
   "source": [
    "ess_de[\"raw_agea\"].count()"
   ]
  },
  {
   "cell_type": "markdown",
   "metadata": {},
   "source": [
    "30 - eduyrs"
   ]
  },
  {
   "cell_type": "code",
   "execution_count": 239,
   "metadata": {},
   "outputs": [],
   "source": [
    "ess_de.loc[(ess_de.eduyrs == 77)] = ess_de.eduyrs.median\n",
    "ess_de.loc[(ess_de.eduyrs == 88)] = ess_de.eduyrs.median\n",
    "ess_de.loc[(ess_de.eduyrs == 99)] = ess_de.eduyrs.median"
   ]
  },
  {
   "cell_type": "code",
   "execution_count": 241,
   "metadata": {},
   "outputs": [],
   "source": [
    "raw_eduyrs = ess_de[\"eduyrs\"]"
   ]
  },
  {
   "cell_type": "code",
   "execution_count": 242,
   "metadata": {},
   "outputs": [],
   "source": [
    "ess_de.insert(30, \"raw_eduyrs\", raw_eduyrs)"
   ]
  },
  {
   "cell_type": "markdown",
   "metadata": {},
   "source": [
    "31 - sbstrec"
   ]
  },
  {
   "cell_type": "code",
   "execution_count": null,
   "metadata": {},
   "outputs": [],
   "source": [
    "#unique metodundan name:agea niye dönüyor"
   ]
  },
  {
   "cell_type": "code",
   "execution_count": null,
   "metadata": {},
   "outputs": [],
   "source": []
  },
  {
   "cell_type": "code",
   "execution_count": null,
   "metadata": {},
   "outputs": [],
   "source": []
  },
  {
   "cell_type": "code",
   "execution_count": null,
   "metadata": {},
   "outputs": [],
   "source": []
  },
  {
   "cell_type": "code",
   "execution_count": 261,
   "metadata": {},
   "outputs": [
    {
     "data": {
      "text/plain": [
       "array([5, 3, 1, 4, 2, 8,\n",
       "       <bound method Series.median of 0       22\n",
       "1       58\n",
       "2       64\n",
       "3       52\n",
       "4       67\n",
       "        ..\n",
       "2847    42\n",
       "2848    38\n",
       "2849    21\n",
       "2850    65\n",
       "2851    61\n",
       "Name: agea, Length: 2852, dtype: int64>,\n",
       "       <bound method Series.median of 0       12\n",
       "1       10\n",
       "2       12\n",
       "3       10\n",
       "4       19\n",
       "        ..\n",
       "2847    14\n",
       "2848    15\n",
       "2849    14\n",
       "2850    15\n",
       "2851    13\n",
       "Name: eduyrs, Length: 2852, dtype: object>], dtype=object)"
      ]
     },
     "execution_count": 261,
     "metadata": {},
     "output_type": "execute_result"
    }
   ],
   "source": [
    "ess_de.sbstrec.unique()"
   ]
  },
  {
   "cell_type": "code",
   "execution_count": null,
   "metadata": {},
   "outputs": [],
   "source": [
    "ess_de.loc[(ess_de.sbstrec == 8)] = "
   ]
  },
  {
   "cell_type": "code",
   "execution_count": null,
   "metadata": {},
   "outputs": [],
   "source": [
    "ess_de.loc[(ess_de.sbstrec == 7)] = \n",
    "\n",
    "ess_de.loc[(ess_de.sbstrec == 9)] = "
   ]
  },
  {
   "cell_type": "code",
   "execution_count": null,
   "metadata": {},
   "outputs": [],
   "source": []
  },
  {
   "cell_type": "code",
   "execution_count": null,
   "metadata": {},
   "outputs": [],
   "source": []
  },
  {
   "cell_type": "code",
   "execution_count": null,
   "metadata": {},
   "outputs": [],
   "source": []
  },
  {
   "cell_type": "code",
   "execution_count": null,
   "metadata": {},
   "outputs": [],
   "source": []
  },
  {
   "cell_type": "code",
   "execution_count": null,
   "metadata": {},
   "outputs": [],
   "source": []
  },
  {
   "cell_type": "code",
   "execution_count": null,
   "metadata": {},
   "outputs": [],
   "source": []
  },
  {
   "cell_type": "code",
   "execution_count": 362,
   "metadata": {},
   "outputs": [],
   "source": [
    "raw_sbstrec = ess_cont[\"sbstrec\"]"
   ]
  },
  {
   "cell_type": "code",
   "execution_count": 363,
   "metadata": {},
   "outputs": [],
   "source": [
    "raw_sbstrec = raw_sbstrec[raw_sbstrec.isin([8])==False]"
   ]
  },
  {
   "cell_type": "code",
   "execution_count": 364,
   "metadata": {},
   "outputs": [],
   "source": [
    "ess_de.insert(31, \"raw_sbstrec\", raw_sbstrec, True)"
   ]
  },
  {
   "cell_type": "code",
   "execution_count": 369,
   "metadata": {},
   "outputs": [
    {
     "data": {
      "text/plain": [
       "0"
      ]
     },
     "execution_count": 369,
     "metadata": {},
     "output_type": "execute_result"
    }
   ],
   "source": [
    "ess_de.raw_sbstrec.isnull().sum()"
   ]
  },
  {
   "cell_type": "code",
   "execution_count": 366,
   "metadata": {},
   "outputs": [],
   "source": [
    "ess_de[\"raw_sbstrec\"].fillna(4, inplace=True, limit=30)"
   ]
  },
  {
   "cell_type": "code",
   "execution_count": 367,
   "metadata": {},
   "outputs": [],
   "source": [
    "ess_de[\"raw_sbstrec\"].fillna(3, inplace=True, limit=15)"
   ]
  },
  {
   "cell_type": "code",
   "execution_count": 368,
   "metadata": {},
   "outputs": [],
   "source": [
    "ess_de[\"raw_sbstrec\"].fillna(2, inplace=True, limit=10)"
   ]
  },
  {
   "cell_type": "code",
   "execution_count": 370,
   "metadata": {},
   "outputs": [
    {
     "name": "stdout",
     "output_type": "stream",
     "text": [
      "4                                                                                                                                                                                                                951\n",
      "3                                                                                                                                                                                                                857\n",
      "2                                                                                                                                                                                                                706\n",
      "5                                                                                                                                                                                                                208\n",
      "1                                                                                                                                                                                                                 72\n",
      "8                                                                                                                                                                                                                 55\n",
      "<bound method Series.median of 0       22\\n1       58\\n2       64\\n3       52\\n4       67\\n        ..\\n2847    42\\n2848    38\\n2849    21\\n2850    65\\n2851    61\\nName: agea, Length: 2852, dtype: int64>         2\n",
      "<bound method Series.median of 0       12\\n1       10\\n2       12\\n3       10\\n4       19\\n        ..\\n2847    14\\n2848    15\\n2849    14\\n2850    15\\n2851    13\\nName: eduyrs, Length: 2852, dtype: object>      1\n",
      "Name: sbstrec, dtype: int64\n"
     ]
    },
    {
     "data": {
      "image/png": "[encoded data removed]",
      "text/plain": [
       "<Figure size 432x288 with 1 Axes>"
      ]
     },
     "metadata": {},
     "output_type": "display_data"
    }
   ],
   "source": [
    "print(ess_cont[\"sbstrec\"].value_counts())\n",
    "sns.countplot(x=\"sbstrec\", data=ess_cont, palette='Set2')\n",
    "plt.show()"
   ]
  },
  {
   "cell_type": "markdown",
   "metadata": {},
   "source": [
    "32 - sbprvpv"
   ]
  },
  {
   "cell_type": "code",
   "execution_count": 371,
   "metadata": {},
   "outputs": [
    {
     "name": "stdout",
     "output_type": "stream",
     "text": [
      "Social benefits/services prevent widespread poverty\n",
      "2                                                                                                                                                                                                                1767\n",
      "3                                                                                                                                                                                                                 485\n",
      "4                                                                                                                                                                                                                 300\n",
      "1                                                                                                                                                                                                                 218\n",
      "5                                                                                                                                                                                                                  48\n",
      "8                                                                                                                                                                                                                  31\n",
      "<bound method Series.median of 0       22\\n1       58\\n2       64\\n3       52\\n4       67\\n        ..\\n2847    42\\n2848    38\\n2849    21\\n2850    65\\n2851    61\\nName: agea, Length: 2852, dtype: int64>          2\n",
      "<bound method Series.median of 0       12\\n1       10\\n2       12\\n3       10\\n4       19\\n        ..\\n2847    14\\n2848    15\\n2849    14\\n2850    15\\n2851    13\\nName: eduyrs, Length: 2852, dtype: object>       1\n",
      "Name: sbprvpv, dtype: int64\n"
     ]
    },
    {
     "data": {
      "image/png": "[encoded data removed]",
      "text/plain": [
       "<Figure size 432x288 with 1 Axes>"
      ]
     },
     "metadata": {},
     "output_type": "display_data"
    }
   ],
   "source": [
    "print('Social benefits/services prevent widespread poverty')\n",
    "print(ess_cont['sbprvpv'].value_counts())\n",
    "sns.countplot(x='sbprvpv', data=ess_cont, palette='Set2')\n",
    "plt.show()"
   ]
  },
  {
   "cell_type": "code",
   "execution_count": 372,
   "metadata": {},
   "outputs": [
    {
     "name": "stdout",
     "output_type": "stream",
     "text": [
      "Social benefits/services prevent widespread poverty\n",
      "1    1777\n",
      "0     471\n",
      "2     391\n",
      "3     144\n",
      "4      55\n",
      "5       7\n",
      "8       7\n",
      "Name: sbprvpv, dtype: int64\n"
     ]
    },
    {
     "data": {
      "image/png": "[encoded data removed]",
      "text/plain": [
       "<Figure size 432x288 with 1 Axes>"
      ]
     },
     "metadata": {},
     "output_type": "display_data"
    }
   ],
   "source": [
    "print(\"Social benefits/services prevent widespread poverty\")\n",
    "print(ess_de[\"sbprvpv\"].value_counts())\n",
    "sns.countplot(x='sbprvpv', data=ess_de, palette='Set2')\n",
    "plt.show()"
   ]
  },
  {
   "cell_type": "code",
   "execution_count": 373,
   "metadata": {},
   "outputs": [
    {
     "name": "stdout",
     "output_type": "stream",
     "text": [
      "1    1833\n",
      "0     471\n",
      "2     295\n",
      "3     168\n",
      "4      78\n",
      "5       7\n",
      "Name: raw_gincdif, dtype: int64\n"
     ]
    },
    {
     "data": {
      "image/png": "[encoded data removed]",
      "text/plain": [
       "<Figure size 432x288 with 1 Axes>"
      ]
     },
     "metadata": {},
     "output_type": "display_data"
    }
   ],
   "source": [
    "print(ess_de[\"raw_gincdif\"].value_counts())\n",
    "sns.countplot(x='raw_gincdif', data=ess_de, palette='Set2')\n",
    "plt.show()"
   ]
  },
  {
   "cell_type": "code",
   "execution_count": 374,
   "metadata": {},
   "outputs": [
    {
     "name": "stdout",
     "output_type": "stream",
     "text": [
      "1     1749\n",
      "0      487\n",
      "8      116\n",
      "7       98\n",
      "6       96\n",
      "5       89\n",
      "3       62\n",
      "9       56\n",
      "4       54\n",
      "10      23\n",
      "2       22\n",
      "Name: raw_stfdem, dtype: int64\n"
     ]
    },
    {
     "data": {
      "image/png": "[encoded data removed]",
      "text/plain": [
       "<Figure size 432x288 with 1 Axes>"
      ]
     },
     "metadata": {},
     "output_type": "display_data"
    }
   ],
   "source": [
    "print(ess_de[\"raw_stfdem\"].value_counts())\n",
    "sns.countplot(x='raw_stfdem', data=ess_de, palette='Set2')\n",
    "plt.show()"
   ]
  },
  {
   "cell_type": "code",
   "execution_count": null,
   "metadata": {},
   "outputs": [],
   "source": []
  },
  {
   "cell_type": "code",
   "execution_count": null,
   "metadata": {},
   "outputs": [],
   "source": []
  },
  {
   "cell_type": "code",
   "execution_count": null,
   "metadata": {},
   "outputs": [],
   "source": []
  },
  {
   "cell_type": "code",
   "execution_count": null,
   "metadata": {},
   "outputs": [],
   "source": []
  },
  {
   "cell_type": "code",
   "execution_count": null,
   "metadata": {},
   "outputs": [],
   "source": []
  },
  {
   "cell_type": "code",
   "execution_count": null,
   "metadata": {},
   "outputs": [],
   "source": []
  },
  {
   "cell_type": "code",
   "execution_count": null,
   "metadata": {},
   "outputs": [],
   "source": []
  },
  {
   "cell_type": "code",
   "execution_count": null,
   "metadata": {},
   "outputs": [],
   "source": []
  },
  {
   "cell_type": "code",
   "execution_count": null,
   "metadata": {},
   "outputs": [],
   "source": []
  },
  {
   "cell_type": "code",
   "execution_count": null,
   "metadata": {},
   "outputs": [],
   "source": []
  },
  {
   "cell_type": "code",
   "execution_count": null,
   "metadata": {},
   "outputs": [],
   "source": []
  },
  {
   "cell_type": "code",
   "execution_count": null,
   "metadata": {},
   "outputs": [],
   "source": []
  },
  {
   "cell_type": "code",
   "execution_count": null,
   "metadata": {},
   "outputs": [],
   "source": []
  },
  {
   "cell_type": "code",
   "execution_count": null,
   "metadata": {},
   "outputs": [],
   "source": []
  },
  {
   "cell_type": "code",
   "execution_count": null,
   "metadata": {},
   "outputs": [],
   "source": []
  },
  {
   "cell_type": "code",
   "execution_count": null,
   "metadata": {},
   "outputs": [],
   "source": []
  },
  {
   "cell_type": "code",
   "execution_count": null,
   "metadata": {},
   "outputs": [],
   "source": []
  },
  {
   "cell_type": "code",
   "execution_count": null,
   "metadata": {},
   "outputs": [],
   "source": []
  },
  {
   "cell_type": "code",
   "execution_count": null,
   "metadata": {},
   "outputs": [],
   "source": []
  },
  {
   "cell_type": "code",
   "execution_count": null,
   "metadata": {},
   "outputs": [],
   "source": []
  },
  {
   "cell_type": "code",
   "execution_count": null,
   "metadata": {},
   "outputs": [],
   "source": []
  },
  {
   "cell_type": "code",
   "execution_count": null,
   "metadata": {},
   "outputs": [],
   "source": []
  },
  {
   "cell_type": "code",
   "execution_count": null,
   "metadata": {},
   "outputs": [],
   "source": []
  },
  {
   "cell_type": "code",
   "execution_count": null,
   "metadata": {},
   "outputs": [],
   "source": []
  },
  {
   "cell_type": "code",
   "execution_count": null,
   "metadata": {},
   "outputs": [],
   "source": []
  },
  {
   "cell_type": "code",
   "execution_count": null,
   "metadata": {},
   "outputs": [],
   "source": []
  },
  {
   "cell_type": "code",
   "execution_count": null,
   "metadata": {},
   "outputs": [],
   "source": []
  },
  {
   "cell_type": "code",
   "execution_count": null,
   "metadata": {},
   "outputs": [],
   "source": []
  },
  {
   "cell_type": "code",
   "execution_count": null,
   "metadata": {},
   "outputs": [],
   "source": []
  },
  {
   "cell_type": "code",
   "execution_count": null,
   "metadata": {},
   "outputs": [],
   "source": []
  },
  {
   "cell_type": "code",
   "execution_count": null,
   "metadata": {},
   "outputs": [],
   "source": []
  },
  {
   "cell_type": "code",
   "execution_count": null,
   "metadata": {},
   "outputs": [],
   "source": []
  },
  {
   "cell_type": "code",
   "execution_count": null,
   "metadata": {},
   "outputs": [],
   "source": []
  },
  {
   "cell_type": "code",
   "execution_count": null,
   "metadata": {},
   "outputs": [],
   "source": []
  },
  {
   "cell_type": "code",
   "execution_count": null,
   "metadata": {},
   "outputs": [],
   "source": []
  },
  {
   "cell_type": "code",
   "execution_count": null,
   "metadata": {},
   "outputs": [],
   "source": []
  },
  {
   "cell_type": "code",
   "execution_count": null,
   "metadata": {},
   "outputs": [],
   "source": []
  },
  {
   "cell_type": "code",
   "execution_count": null,
   "metadata": {},
   "outputs": [],
   "source": []
  },
  {
   "cell_type": "code",
   "execution_count": null,
   "metadata": {},
   "outputs": [],
   "source": []
  },
  {
   "cell_type": "code",
   "execution_count": null,
   "metadata": {},
   "outputs": [],
   "source": []
  },
  {
   "cell_type": "code",
   "execution_count": null,
   "metadata": {},
   "outputs": [],
   "source": []
  },
  {
   "cell_type": "code",
   "execution_count": null,
   "metadata": {},
   "outputs": [],
   "source": []
  },
  {
   "cell_type": "code",
   "execution_count": null,
   "metadata": {},
   "outputs": [],
   "source": []
  },
  {
   "cell_type": "code",
   "execution_count": null,
   "metadata": {},
   "outputs": [],
   "source": []
  },
  {
   "cell_type": "code",
   "execution_count": null,
   "metadata": {},
   "outputs": [],
   "source": []
  },
  {
   "cell_type": "code",
   "execution_count": null,
   "metadata": {},
   "outputs": [],
   "source": []
  },
  {
   "cell_type": "code",
   "execution_count": null,
   "metadata": {},
   "outputs": [],
   "source": []
  },
  {
   "cell_type": "code",
   "execution_count": null,
   "metadata": {},
   "outputs": [],
   "source": []
  },
  {
   "cell_type": "code",
   "execution_count": null,
   "metadata": {},
   "outputs": [],
   "source": []
  },
  {
   "cell_type": "code",
   "execution_count": null,
   "metadata": {},
   "outputs": [],
   "source": []
  },
  {
   "cell_type": "code",
   "execution_count": null,
   "metadata": {},
   "outputs": [],
   "source": []
  },
  {
   "cell_type": "code",
   "execution_count": null,
   "metadata": {},
   "outputs": [],
   "source": []
  },
  {
   "cell_type": "code",
   "execution_count": null,
   "metadata": {},
   "outputs": [],
   "source": []
  },
  {
   "cell_type": "code",
   "execution_count": null,
   "metadata": {},
   "outputs": [],
   "source": []
  },
  {
   "cell_type": "code",
   "execution_count": null,
   "metadata": {},
   "outputs": [],
   "source": []
  },
  {
   "cell_type": "code",
   "execution_count": null,
   "metadata": {},
   "outputs": [],
   "source": []
  },
  {
   "cell_type": "code",
   "execution_count": null,
   "metadata": {},
   "outputs": [],
   "source": []
  },
  {
   "cell_type": "code",
   "execution_count": null,
   "metadata": {},
   "outputs": [],
   "source": []
  },
  {
   "cell_type": "code",
   "execution_count": null,
   "metadata": {},
   "outputs": [],
   "source": []
  },
  {
   "cell_type": "code",
   "execution_count": null,
   "metadata": {},
   "outputs": [],
   "source": []
  }
 ],
 "metadata": {
  "kernelspec": {
   "display_name": "Python 3",
   "language": "python",
   "name": "python3"
  },
  "language_info": {
   "codemirror_mode": {
    "name": "ipython",
    "version": 3
   },
   "file_extension": ".py",
   "mimetype": "text/x-python",
   "name": "python",
   "nbconvert_exporter": "python",
   "pygments_lexer": "ipython3",
   "version": "3.8.5"
  }
 },
 "nbformat": 4,
 "nbformat_minor": 4
}
